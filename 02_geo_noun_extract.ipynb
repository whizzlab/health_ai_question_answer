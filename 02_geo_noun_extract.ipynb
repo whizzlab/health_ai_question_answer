{
 "cells": [
  {
   "cell_type": "code",
   "execution_count": 1,
   "id": "9542a253",
   "metadata": {},
   "outputs": [],
   "source": [
    "import pandas as pd\n",
    "import numpy as np\n",
    "from tqdm.notebook import tqdm"
   ]
  },
  {
   "cell_type": "markdown",
   "id": "dd51feb3",
   "metadata": {},
   "source": [
    "# import datasets"
   ]
  },
  {
   "cell_type": "code",
   "execution_count": 2,
   "id": "ad775c7e",
   "metadata": {},
   "outputs": [
    {
     "data": {
      "text/plain": [
       "28703"
      ]
     },
     "execution_count": 2,
     "metadata": {},
     "output_type": "execute_result"
    }
   ],
   "source": [
    "all_abstracts = pd.read_csv('data/included_abstracts.csv', index_col = 0)\n",
    "\n",
    "all_abstracts['article_date'] = pd.to_datetime(all_abstracts['article_date'])\n",
    "decade_df = all_abstracts[(all_abstracts['article_date'] > '2012-01-01') & (all_abstracts['article_date'] <'2022-01-01')]\n",
    "len(decade_df)"
   ]
  },
  {
   "cell_type": "code",
   "execution_count": 3,
   "id": "6ca1054e",
   "metadata": {},
   "outputs": [
    {
     "data": {
      "text/plain": [
       "27252"
      ]
     },
     "execution_count": 3,
     "metadata": {},
     "output_type": "execute_result"
    }
   ],
   "source": [
    "methods_df = pd.read_csv('output/methods_scored.csv', index_col = 0)\n",
    "len(methods_df)"
   ]
  },
  {
   "cell_type": "code",
   "execution_count": 4,
   "id": "22b80652",
   "metadata": {},
   "outputs": [
    {
     "data": {
      "text/html": [
       "<div>\n",
       "<style scoped>\n",
       "    .dataframe tbody tr th:only-of-type {\n",
       "        vertical-align: middle;\n",
       "    }\n",
       "\n",
       "    .dataframe tbody tr th {\n",
       "        vertical-align: top;\n",
       "    }\n",
       "\n",
       "    .dataframe thead th {\n",
       "        text-align: right;\n",
       "    }\n",
       "</style>\n",
       "<table border=\"1\" class=\"dataframe\">\n",
       "  <thead>\n",
       "    <tr style=\"text-align: right;\">\n",
       "      <th></th>\n",
       "      <th>pmid</th>\n",
       "      <th>title</th>\n",
       "      <th>methods</th>\n",
       "      <th>sample_answer</th>\n",
       "      <th>sample_score</th>\n",
       "      <th>database_answer</th>\n",
       "      <th>database_score</th>\n",
       "      <th>organisation_answer</th>\n",
       "      <th>organisation_score</th>\n",
       "    </tr>\n",
       "  </thead>\n",
       "  <tbody>\n",
       "    <tr>\n",
       "      <th>12</th>\n",
       "      <td>34911053</td>\n",
       "      <td>Automated segmentation of metal stent and bior...</td>\n",
       "      <td></td>\n",
       "      <td>a</td>\n",
       "      <td>NaN</td>\n",
       "      <td>a</td>\n",
       "      <td>NaN</td>\n",
       "      <td>a</td>\n",
       "      <td>NaN</td>\n",
       "    </tr>\n",
       "    <tr>\n",
       "      <th>19</th>\n",
       "      <td>34905733</td>\n",
       "      <td>Weakly-supervised lesion analysis with a CNN-b...</td>\n",
       "      <td></td>\n",
       "      <td>a</td>\n",
       "      <td>NaN</td>\n",
       "      <td>a</td>\n",
       "      <td>NaN</td>\n",
       "      <td>a</td>\n",
       "      <td>NaN</td>\n",
       "    </tr>\n",
       "    <tr>\n",
       "      <th>77</th>\n",
       "      <td>34883471</td>\n",
       "      <td>CARL: a running recognition algorithm for free...</td>\n",
       "      <td></td>\n",
       "      <td>a</td>\n",
       "      <td>NaN</td>\n",
       "      <td>a</td>\n",
       "      <td>NaN</td>\n",
       "      <td>a</td>\n",
       "      <td>NaN</td>\n",
       "    </tr>\n",
       "    <tr>\n",
       "      <th>81</th>\n",
       "      <td>34847543</td>\n",
       "      <td>Robust wave-feature adaptive heartbeat classif...</td>\n",
       "      <td></td>\n",
       "      <td>a</td>\n",
       "      <td>NaN</td>\n",
       "      <td>a</td>\n",
       "      <td>NaN</td>\n",
       "      <td>a</td>\n",
       "      <td>NaN</td>\n",
       "    </tr>\n",
       "    <tr>\n",
       "      <th>106</th>\n",
       "      <td>34823230</td>\n",
       "      <td>A novel single-lead handheld atrial fibrillati...</td>\n",
       "      <td></td>\n",
       "      <td>a</td>\n",
       "      <td>NaN</td>\n",
       "      <td>a</td>\n",
       "      <td>NaN</td>\n",
       "      <td>a</td>\n",
       "      <td>NaN</td>\n",
       "    </tr>\n",
       "  </tbody>\n",
       "</table>\n",
       "</div>"
      ],
      "text/plain": [
       "         pmid                                              title methods  \\\n",
       "12   34911053  Automated segmentation of metal stent and bior...           \n",
       "19   34905733  Weakly-supervised lesion analysis with a CNN-b...           \n",
       "77   34883471  CARL: a running recognition algorithm for free...           \n",
       "81   34847543  Robust wave-feature adaptive heartbeat classif...           \n",
       "106  34823230  A novel single-lead handheld atrial fibrillati...           \n",
       "\n",
       "    sample_answer  sample_score database_answer  database_score  \\\n",
       "12              a           NaN               a             NaN   \n",
       "19              a           NaN               a             NaN   \n",
       "77              a           NaN               a             NaN   \n",
       "81              a           NaN               a             NaN   \n",
       "106             a           NaN               a             NaN   \n",
       "\n",
       "    organisation_answer  organisation_score  \n",
       "12                    a                 NaN  \n",
       "19                    a                 NaN  \n",
       "77                    a                 NaN  \n",
       "81                    a                 NaN  \n",
       "106                   a                 NaN  "
      ]
     },
     "execution_count": 4,
     "metadata": {},
     "output_type": "execute_result"
    }
   ],
   "source": [
    "methods_df.head()"
   ]
  },
  {
   "cell_type": "code",
   "execution_count": 5,
   "id": "b3d2c1b5",
   "metadata": {},
   "outputs": [
    {
     "data": {
      "text/plain": [
       "28703"
      ]
     },
     "execution_count": 5,
     "metadata": {},
     "output_type": "execute_result"
    }
   ],
   "source": [
    "abstracts_df = pd.read_csv('output/abstracts_scored.csv', index_col = 0)\n",
    "len(abstracts_df)"
   ]
  },
  {
   "cell_type": "code",
   "execution_count": 6,
   "id": "59563552",
   "metadata": {},
   "outputs": [
    {
     "data": {
      "text/html": [
       "<div>\n",
       "<style scoped>\n",
       "    .dataframe tbody tr th:only-of-type {\n",
       "        vertical-align: middle;\n",
       "    }\n",
       "\n",
       "    .dataframe tbody tr th {\n",
       "        vertical-align: top;\n",
       "    }\n",
       "\n",
       "    .dataframe thead th {\n",
       "        text-align: right;\n",
       "    }\n",
       "</style>\n",
       "<table border=\"1\" class=\"dataframe\">\n",
       "  <thead>\n",
       "    <tr style=\"text-align: right;\">\n",
       "      <th></th>\n",
       "      <th>pmid</th>\n",
       "      <th>title</th>\n",
       "      <th>abstract</th>\n",
       "      <th>disease_answer</th>\n",
       "      <th>disease_score</th>\n",
       "      <th>sample_answer</th>\n",
       "      <th>sample_score</th>\n",
       "      <th>modality_answer</th>\n",
       "      <th>modality_score</th>\n",
       "      <th>database_answer</th>\n",
       "      <th>database_score</th>\n",
       "      <th>organisation_answer</th>\n",
       "      <th>organisation_score</th>\n",
       "    </tr>\n",
       "  </thead>\n",
       "  <tbody>\n",
       "    <tr>\n",
       "      <th>0</th>\n",
       "      <td>35309968</td>\n",
       "      <td>mTeeth: Identifying Brushing Teeth Surfaces Us...</td>\n",
       "      <td>Ensuring that all the teeth surfaces are adequ...</td>\n",
       "      <td>oral diseases</td>\n",
       "      <td>0.304024</td>\n",
       "      <td>114</td>\n",
       "      <td>0.414761</td>\n",
       "      <td>inertial sensors</td>\n",
       "      <td>0.559315</td>\n",
       "      <td>wrist-worn inertial sensor dataset collected f...</td>\n",
       "      <td>0.169088</td>\n",
       "      <td>the natural environment</td>\n",
       "      <td>0.098946</td>\n",
       "    </tr>\n",
       "    <tr>\n",
       "      <th>1</th>\n",
       "      <td>35330785</td>\n",
       "      <td>Development of a Machine Learning Algorithm fo...</td>\n",
       "      <td>Reverse total shoulder arthroplasty (rTSA) off...</td>\n",
       "      <td>Reverse total shoulder arthroplasty</td>\n",
       "      <td>0.377661</td>\n",
       "      <td>2799</td>\n",
       "      <td>0.494304</td>\n",
       "      <td>Office of Statewide Health Planning and Develo...</td>\n",
       "      <td>0.363589</td>\n",
       "      <td>Office of Statewide Health Planning and Develo...</td>\n",
       "      <td>0.689447</td>\n",
       "      <td>Office of Statewide Health Planning and Develo...</td>\n",
       "      <td>0.504777</td>\n",
       "    </tr>\n",
       "    <tr>\n",
       "      <th>2</th>\n",
       "      <td>35330977</td>\n",
       "      <td>ECG Restitution Analysis and Machine Learning ...</td>\n",
       "      <td>Atrial fibrillation is the most frequent arrhy...</td>\n",
       "      <td>paroxysmal atrial fibrillation</td>\n",
       "      <td>0.391101</td>\n",
       "      <td>control and horses with PAF</td>\n",
       "      <td>0.110626</td>\n",
       "      <td>normal sinus-rhythm ECGs</td>\n",
       "      <td>0.316086</td>\n",
       "      <td>normal sinus-rhythm ECGs</td>\n",
       "      <td>0.071468</td>\n",
       "      <td>horses with PAF</td>\n",
       "      <td>0.004045</td>\n",
       "    </tr>\n",
       "    <tr>\n",
       "      <th>3</th>\n",
       "      <td>35330920</td>\n",
       "      <td>Segmenting Thoracic Cavities with Neoplastic L...</td>\n",
       "      <td>Automatic segmentation of thoracic cavity stru...</td>\n",
       "      <td>neoplastic disease</td>\n",
       "      <td>0.441814</td>\n",
       "      <td>402</td>\n",
       "      <td>0.776861</td>\n",
       "      <td>CT images</td>\n",
       "      <td>0.502925</td>\n",
       "      <td>402 cancer patients</td>\n",
       "      <td>0.757216</td>\n",
       "      <td>402 cancer patients</td>\n",
       "      <td>0.193675</td>\n",
       "    </tr>\n",
       "    <tr>\n",
       "      <th>4</th>\n",
       "      <td>30814403</td>\n",
       "      <td>Combined machine learning and functional magne...</td>\n",
       "      <td>Hypoxia exposure during high-altitude expediti...</td>\n",
       "      <td>psychomotor impairment</td>\n",
       "      <td>0.347314</td>\n",
       "      <td>69</td>\n",
       "      <td>0.720279</td>\n",
       "      <td>Rs-fMRI</td>\n",
       "      <td>0.341074</td>\n",
       "      <td>Shaanxi-Tibet immigrant cohort</td>\n",
       "      <td>0.850154</td>\n",
       "      <td>Shaanxi-Tibet immigrant cohort</td>\n",
       "      <td>0.629736</td>\n",
       "    </tr>\n",
       "  </tbody>\n",
       "</table>\n",
       "</div>"
      ],
      "text/plain": [
       "       pmid                                              title  \\\n",
       "0  35309968  mTeeth: Identifying Brushing Teeth Surfaces Us...   \n",
       "1  35330785  Development of a Machine Learning Algorithm fo...   \n",
       "2  35330977  ECG Restitution Analysis and Machine Learning ...   \n",
       "3  35330920  Segmenting Thoracic Cavities with Neoplastic L...   \n",
       "4  30814403  Combined machine learning and functional magne...   \n",
       "\n",
       "                                            abstract  \\\n",
       "0  Ensuring that all the teeth surfaces are adequ...   \n",
       "1  Reverse total shoulder arthroplasty (rTSA) off...   \n",
       "2  Atrial fibrillation is the most frequent arrhy...   \n",
       "3  Automatic segmentation of thoracic cavity stru...   \n",
       "4  Hypoxia exposure during high-altitude expediti...   \n",
       "\n",
       "                        disease_answer  disease_score  \\\n",
       "0                        oral diseases       0.304024   \n",
       "1  Reverse total shoulder arthroplasty       0.377661   \n",
       "2       paroxysmal atrial fibrillation       0.391101   \n",
       "3                   neoplastic disease       0.441814   \n",
       "4               psychomotor impairment       0.347314   \n",
       "\n",
       "                 sample_answer  sample_score  \\\n",
       "0                          114      0.414761   \n",
       "1                         2799      0.494304   \n",
       "2  control and horses with PAF      0.110626   \n",
       "3                          402      0.776861   \n",
       "4                           69      0.720279   \n",
       "\n",
       "                                     modality_answer  modality_score  \\\n",
       "0                                   inertial sensors        0.559315   \n",
       "1  Office of Statewide Health Planning and Develo...        0.363589   \n",
       "2                           normal sinus-rhythm ECGs        0.316086   \n",
       "3                                          CT images        0.502925   \n",
       "4                                            Rs-fMRI        0.341074   \n",
       "\n",
       "                                     database_answer  database_score  \\\n",
       "0  wrist-worn inertial sensor dataset collected f...        0.169088   \n",
       "1  Office of Statewide Health Planning and Develo...        0.689447   \n",
       "2                           normal sinus-rhythm ECGs        0.071468   \n",
       "3                                402 cancer patients        0.757216   \n",
       "4                     Shaanxi-Tibet immigrant cohort        0.850154   \n",
       "\n",
       "                                 organisation_answer  organisation_score  \n",
       "0                            the natural environment            0.098946  \n",
       "1  Office of Statewide Health Planning and Develo...            0.504777  \n",
       "2                                    horses with PAF            0.004045  \n",
       "3                                402 cancer patients            0.193675  \n",
       "4                     Shaanxi-Tibet immigrant cohort            0.629736  "
      ]
     },
     "execution_count": 6,
     "metadata": {},
     "output_type": "execute_result"
    }
   ],
   "source": [
    "abstracts_df.head()"
   ]
  },
  {
   "cell_type": "markdown",
   "id": "1736db79",
   "metadata": {},
   "source": [
    "# proper noun extraction"
   ]
  },
  {
   "cell_type": "code",
   "execution_count": 7,
   "id": "9897b2bd",
   "metadata": {},
   "outputs": [],
   "source": [
    "import nltk\n",
    "from nltk.tag import pos_tag\n",
    "from nltk.tokenize import word_tokenize\n",
    "from nltk.tokenize.treebank import TreebankWordTokenizer"
   ]
  },
  {
   "cell_type": "markdown",
   "id": "32eddd4e",
   "metadata": {},
   "source": [
    "### abstracts"
   ]
  },
  {
   "cell_type": "code",
   "execution_count": 8,
   "id": "d3976dd3",
   "metadata": {},
   "outputs": [],
   "source": [
    "abstracts_list = abstracts_df['abstract'].to_list()"
   ]
  },
  {
   "cell_type": "code",
   "execution_count": 9,
   "id": "aef1e6bc",
   "metadata": {},
   "outputs": [
    {
     "data": {
      "application/vnd.jupyter.widget-view+json": {
       "model_id": "a077a33fdb1e4a059b8d8e01d1550bbf",
       "version_major": 2,
       "version_minor": 0
      },
      "text/plain": [
       "  0%|          | 0/28703 [00:00<?, ?it/s]"
      ]
     },
     "metadata": {},
     "output_type": "display_data"
    }
   ],
   "source": [
    "sent_detector = nltk.data.load('tokenizers/punkt/english.pickle')\n",
    "\n",
    "abs_nouns = []\n",
    "\n",
    "for text in tqdm(abstracts_list):\n",
    "    \n",
    "    blocklist = []\n",
    "    \n",
    "    for sentence in sent_detector.tokenize(text):\n",
    "        tokenizedSentence = word_tokenize(sentence)\n",
    "        taggedSentence = pos_tag(tokenizedSentence)\n",
    "        wordlist = []\n",
    "        \n",
    "        for word, pos in taggedSentence:\n",
    "            if pos == 'NNP':\n",
    "                #print(word)\n",
    "                wordlist.append(word)\n",
    "        \n",
    "        blocklist.extend(wordlist)\n",
    "    \n",
    "    abs_nouns.append(blocklist)"
   ]
  },
  {
   "cell_type": "code",
   "execution_count": 10,
   "id": "bee27065",
   "metadata": {},
   "outputs": [],
   "source": [
    "abstracts_df['abs_nouns'] = abs_nouns"
   ]
  },
  {
   "cell_type": "code",
   "execution_count": 11,
   "id": "822d8435",
   "metadata": {},
   "outputs": [],
   "source": [
    "#abstracts_df.to_csv('output/abstracts_scored_nouns.csv')"
   ]
  },
  {
   "cell_type": "markdown",
   "id": "083a7851",
   "metadata": {},
   "source": [
    "### methods"
   ]
  },
  {
   "cell_type": "code",
   "execution_count": 12,
   "id": "32bd9362",
   "metadata": {},
   "outputs": [],
   "source": [
    "methods_list = methods_df['methods'].to_list()"
   ]
  },
  {
   "cell_type": "code",
   "execution_count": 13,
   "id": "c83da4aa",
   "metadata": {},
   "outputs": [
    {
     "data": {
      "application/vnd.jupyter.widget-view+json": {
       "model_id": "9dd481d4cfc94578bb7e3da346e3ae5a",
       "version_major": 2,
       "version_minor": 0
      },
      "text/plain": [
       "  0%|          | 0/27252 [00:00<?, ?it/s]"
      ]
     },
     "metadata": {},
     "output_type": "display_data"
    }
   ],
   "source": [
    "met_nouns = []\n",
    "\n",
    "for text in tqdm(methods_list):\n",
    "    \n",
    "    blocklist = []\n",
    "    \n",
    "    for sentence in sent_detector.tokenize(text):\n",
    "        tokenizedSentence = word_tokenize(sentence)\n",
    "        taggedSentence = pos_tag(tokenizedSentence)\n",
    "        wordlist = []\n",
    "        \n",
    "        for word, pos in taggedSentence:\n",
    "            if pos == 'NNP':\n",
    "                #print(word)\n",
    "                wordlist.append(word)\n",
    "        \n",
    "        blocklist.extend(wordlist)\n",
    "    \n",
    "    met_nouns.append(blocklist)"
   ]
  },
  {
   "cell_type": "code",
   "execution_count": 14,
   "id": "a11b1026",
   "metadata": {},
   "outputs": [],
   "source": [
    "methods_df['met_nouns'] = met_nouns"
   ]
  },
  {
   "cell_type": "code",
   "execution_count": 138,
   "id": "4732cbdf",
   "metadata": {},
   "outputs": [],
   "source": [
    "#methods_df.to_csv('output/methods_scored_nouns.csv')"
   ]
  },
  {
   "cell_type": "markdown",
   "id": "05d7eb27",
   "metadata": {},
   "source": [
    "# geo_extraction"
   ]
  },
  {
   "cell_type": "code",
   "execution_count": 15,
   "id": "5f8b1f1e",
   "metadata": {},
   "outputs": [
    {
     "name": "stderr",
     "output_type": "stream",
     "text": [
      "[nltk_data] Downloading package averaged_perceptron_tagger to\n",
      "[nltk_data]     C:\\Users\\Joe Z\\AppData\\Roaming\\nltk_data...\n",
      "[nltk_data]   Package averaged_perceptron_tagger is already up-to-\n",
      "[nltk_data]       date!\n",
      "[nltk_data] Downloading package maxent_ne_chunker to C:\\Users\\Joe\n",
      "[nltk_data]     Z\\AppData\\Roaming\\nltk_data...\n",
      "[nltk_data]   Package maxent_ne_chunker is already up-to-date!\n",
      "[nltk_data] Downloading package words to C:\\Users\\Joe\n",
      "[nltk_data]     Z\\AppData\\Roaming\\nltk_data...\n",
      "[nltk_data]   Package words is already up-to-date!\n"
     ]
    },
    {
     "data": {
      "text/plain": [
       "True"
      ]
     },
     "execution_count": 15,
     "metadata": {},
     "output_type": "execute_result"
    }
   ],
   "source": [
    "import geograpy\n",
    "from geograpy import extraction\n",
    "from geograpy import places\n",
    "import nltk\n",
    "\n",
    "nltk.download('averaged_perceptron_tagger')\n",
    "nltk.download('maxent_ne_chunker')\n",
    "nltk.download('words')"
   ]
  },
  {
   "cell_type": "code",
   "execution_count": 16,
   "id": "2ff25c35",
   "metadata": {},
   "outputs": [],
   "source": [
    "methods_list = methods_df['methods'].to_list()"
   ]
  },
  {
   "cell_type": "code",
   "execution_count": 17,
   "id": "d9171faf",
   "metadata": {},
   "outputs": [
    {
     "data": {
      "application/vnd.jupyter.widget-view+json": {
       "model_id": "b3f379e0b219436f8417ce727e27640f",
       "version_major": 2,
       "version_minor": 0
      },
      "text/plain": [
       "  0%|          | 0/27252 [00:00<?, ?it/s]"
      ]
     },
     "metadata": {},
     "output_type": "display_data"
    }
   ],
   "source": [
    "met_geo_cities = []\n",
    "met_geo_countries = []\n",
    "met_geo_other = []\n",
    "\n",
    "for x in tqdm(methods_list):\n",
    "    try:\n",
    "        places = geograpy.get_geoPlace_context(text=x)\n",
    "    \n",
    "        met_geo_cities.append(places.cities)\n",
    "        met_geo_countries.append(places.countries)\n",
    "        met_geo_other.append(places.other)\n",
    "    \n",
    "    except:\n",
    "        met_geo_cities.append('nan')\n",
    "        met_geo_countries.append('nan')\n",
    "        met_geo_other.append('nan')\n",
    "        \n",
    "methods_df['met_geo_cities'] = met_geo_cities\n",
    "methods_df['met_geo_countries'] = met_geo_countries\n",
    "methods_df['met_geo_other'] = met_geo_other"
   ]
  },
  {
   "cell_type": "code",
   "execution_count": 18,
   "id": "523f6863",
   "metadata": {},
   "outputs": [],
   "source": [
    "methods_df.to_csv('output/methods_scored_geo.csv')"
   ]
  },
  {
   "cell_type": "code",
   "execution_count": 19,
   "id": "acaaa848",
   "metadata": {},
   "outputs": [],
   "source": [
    "abstracts_list = abstracts_df['abstract'].to_list()"
   ]
  },
  {
   "cell_type": "code",
   "execution_count": null,
   "id": "c7c36fbd",
   "metadata": {},
   "outputs": [
    {
     "data": {
      "application/vnd.jupyter.widget-view+json": {
       "model_id": "9180fefe9e614df29563e5ed0c17ab8e",
       "version_major": 2,
       "version_minor": 0
      },
      "text/plain": [
       "  0%|          | 0/28703 [00:00<?, ?it/s]"
      ]
     },
     "metadata": {},
     "output_type": "display_data"
    }
   ],
   "source": [
    "abs_geo_cities = []\n",
    "abs_geo_countries = []\n",
    "abs_geo_other = []\n",
    "\n",
    "for x in tqdm(abstracts_list):\n",
    "    try:\n",
    "        places = geograpy.get_geoPlace_context(text=x)\n",
    "    \n",
    "        abs_geo_cities.append(places.cities)\n",
    "        abs_geo_countries.append(places.countries)\n",
    "        abs_geo_other.append(places.other)\n",
    "    \n",
    "    except:\n",
    "        abs_geo_cities.append('nan')\n",
    "        abs_geo_countries.append('nan')\n",
    "        abs_geo_other.append('nan')\n",
    "        \n",
    "abstracts_df['abs_geo_cities'] = abs_geo_cities\n",
    "abstracts_df['abs_geo_countries'] = abs_geo_countries\n",
    "abstracts_df['abs_geo_other'] = abs_geo_other"
   ]
  },
  {
   "cell_type": "code",
   "execution_count": null,
   "id": "796b406b",
   "metadata": {},
   "outputs": [],
   "source": [
    "abstracts_df.to_csv('output/abstracts_scored_geo.csv')"
   ]
  },
  {
   "cell_type": "code",
   "execution_count": null,
   "id": "c24f96fc",
   "metadata": {},
   "outputs": [],
   "source": []
  },
  {
   "cell_type": "code",
   "execution_count": null,
   "id": "c903e3f8",
   "metadata": {},
   "outputs": [],
   "source": []
  },
  {
   "cell_type": "code",
   "execution_count": null,
   "id": "1940c45a",
   "metadata": {},
   "outputs": [],
   "source": []
  },
  {
   "cell_type": "markdown",
   "id": "d8fb6f32",
   "metadata": {},
   "source": [
    "# detect proper nouns"
   ]
  },
  {
   "cell_type": "code",
   "execution_count": 60,
   "id": "ea396631",
   "metadata": {},
   "outputs": [],
   "source": [
    "from nltk.tag import pos_tag\n",
    "from nltk.tokenize import word_tokenize\n",
    "from nltk.tokenize.treebank import TreebankWordTokenizer"
   ]
  },
  {
   "cell_type": "code",
   "execution_count": 61,
   "id": "c665553b",
   "metadata": {},
   "outputs": [],
   "source": [
    "text = \"I enjoyed the visit to Pisa where I visited Stephen at the AMIDA institute\""
   ]
  },
  {
   "cell_type": "code",
   "execution_count": 62,
   "id": "14f686fd",
   "metadata": {},
   "outputs": [
    {
     "name": "stdout",
     "output_type": "stream",
     "text": [
      "Pisa\n",
      "Stephen\n",
      "AMIDA\n"
     ]
    }
   ],
   "source": [
    "sent_detector = nltk.data.load('tokenizers/punkt/english.pickle')\n",
    "    \n",
    "for sentence in sent_detector.tokenize(text):\n",
    "    tokenizedSentence = word_tokenize(sentence)\n",
    "    taggedSentence = pos_tag(tokenizedSentence)\n",
    "    start = True\n",
    "    currentCandidate = []\n",
    "\n",
    "    for word, pos in taggedSentence:\n",
    "        if start:\n",
    "            start = False\n",
    "            continue\n",
    "\n",
    "        if pos == 'NNP':\n",
    "            currentCandidate.append(word)\n",
    "            continue\n",
    "\n",
    "        if len(currentCandidate) > 0:\n",
    "            print(' '.join(currentCandidate))\n",
    "            currentCandidate = []\n",
    "\n",
    "    if len(currentCandidate) > 0:\n",
    "        print(' '.join(currentCandidate))"
   ]
  },
  {
   "cell_type": "code",
   "execution_count": null,
   "id": "2d5457cb",
   "metadata": {},
   "outputs": [],
   "source": []
  }
 ],
 "metadata": {
  "kernelspec": {
   "display_name": "Python 3",
   "language": "python",
   "name": "python3"
  },
  "language_info": {
   "codemirror_mode": {
    "name": "ipython",
    "version": 3
   },
   "file_extension": ".py",
   "mimetype": "text/x-python",
   "name": "python",
   "nbconvert_exporter": "python",
   "pygments_lexer": "ipython3",
   "version": "3.8.8"
  }
 },
 "nbformat": 4,
 "nbformat_minor": 5
}
