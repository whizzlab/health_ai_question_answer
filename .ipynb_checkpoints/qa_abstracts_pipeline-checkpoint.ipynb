{
 "cells": [
  {
   "cell_type": "code",
   "execution_count": 1,
   "id": "30bc93f1",
   "metadata": {},
   "outputs": [],
   "source": [
    "import pandas as pd\n",
    "import numpy as np\n",
    "import time\n",
    "import re"
   ]
  },
  {
   "cell_type": "code",
   "execution_count": 2,
   "id": "60a63b5a",
   "metadata": {},
   "outputs": [
    {
     "data": {
      "text/plain": [
       "True"
      ]
     },
     "execution_count": 2,
     "metadata": {},
     "output_type": "execute_result"
    }
   ],
   "source": [
    "import torch\n",
    "torch.cuda.is_available()"
   ]
  },
  {
   "cell_type": "code",
   "execution_count": 3,
   "id": "adc163f4",
   "metadata": {},
   "outputs": [
    {
     "name": "stderr",
     "output_type": "stream",
     "text": [
      "INFO - haystack.document_stores.base -  Numba not found, replacing njit() with no-op implementation. Enable it with 'pip install numba'.\n",
      "INFO - haystack.modeling.model.optimization -  apex not found, won't use it. See https://nvidia.github.io/apex/\n"
     ]
    }
   ],
   "source": [
    "from haystack.utils import clean_wiki_text, convert_files_to_dicts, fetch_archive_from_http, print_answers\n",
    "from haystack.nodes import FARMReader, TransformersReader\n",
    "from haystack.nodes import TextConverter, PDFToTextConverter, DocxToTextConverter, PreProcessor\n",
    "from haystack.pipelines import ExtractiveQAPipeline\n",
    "\n",
    "#haystack contains a search system for retrieval and QA across documents.\n",
    "#designed for large documents, but pipeline also works for single document QA "
   ]
  },
  {
   "cell_type": "code",
   "execution_count": 4,
   "id": "4b6ab6ac",
   "metadata": {},
   "outputs": [],
   "source": [
    "# In-Memory Document Store\n",
    "from haystack.document_stores import InMemoryDocumentStore"
   ]
  },
  {
   "cell_type": "code",
   "execution_count": 5,
   "id": "ae4dc9c9",
   "metadata": {},
   "outputs": [],
   "source": [
    "# Retrieve from store\n",
    "from haystack.nodes import TfidfRetriever"
   ]
  },
  {
   "cell_type": "markdown",
   "id": "d8928dda",
   "metadata": {},
   "source": [
    "# import file containing all abstracts"
   ]
  },
  {
   "cell_type": "code",
   "execution_count": 6,
   "id": "e66bb980",
   "metadata": {},
   "outputs": [],
   "source": [
    "fulldf = pd.read_csv('data/included_abstracts.csv', index_col=0)"
   ]
  },
  {
   "cell_type": "code",
   "execution_count": 7,
   "id": "18deeeda",
   "metadata": {},
   "outputs": [],
   "source": [
    "abstract_list = fulldf['abstract']\n",
    "title_list = list(range(0,len(abstract_list)))\n",
    "pmid_list = fulldf['pmid']"
   ]
  },
  {
   "cell_type": "code",
   "execution_count": 8,
   "id": "417a603b",
   "metadata": {},
   "outputs": [
    {
     "data": {
      "text/plain": [
       "0    Background In this study, we aimed to compare two outbreaks of coronavirus d...\n",
       "1    Social and behavioral determinants of health (SBDoH) have important roles in...\n",
       "2    Chronic diabetes can lead to microvascular complications, including diabetic...\n",
       "3    Opioid Use Disorder (OUD) is a public health crisis costing the US billions ...\n",
       "4    Automatic epilepsy detection is of great significance for the diagnosis and ...\n",
       "Name: abstract, dtype: object"
      ]
     },
     "execution_count": 8,
     "metadata": {},
     "output_type": "execute_result"
    }
   ],
   "source": [
    "abstract_list.head()"
   ]
  },
  {
   "cell_type": "code",
   "execution_count": 9,
   "id": "b732ef73",
   "metadata": {
    "scrolled": true
   },
   "outputs": [
    {
     "data": {
      "text/plain": [
       "42587"
      ]
     },
     "execution_count": 9,
     "metadata": {},
     "output_type": "execute_result"
    }
   ],
   "source": [
    "len(abstract_list)"
   ]
  },
  {
   "cell_type": "code",
   "execution_count": 10,
   "id": "578ba18d",
   "metadata": {},
   "outputs": [],
   "source": [
    "n = 55\n",
    "test = abstract_list[n]\n",
    "title = title_list[n]"
   ]
  },
  {
   "cell_type": "code",
   "execution_count": 11,
   "id": "f2822925",
   "metadata": {},
   "outputs": [],
   "source": [
    "test_dict = {'content': test, 'meta': {'name': title}}"
   ]
  },
  {
   "cell_type": "code",
   "execution_count": 12,
   "id": "e377f843",
   "metadata": {},
   "outputs": [
    {
     "data": {
      "text/plain": [
       "{'content': \"Heart failure (HF) is a major cause of mortality. Accurately monitoring HF progress and adjusting therapies are critical for improving patient outcomes. An experienced cardiologist can make accurate HF stage diagnoses based on combination of symptoms, signs, and lab results from the electronic health records (EHR) of a patient, without directly measuring heart function. We examined whether machine learning models, more specifically the XGBoost model, can accurately predict patient stage based on EHR, and we further applied the SHapley Additive exPlanations (SHAP) framework to identify informative features and their interpretations. Our results indicate that based on structured data from EHR, our models could predict patients' ejection fraction (EF) scores with moderate accuracy. SHAP analyses identified informative features and revealed potential clinical subtypes of HF. Our findings provide insights on how to design computing systems to accurately monitor disease progression of HF patients through continuously mining patients' EHR data.\",\n",
       " 'meta': {'name': 55}}"
      ]
     },
     "execution_count": 12,
     "metadata": {},
     "output_type": "execute_result"
    }
   ],
   "source": [
    "test_dict"
   ]
  },
  {
   "cell_type": "markdown",
   "id": "91128e36",
   "metadata": {},
   "source": [
    "# set up question bank"
   ]
  },
  {
   "cell_type": "code",
   "execution_count": 13,
   "id": "e922a3ad",
   "metadata": {},
   "outputs": [],
   "source": [
    "q1=\"what disease is being studied?\"\n",
    "q2=\"What is the objective of the study?\"\n",
    "###\n",
    "q3=\"how many patient data samples were included in this study?\"\n",
    "q4=\"what modality of data is used in this study?\"\n",
    "###\n",
    "q5=\"what country was the study conducted in?\"\n",
    "q6=\"what hospital did the data come from?\"\n",
    "q7=\"What existing database did the data come from?\"\n",
    "q8=\"What organisation did the data come from?\"\n",
    "###\n",
    "#q10=\"how does the model perform relative to a human?\"\n",
    "#q11=\"how does the model perform in prospective testing\"\n",
    "#q12=\"what were the results of the study?\"\n",
    "#q12=\"what was the area under the curve (AUC) value?\"\n",
    "\n",
    "qlist = [q1, q2, q3, q4, q5, q6, q7, q8]"
   ]
  },
  {
   "cell_type": "markdown",
   "id": "4bade33d",
   "metadata": {},
   "source": [
    "# initialising pre-processor module"
   ]
  },
  {
   "cell_type": "code",
   "execution_count": 14,
   "id": "5108f91a",
   "metadata": {},
   "outputs": [
    {
     "name": "stderr",
     "output_type": "stream",
     "text": [
      "INFO - haystack.modeling.utils -  Using devices: CUDA:0\n",
      "INFO - haystack.modeling.utils -  Number of GPUs: 1\n"
     ]
    }
   ],
   "source": [
    "preprocessor = PreProcessor(\n",
    "    clean_empty_lines=True,\n",
    "    clean_whitespace=True,\n",
    "    clean_header_footer=False,\n",
    "    split_by=\"word\",\n",
    "    split_length=2000,\n",
    "    split_respect_sentence_boundary=True,\n",
    ")\n",
    "\n",
    "document_store = InMemoryDocumentStore()"
   ]
  },
  {
   "cell_type": "markdown",
   "id": "79b93070",
   "metadata": {},
   "source": [
    "# question answer pipeline"
   ]
  },
  {
   "cell_type": "code",
   "execution_count": 15,
   "id": "90569010",
   "metadata": {},
   "outputs": [
    {
     "name": "stdout",
     "output_type": "stream",
     "text": [
      "42587\n"
     ]
    },
    {
     "data": {
      "text/html": [
       "<div>\n",
       "<style scoped>\n",
       "    .dataframe tbody tr th:only-of-type {\n",
       "        vertical-align: middle;\n",
       "    }\n",
       "\n",
       "    .dataframe tbody tr th {\n",
       "        vertical-align: top;\n",
       "    }\n",
       "\n",
       "    .dataframe thead th {\n",
       "        text-align: right;\n",
       "    }\n",
       "</style>\n",
       "<table border=\"1\" class=\"dataframe\">\n",
       "  <thead>\n",
       "    <tr style=\"text-align: right;\">\n",
       "      <th></th>\n",
       "      <th>pmid</th>\n",
       "      <th>title</th>\n",
       "      <th>abstract</th>\n",
       "      <th>what disease is being studied?</th>\n",
       "      <th>What is the objective of the study?</th>\n",
       "      <th>how many patient data samples were included in this study?</th>\n",
       "      <th>what modality of data is used in this study?</th>\n",
       "      <th>what country was the study conducted in?</th>\n",
       "      <th>what hospital did the data come from?</th>\n",
       "      <th>What existing database did the data come from?</th>\n",
       "      <th>What organisation did the data come from?</th>\n",
       "    </tr>\n",
       "  </thead>\n",
       "  <tbody>\n",
       "    <tr>\n",
       "      <th>0</th>\n",
       "      <td>35308674</td>\n",
       "      <td>Comparison of Chest Computed Tomography Between the Two Waves of Coronavirus...</td>\n",
       "      <td>Background In this study, we aimed to compare two outbreaks of coronavirus d...</td>\n",
       "      <td>NaN</td>\n",
       "      <td>NaN</td>\n",
       "      <td>NaN</td>\n",
       "      <td>NaN</td>\n",
       "      <td>NaN</td>\n",
       "      <td>NaN</td>\n",
       "      <td>NaN</td>\n",
       "      <td>NaN</td>\n",
       "    </tr>\n",
       "    <tr>\n",
       "      <th>1</th>\n",
       "      <td>35309014</td>\n",
       "      <td>A Study of Social and Behavioral Determinants of Health in Lung Cancer Patie...</td>\n",
       "      <td>Social and behavioral determinants of health (SBDoH) have important roles in...</td>\n",
       "      <td>NaN</td>\n",
       "      <td>NaN</td>\n",
       "      <td>NaN</td>\n",
       "      <td>NaN</td>\n",
       "      <td>NaN</td>\n",
       "      <td>NaN</td>\n",
       "      <td>NaN</td>\n",
       "      <td>NaN</td>\n",
       "    </tr>\n",
       "  </tbody>\n",
       "</table>\n",
       "</div>"
      ],
      "text/plain": [
       "       pmid  \\\n",
       "0  35308674   \n",
       "1  35309014   \n",
       "\n",
       "                                                                             title  \\\n",
       "0  Comparison of Chest Computed Tomography Between the Two Waves of Coronavirus...   \n",
       "1  A Study of Social and Behavioral Determinants of Health in Lung Cancer Patie...   \n",
       "\n",
       "                                                                          abstract  \\\n",
       "0  Background In this study, we aimed to compare two outbreaks of coronavirus d...   \n",
       "1  Social and behavioral determinants of health (SBDoH) have important roles in...   \n",
       "\n",
       "  what disease is being studied? What is the objective of the study?  \\\n",
       "0                            NaN                                 NaN   \n",
       "1                            NaN                                 NaN   \n",
       "\n",
       "  how many patient data samples were included in this study?  \\\n",
       "0                                                        NaN   \n",
       "1                                                        NaN   \n",
       "\n",
       "  what modality of data is used in this study?  \\\n",
       "0                                          NaN   \n",
       "1                                          NaN   \n",
       "\n",
       "  what country was the study conducted in?  \\\n",
       "0                                      NaN   \n",
       "1                                      NaN   \n",
       "\n",
       "  what hospital did the data come from?  \\\n",
       "0                                   NaN   \n",
       "1                                   NaN   \n",
       "\n",
       "  What existing database did the data come from?  \\\n",
       "0                                            NaN   \n",
       "1                                            NaN   \n",
       "\n",
       "  What organisation did the data come from?  \n",
       "0                                       NaN  \n",
       "1                                       NaN  "
      ]
     },
     "execution_count": 15,
     "metadata": {},
     "output_type": "execute_result"
    }
   ],
   "source": [
    "##create dataframe to hold results\n",
    "\n",
    "resultsdf = fulldf[['pmid', 'title', 'abstract']].copy()\n",
    "\n",
    "for q in qlist:\n",
    "    resultsdf[q] = pd.Series(dtype='object')\n",
    "    \n",
    "#resultsdf['q1_disease'] = pd.Series(dtype='object')\n",
    "#resultsdf['q2_objective'] = pd.Series(dtype='object')\n",
    "#resultsdf['q3_size'] = pd.Series(dtype='object')\n",
    "#resultsdf['q4_modality'] = pd.Series(dtype='object')\n",
    "#resultsdf['q5_country'] = pd.Series(dtype='object')\n",
    "#resultsdf['q6_hospital'] = pd.Series(dtype='object')\n",
    "#resultsdf['q7_database'] = pd.Series(dtype='object')\n",
    "#resultsdf['q8_organisation'] = pd.Series(dtype='object')\n",
    "\n",
    "print(len(resultsdf))\n",
    "resultsdf.head(2)"
   ]
  },
  {
   "cell_type": "code",
   "execution_count": 16,
   "id": "d08745d9",
   "metadata": {
    "scrolled": true
   },
   "outputs": [
    {
     "data": {
      "text/html": [
       "<div>\n",
       "<style scoped>\n",
       "    .dataframe tbody tr th:only-of-type {\n",
       "        vertical-align: middle;\n",
       "    }\n",
       "\n",
       "    .dataframe tbody tr th {\n",
       "        vertical-align: top;\n",
       "    }\n",
       "\n",
       "    .dataframe thead th {\n",
       "        text-align: right;\n",
       "    }\n",
       "</style>\n",
       "<table border=\"1\" class=\"dataframe\">\n",
       "  <thead>\n",
       "    <tr style=\"text-align: right;\">\n",
       "      <th></th>\n",
       "      <th>pmid</th>\n",
       "      <th>title</th>\n",
       "      <th>abstract</th>\n",
       "      <th>what disease is being studied?</th>\n",
       "      <th>What is the objective of the study?</th>\n",
       "      <th>how many patient data samples were included in this study?</th>\n",
       "      <th>what modality of data is used in this study?</th>\n",
       "      <th>what country was the study conducted in?</th>\n",
       "      <th>what hospital did the data come from?</th>\n",
       "      <th>What existing database did the data come from?</th>\n",
       "      <th>What organisation did the data come from?</th>\n",
       "    </tr>\n",
       "  </thead>\n",
       "  <tbody>\n",
       "    <tr>\n",
       "      <th>0</th>\n",
       "      <td>35308674</td>\n",
       "      <td>Comparison of Chest Computed Tomography Between the Two Waves of Coronavirus...</td>\n",
       "      <td>Background In this study, we aimed to compare two outbreaks of coronavirus d...</td>\n",
       "      <td>NaN</td>\n",
       "      <td>NaN</td>\n",
       "      <td>NaN</td>\n",
       "      <td>NaN</td>\n",
       "      <td>NaN</td>\n",
       "      <td>NaN</td>\n",
       "      <td>NaN</td>\n",
       "      <td>NaN</td>\n",
       "    </tr>\n",
       "    <tr>\n",
       "      <th>1</th>\n",
       "      <td>35309014</td>\n",
       "      <td>A Study of Social and Behavioral Determinants of Health in Lung Cancer Patie...</td>\n",
       "      <td>Social and behavioral determinants of health (SBDoH) have important roles in...</td>\n",
       "      <td>NaN</td>\n",
       "      <td>NaN</td>\n",
       "      <td>NaN</td>\n",
       "      <td>NaN</td>\n",
       "      <td>NaN</td>\n",
       "      <td>NaN</td>\n",
       "      <td>NaN</td>\n",
       "      <td>NaN</td>\n",
       "    </tr>\n",
       "    <tr>\n",
       "      <th>2</th>\n",
       "      <td>35308968</td>\n",
       "      <td>A Federated Mining Approach on Predicting Diabetes-Related Complications: De...</td>\n",
       "      <td>Chronic diabetes can lead to microvascular complications, including diabetic...</td>\n",
       "      <td>NaN</td>\n",
       "      <td>NaN</td>\n",
       "      <td>NaN</td>\n",
       "      <td>NaN</td>\n",
       "      <td>NaN</td>\n",
       "      <td>NaN</td>\n",
       "      <td>NaN</td>\n",
       "      <td>NaN</td>\n",
       "    </tr>\n",
       "    <tr>\n",
       "      <th>3</th>\n",
       "      <td>35308960</td>\n",
       "      <td>Identifying Opioid Use Disorder from Longitudinal Healthcare Data using a Mu...</td>\n",
       "      <td>Opioid Use Disorder (OUD) is a public health crisis costing the US billions ...</td>\n",
       "      <td>NaN</td>\n",
       "      <td>NaN</td>\n",
       "      <td>NaN</td>\n",
       "      <td>NaN</td>\n",
       "      <td>NaN</td>\n",
       "      <td>NaN</td>\n",
       "      <td>NaN</td>\n",
       "      <td>NaN</td>\n",
       "    </tr>\n",
       "    <tr>\n",
       "      <th>4</th>\n",
       "      <td>35306966</td>\n",
       "      <td>Both Cross-Patient and Patient-Specific Seizure Detection Based on Self-Orga...</td>\n",
       "      <td>Automatic epilepsy detection is of great significance for the diagnosis and ...</td>\n",
       "      <td>NaN</td>\n",
       "      <td>NaN</td>\n",
       "      <td>NaN</td>\n",
       "      <td>NaN</td>\n",
       "      <td>NaN</td>\n",
       "      <td>NaN</td>\n",
       "      <td>NaN</td>\n",
       "      <td>NaN</td>\n",
       "    </tr>\n",
       "  </tbody>\n",
       "</table>\n",
       "</div>"
      ],
      "text/plain": [
       "       pmid  \\\n",
       "0  35308674   \n",
       "1  35309014   \n",
       "2  35308968   \n",
       "3  35308960   \n",
       "4  35306966   \n",
       "\n",
       "                                                                             title  \\\n",
       "0  Comparison of Chest Computed Tomography Between the Two Waves of Coronavirus...   \n",
       "1  A Study of Social and Behavioral Determinants of Health in Lung Cancer Patie...   \n",
       "2  A Federated Mining Approach on Predicting Diabetes-Related Complications: De...   \n",
       "3  Identifying Opioid Use Disorder from Longitudinal Healthcare Data using a Mu...   \n",
       "4  Both Cross-Patient and Patient-Specific Seizure Detection Based on Self-Orga...   \n",
       "\n",
       "                                                                          abstract  \\\n",
       "0  Background In this study, we aimed to compare two outbreaks of coronavirus d...   \n",
       "1  Social and behavioral determinants of health (SBDoH) have important roles in...   \n",
       "2  Chronic diabetes can lead to microvascular complications, including diabetic...   \n",
       "3  Opioid Use Disorder (OUD) is a public health crisis costing the US billions ...   \n",
       "4  Automatic epilepsy detection is of great significance for the diagnosis and ...   \n",
       "\n",
       "  what disease is being studied? What is the objective of the study?  \\\n",
       "0                            NaN                                 NaN   \n",
       "1                            NaN                                 NaN   \n",
       "2                            NaN                                 NaN   \n",
       "3                            NaN                                 NaN   \n",
       "4                            NaN                                 NaN   \n",
       "\n",
       "  how many patient data samples were included in this study?  \\\n",
       "0                                                        NaN   \n",
       "1                                                        NaN   \n",
       "2                                                        NaN   \n",
       "3                                                        NaN   \n",
       "4                                                        NaN   \n",
       "\n",
       "  what modality of data is used in this study?  \\\n",
       "0                                          NaN   \n",
       "1                                          NaN   \n",
       "2                                          NaN   \n",
       "3                                          NaN   \n",
       "4                                          NaN   \n",
       "\n",
       "  what country was the study conducted in?  \\\n",
       "0                                      NaN   \n",
       "1                                      NaN   \n",
       "2                                      NaN   \n",
       "3                                      NaN   \n",
       "4                                      NaN   \n",
       "\n",
       "  what hospital did the data come from?  \\\n",
       "0                                   NaN   \n",
       "1                                   NaN   \n",
       "2                                   NaN   \n",
       "3                                   NaN   \n",
       "4                                   NaN   \n",
       "\n",
       "  What existing database did the data come from?  \\\n",
       "0                                            NaN   \n",
       "1                                            NaN   \n",
       "2                                            NaN   \n",
       "3                                            NaN   \n",
       "4                                            NaN   \n",
       "\n",
       "  What organisation did the data come from?  \n",
       "0                                       NaN  \n",
       "1                                       NaN  \n",
       "2                                       NaN  \n",
       "3                                       NaN  \n",
       "4                                       NaN  "
      ]
     },
     "execution_count": 16,
     "metadata": {},
     "output_type": "execute_result"
    }
   ],
   "source": [
    "testdf = resultsdf[0:500]\n",
    "#testdf = resultsdf.copy()\n",
    "testdf.head()"
   ]
  },
  {
   "cell_type": "code",
   "execution_count": 34,
   "id": "4f0f2b0c",
   "metadata": {},
   "outputs": [
    {
     "name": "stderr",
     "output_type": "stream",
     "text": [
      "INFO - haystack.nodes.retriever.sparse -  Found 1 candidate paragraphs from 1 docs in DB\n",
      "INFO - haystack.modeling.utils -  Using devices: CUDA\n",
      "INFO - haystack.modeling.utils -  Number of GPUs: 1\n",
      "INFO - haystack.modeling.model.language_model -  LOADING MODEL\n",
      "INFO - haystack.modeling.model.language_model -  =============\n",
      "INFO - haystack.modeling.model.language_model -  Model found locally at pubmed_tuned\n",
      "INFO - haystack.modeling.model.language_model -  Loaded pubmed_tuned\n",
      "INFO - haystack.modeling.model.adaptive_model -  Found files for loading 1 prediction heads\n",
      "WARNING - haystack.modeling.model.prediction_head -  Some unused parameters are passed to the QuestionAnsweringHead. Might not be a problem. Params: {\"training\": true, \"num_labels\": 2, \"ph_output_type\": \"per_token_squad\", \"model_type\": \"span_classification\", \"label_tensor_name\": \"question_answering_label_ids\", \"label_list\": [\"start_token\", \"end_token\"], \"metric\": \"squad\", \"name\": \"QuestionAnsweringHead\"}\n",
      "INFO - haystack.modeling.model.prediction_head -  Loading prediction head from pubmed_tuned\\prediction_head_0.bin\n",
      "INFO - haystack.modeling.data_handler.processor -  Initialized processor without tasks. Supply `metric` and `label_list` to the constructor for using the default task or add a custom task later via processor.add_task()\n",
      "INFO - haystack.modeling.logger -  ML Logging is turned off. No parameters, metrics or artifacts will be logged to MLFlow.\n",
      "INFO - haystack.modeling.utils -  Using devices: CUDA\n",
      "INFO - haystack.modeling.utils -  Number of GPUs: 1\n",
      "INFO - haystack.modeling.infer -  Got ya 15 parallel workers to do inference ...\n",
      "INFO - haystack.modeling.infer -   0    0    0    0    0    0    0    0    0    0    0    0    0    0    0 \n",
      "INFO - haystack.modeling.infer -  /w\\  /w\\  /w\\  /w\\  /w\\  /w\\  /w\\  /|\\  /w\\  /w\\  /w\\  /w\\  /w\\  /w\\  /|\\\n",
      "INFO - haystack.modeling.infer -  /'\\  / \\  /'\\  /'\\  / \\  / \\  /'\\  /'\\  /'\\  /'\\  /'\\  /'\\  / \\  /'\\  /'\\\n"
     ]
    }
   ],
   "source": [
    "retriever = TfidfRetriever(document_store=document_store)\n",
    "tuned_reader = FARMReader(model_name_or_path=\"pubmed_tuned\", use_gpu=True, use_confidence_scores=True)\n",
    "tuned_pipe = ExtractiveQAPipeline(tuned_reader, retriever)"
   ]
  },
  {
   "cell_type": "code",
   "execution_count": 35,
   "id": "4d6893c5",
   "metadata": {
    "scrolled": true
   },
   "outputs": [
    {
     "name": "stderr",
     "output_type": "stream",
     "text": [
      "INFO - haystack.nodes.retriever.sparse -  Found 1 candidate paragraphs from 1 docs in DB\n",
      "Inferencing Samples:   0%|                                                                 | 0/1 [00:00<?, ? Batches/s]C:\\Users\\Joe Z\\anaconda3\\envs\\torch\\lib\\site-packages\\haystack\\modeling\\model\\prediction_head.py:485: UserWarning: __floordiv__ is deprecated, and its behavior will change in a future version of pytorch. It currently rounds toward 0 (like the 'trunc' function NOT 'floor'). This results in incorrect rounding for negative values. To keep the current behavior, use torch.div(a, b, rounding_mode='trunc'), or for actual floor division, use torch.div(a, b, rounding_mode='floor').\n",
      "  start_indices = flat_sorted_indices // max_seq_len\n",
      "Inferencing Samples: 100%|█████████████████████████████████████████████████████████| 1/1 [00:00<00:00,  8.29 Batches/s]\n"
     ]
    },
    {
     "name": "stdout",
     "output_type": "stream",
     "text": [
      "<Answer: answer='coronavirus disease 2019', score=0.6681817770004272, context='Background In this study, we aimed to compare two ...'>\n"
     ]
    },
    {
     "name": "stderr",
     "output_type": "stream",
     "text": [
      "Inferencing Samples:   0%|                                                                 | 0/1 [00:00<?, ? Batches/s]C:\\Users\\Joe Z\\anaconda3\\envs\\torch\\lib\\site-packages\\haystack\\modeling\\model\\prediction_head.py:485: UserWarning: __floordiv__ is deprecated, and its behavior will change in a future version of pytorch. It currently rounds toward 0 (like the 'trunc' function NOT 'floor'). This results in incorrect rounding for negative values. To keep the current behavior, use torch.div(a, b, rounding_mode='trunc'), or for actual floor division, use torch.div(a, b, rounding_mode='floor').\n",
      "  start_indices = flat_sorted_indices // max_seq_len\n",
      "Inferencing Samples: 100%|█████████████████████████████████████████████████████████| 1/1 [00:00<00:00,  9.50 Batches/s]\n"
     ]
    },
    {
     "name": "stdout",
     "output_type": "stream",
     "text": [
      "<Answer: answer='to compare two outbreaks of coronavirus disease 2019 (COVID-19) in Belgium in tomographic and biological-clinical aspects', score=0.2802339196205139, context='tudy, we aimed to compare two outbreaks of coronav...'>\n"
     ]
    },
    {
     "name": "stderr",
     "output_type": "stream",
     "text": [
      "Inferencing Samples:   0%|                                                                 | 0/1 [00:00<?, ? Batches/s]C:\\Users\\Joe Z\\anaconda3\\envs\\torch\\lib\\site-packages\\haystack\\modeling\\model\\prediction_head.py:485: UserWarning: __floordiv__ is deprecated, and its behavior will change in a future version of pytorch. It currently rounds toward 0 (like the 'trunc' function NOT 'floor'). This results in incorrect rounding for negative values. To keep the current behavior, use torch.div(a, b, rounding_mode='trunc'), or for actual floor division, use torch.div(a, b, rounding_mode='floor').\n",
      "  start_indices = flat_sorted_indices // max_seq_len\n",
      "Inferencing Samples: 100%|█████████████████████████████████████████████████████████| 1/1 [00:00<00:00,  8.53 Batches/s]\n"
     ]
    },
    {
     "name": "stdout",
     "output_type": "stream",
     "text": [
      "<Answer: answer='202', score=0.8213668465614319, context='sidents. The chest CT severity score was calculate...'>\n"
     ]
    },
    {
     "name": "stderr",
     "output_type": "stream",
     "text": [
      "Inferencing Samples:   0%|                                                                 | 0/1 [00:00<?, ? Batches/s]C:\\Users\\Joe Z\\anaconda3\\envs\\torch\\lib\\site-packages\\haystack\\modeling\\model\\prediction_head.py:485: UserWarning: __floordiv__ is deprecated, and its behavior will change in a future version of pytorch. It currently rounds toward 0 (like the 'trunc' function NOT 'floor'). This results in incorrect rounding for negative values. To keep the current behavior, use torch.div(a, b, rounding_mode='trunc'), or for actual floor division, use torch.div(a, b, rounding_mode='floor').\n",
      "  start_indices = flat_sorted_indices // max_seq_len\n",
      "Inferencing Samples: 100%|█████████████████████████████████████████████████████████| 1/1 [00:00<00:00,  8.02 Batches/s]\n"
     ]
    },
    {
     "name": "stdout",
     "output_type": "stream",
     "text": [
      "<Answer: answer='chest computed tomography', score=0.5243260562419891, context=' in the first seven days with COVID-19 infection, ...'>\n"
     ]
    },
    {
     "name": "stderr",
     "output_type": "stream",
     "text": [
      "Inferencing Samples:   0%|                                                                 | 0/1 [00:00<?, ? Batches/s]C:\\Users\\Joe Z\\anaconda3\\envs\\torch\\lib\\site-packages\\haystack\\modeling\\model\\prediction_head.py:485: UserWarning: __floordiv__ is deprecated, and its behavior will change in a future version of pytorch. It currently rounds toward 0 (like the 'trunc' function NOT 'floor'). This results in incorrect rounding for negative values. To keep the current behavior, use torch.div(a, b, rounding_mode='trunc'), or for actual floor division, use torch.div(a, b, rounding_mode='floor').\n",
      "  start_indices = flat_sorted_indices // max_seq_len\n",
      "Inferencing Samples: 100%|█████████████████████████████████████████████████████████| 1/1 [00:00<00:00,  8.09 Batches/s]\n"
     ]
    },
    {
     "name": "stdout",
     "output_type": "stream",
     "text": [
      "<Answer: answer='Belgium', score=0.875027596950531, context='imed to compare two outbreaks of coronavirus disea...'>\n"
     ]
    },
    {
     "name": "stderr",
     "output_type": "stream",
     "text": [
      "Inferencing Samples:   0%|                                                                 | 0/1 [00:00<?, ? Batches/s]C:\\Users\\Joe Z\\anaconda3\\envs\\torch\\lib\\site-packages\\haystack\\modeling\\model\\prediction_head.py:485: UserWarning: __floordiv__ is deprecated, and its behavior will change in a future version of pytorch. It currently rounds toward 0 (like the 'trunc' function NOT 'floor'). This results in incorrect rounding for negative values. To keep the current behavior, use torch.div(a, b, rounding_mode='trunc'), or for actual floor division, use torch.div(a, b, rounding_mode='floor').\n",
      "  start_indices = flat_sorted_indices // max_seq_len\n",
      "Inferencing Samples: 100%|█████████████████████████████████████████████████████████| 1/1 [00:00<00:00,  9.74 Batches/s]\n"
     ]
    },
    {
     "name": "stdout",
     "output_type": "stream",
     "text": [
      "<Answer: answer='Belgium', score=0.010742113459855318, context='imed to compare two outbreaks of coronavirus disea...'>\n"
     ]
    },
    {
     "name": "stderr",
     "output_type": "stream",
     "text": [
      "Inferencing Samples:   0%|                                                                 | 0/1 [00:00<?, ? Batches/s]C:\\Users\\Joe Z\\anaconda3\\envs\\torch\\lib\\site-packages\\haystack\\modeling\\model\\prediction_head.py:485: UserWarning: __floordiv__ is deprecated, and its behavior will change in a future version of pytorch. It currently rounds toward 0 (like the 'trunc' function NOT 'floor'). This results in incorrect rounding for negative values. To keep the current behavior, use torch.div(a, b, rounding_mode='trunc'), or for actual floor division, use torch.div(a, b, rounding_mode='floor').\n",
      "  start_indices = flat_sorted_indices // max_seq_len\n",
      "Inferencing Samples: 100%|█████████████████████████████████████████████████████████| 1/1 [00:00<00:00, 11.01 Batches/s]\n"
     ]
    },
    {
     "name": "stdout",
     "output_type": "stream",
     "text": [
      "<Answer: answer='COVID-19', score=0.23281709849834442, context='urred during the course of the disease. The quanti...'>\n"
     ]
    },
    {
     "name": "stderr",
     "output_type": "stream",
     "text": [
      "Inferencing Samples:   0%|                                                                 | 0/1 [00:00<?, ? Batches/s]C:\\Users\\Joe Z\\anaconda3\\envs\\torch\\lib\\site-packages\\haystack\\modeling\\model\\prediction_head.py:485: UserWarning: __floordiv__ is deprecated, and its behavior will change in a future version of pytorch. It currently rounds toward 0 (like the 'trunc' function NOT 'floor'). This results in incorrect rounding for negative values. To keep the current behavior, use torch.div(a, b, rounding_mode='trunc'), or for actual floor division, use torch.div(a, b, rounding_mode='floor').\n",
      "  start_indices = flat_sorted_indices // max_seq_len\n",
      "Inferencing Samples: 100%|█████████████████████████████████████████████████████████| 1/1 [00:00<00:00,  9.61 Batches/s]\n",
      "INFO - haystack.nodes.retriever.sparse -  Found 1 candidate paragraphs from 1 docs in DB\n"
     ]
    },
    {
     "name": "stdout",
     "output_type": "stream",
     "text": [
      "<Answer: answer='Belgium', score=0.09624548628926277, context='imed to compare two outbreaks of coronavirus disea...'>\n"
     ]
    },
    {
     "name": "stderr",
     "output_type": "stream",
     "text": [
      "Inferencing Samples:   0%|                                                                 | 0/1 [00:00<?, ? Batches/s]C:\\Users\\Joe Z\\anaconda3\\envs\\torch\\lib\\site-packages\\haystack\\modeling\\model\\prediction_head.py:485: UserWarning: __floordiv__ is deprecated, and its behavior will change in a future version of pytorch. It currently rounds toward 0 (like the 'trunc' function NOT 'floor'). This results in incorrect rounding for negative values. To keep the current behavior, use torch.div(a, b, rounding_mode='trunc'), or for actual floor division, use torch.div(a, b, rounding_mode='floor').\n",
      "  start_indices = flat_sorted_indices // max_seq_len\n",
      "Inferencing Samples: 100%|█████████████████████████████████████████████████████████| 1/1 [00:00<00:00,  8.89 Batches/s]\n"
     ]
    },
    {
     "name": "stdout",
     "output_type": "stream",
     "text": [
      "<Answer: answer='coronavirus disease 2019', score=0.6681817770004272, context='Background In this study, we aimed to compare two ...'>\n"
     ]
    },
    {
     "name": "stderr",
     "output_type": "stream",
     "text": [
      "Inferencing Samples:   0%|                                                                 | 0/1 [00:00<?, ? Batches/s]C:\\Users\\Joe Z\\anaconda3\\envs\\torch\\lib\\site-packages\\haystack\\modeling\\model\\prediction_head.py:485: UserWarning: __floordiv__ is deprecated, and its behavior will change in a future version of pytorch. It currently rounds toward 0 (like the 'trunc' function NOT 'floor'). This results in incorrect rounding for negative values. To keep the current behavior, use torch.div(a, b, rounding_mode='trunc'), or for actual floor division, use torch.div(a, b, rounding_mode='floor').\n",
      "  start_indices = flat_sorted_indices // max_seq_len\n",
      "Inferencing Samples: 100%|█████████████████████████████████████████████████████████| 1/1 [00:00<00:00, 10.23 Batches/s]\n"
     ]
    },
    {
     "name": "stdout",
     "output_type": "stream",
     "text": [
      "<Answer: answer='to compare two outbreaks of coronavirus disease 2019 (COVID-19) in Belgium in tomographic and biological-clinical aspects', score=0.2802339196205139, context='tudy, we aimed to compare two outbreaks of coronav...'>\n"
     ]
    },
    {
     "name": "stderr",
     "output_type": "stream",
     "text": [
      "Inferencing Samples:   0%|                                                                 | 0/1 [00:00<?, ? Batches/s]C:\\Users\\Joe Z\\anaconda3\\envs\\torch\\lib\\site-packages\\haystack\\modeling\\model\\prediction_head.py:485: UserWarning: __floordiv__ is deprecated, and its behavior will change in a future version of pytorch. It currently rounds toward 0 (like the 'trunc' function NOT 'floor'). This results in incorrect rounding for negative values. To keep the current behavior, use torch.div(a, b, rounding_mode='trunc'), or for actual floor division, use torch.div(a, b, rounding_mode='floor').\n",
      "  start_indices = flat_sorted_indices // max_seq_len\n",
      "Inferencing Samples: 100%|█████████████████████████████████████████████████████████| 1/1 [00:00<00:00,  7.83 Batches/s]\n"
     ]
    },
    {
     "name": "stdout",
     "output_type": "stream",
     "text": [
      "<Answer: answer='202', score=0.8213668465614319, context='sidents. The chest CT severity score was calculate...'>\n"
     ]
    },
    {
     "name": "stderr",
     "output_type": "stream",
     "text": [
      "Inferencing Samples:   0%|                                                                 | 0/1 [00:00<?, ? Batches/s]C:\\Users\\Joe Z\\anaconda3\\envs\\torch\\lib\\site-packages\\haystack\\modeling\\model\\prediction_head.py:485: UserWarning: __floordiv__ is deprecated, and its behavior will change in a future version of pytorch. It currently rounds toward 0 (like the 'trunc' function NOT 'floor'). This results in incorrect rounding for negative values. To keep the current behavior, use torch.div(a, b, rounding_mode='trunc'), or for actual floor division, use torch.div(a, b, rounding_mode='floor').\n",
      "  start_indices = flat_sorted_indices // max_seq_len\n",
      "Inferencing Samples: 100%|█████████████████████████████████████████████████████████| 1/1 [00:00<00:00,  9.40 Batches/s]\n"
     ]
    },
    {
     "name": "stdout",
     "output_type": "stream",
     "text": [
      "<Answer: answer='chest computed tomography', score=0.5243260562419891, context=' in the first seven days with COVID-19 infection, ...'>\n"
     ]
    },
    {
     "name": "stderr",
     "output_type": "stream",
     "text": [
      "Inferencing Samples:   0%|                                                                 | 0/1 [00:00<?, ? Batches/s]C:\\Users\\Joe Z\\anaconda3\\envs\\torch\\lib\\site-packages\\haystack\\modeling\\model\\prediction_head.py:485: UserWarning: __floordiv__ is deprecated, and its behavior will change in a future version of pytorch. It currently rounds toward 0 (like the 'trunc' function NOT 'floor'). This results in incorrect rounding for negative values. To keep the current behavior, use torch.div(a, b, rounding_mode='trunc'), or for actual floor division, use torch.div(a, b, rounding_mode='floor').\n",
      "  start_indices = flat_sorted_indices // max_seq_len\n",
      "Inferencing Samples: 100%|█████████████████████████████████████████████████████████| 1/1 [00:00<00:00,  9.49 Batches/s]\n"
     ]
    },
    {
     "name": "stdout",
     "output_type": "stream",
     "text": [
      "<Answer: answer='Belgium', score=0.875027596950531, context='imed to compare two outbreaks of coronavirus disea...'>\n"
     ]
    },
    {
     "name": "stderr",
     "output_type": "stream",
     "text": [
      "Inferencing Samples:   0%|                                                                 | 0/1 [00:00<?, ? Batches/s]C:\\Users\\Joe Z\\anaconda3\\envs\\torch\\lib\\site-packages\\haystack\\modeling\\model\\prediction_head.py:485: UserWarning: __floordiv__ is deprecated, and its behavior will change in a future version of pytorch. It currently rounds toward 0 (like the 'trunc' function NOT 'floor'). This results in incorrect rounding for negative values. To keep the current behavior, use torch.div(a, b, rounding_mode='trunc'), or for actual floor division, use torch.div(a, b, rounding_mode='floor').\n",
      "  start_indices = flat_sorted_indices // max_seq_len\n",
      "Inferencing Samples: 100%|█████████████████████████████████████████████████████████| 1/1 [00:00<00:00,  9.40 Batches/s]\n"
     ]
    },
    {
     "name": "stdout",
     "output_type": "stream",
     "text": [
      "<Answer: answer='Belgium', score=0.010742113459855318, context='imed to compare two outbreaks of coronavirus disea...'>\n"
     ]
    },
    {
     "name": "stderr",
     "output_type": "stream",
     "text": [
      "Inferencing Samples:   0%|                                                                 | 0/1 [00:00<?, ? Batches/s]C:\\Users\\Joe Z\\anaconda3\\envs\\torch\\lib\\site-packages\\haystack\\modeling\\model\\prediction_head.py:485: UserWarning: __floordiv__ is deprecated, and its behavior will change in a future version of pytorch. It currently rounds toward 0 (like the 'trunc' function NOT 'floor'). This results in incorrect rounding for negative values. To keep the current behavior, use torch.div(a, b, rounding_mode='trunc'), or for actual floor division, use torch.div(a, b, rounding_mode='floor').\n",
      "  start_indices = flat_sorted_indices // max_seq_len\n",
      "Inferencing Samples: 100%|█████████████████████████████████████████████████████████| 1/1 [00:00<00:00,  8.63 Batches/s]\n"
     ]
    },
    {
     "name": "stdout",
     "output_type": "stream",
     "text": [
      "<Answer: answer='COVID-19', score=0.23281709849834442, context='urred during the course of the disease. The quanti...'>\n"
     ]
    },
    {
     "name": "stderr",
     "output_type": "stream",
     "text": [
      "Inferencing Samples:   0%|                                                                 | 0/1 [00:00<?, ? Batches/s]C:\\Users\\Joe Z\\anaconda3\\envs\\torch\\lib\\site-packages\\haystack\\modeling\\model\\prediction_head.py:485: UserWarning: __floordiv__ is deprecated, and its behavior will change in a future version of pytorch. It currently rounds toward 0 (like the 'trunc' function NOT 'floor'). This results in incorrect rounding for negative values. To keep the current behavior, use torch.div(a, b, rounding_mode='trunc'), or for actual floor division, use torch.div(a, b, rounding_mode='floor').\n",
      "  start_indices = flat_sorted_indices // max_seq_len\n",
      "Inferencing Samples: 100%|█████████████████████████████████████████████████████████| 1/1 [00:00<00:00,  9.93 Batches/s]\n",
      "INFO - haystack.nodes.retriever.sparse -  Found 1 candidate paragraphs from 1 docs in DB\n"
     ]
    },
    {
     "name": "stdout",
     "output_type": "stream",
     "text": [
      "<Answer: answer='Belgium', score=0.09624548628926277, context='imed to compare two outbreaks of coronavirus disea...'>\n"
     ]
    },
    {
     "name": "stderr",
     "output_type": "stream",
     "text": [
      "Inferencing Samples:   0%|                                                                 | 0/1 [00:00<?, ? Batches/s]C:\\Users\\Joe Z\\anaconda3\\envs\\torch\\lib\\site-packages\\haystack\\modeling\\model\\prediction_head.py:485: UserWarning: __floordiv__ is deprecated, and its behavior will change in a future version of pytorch. It currently rounds toward 0 (like the 'trunc' function NOT 'floor'). This results in incorrect rounding for negative values. To keep the current behavior, use torch.div(a, b, rounding_mode='trunc'), or for actual floor division, use torch.div(a, b, rounding_mode='floor').\n",
      "  start_indices = flat_sorted_indices // max_seq_len\n",
      "Inferencing Samples: 100%|█████████████████████████████████████████████████████████| 1/1 [00:00<00:00, 11.79 Batches/s]\n"
     ]
    },
    {
     "name": "stdout",
     "output_type": "stream",
     "text": [
      "<Answer: answer='coronavirus disease 2019', score=0.6681817770004272, context='Background In this study, we aimed to compare two ...'>\n"
     ]
    },
    {
     "name": "stderr",
     "output_type": "stream",
     "text": [
      "Inferencing Samples:   0%|                                                                 | 0/1 [00:00<?, ? Batches/s]C:\\Users\\Joe Z\\anaconda3\\envs\\torch\\lib\\site-packages\\haystack\\modeling\\model\\prediction_head.py:485: UserWarning: __floordiv__ is deprecated, and its behavior will change in a future version of pytorch. It currently rounds toward 0 (like the 'trunc' function NOT 'floor'). This results in incorrect rounding for negative values. To keep the current behavior, use torch.div(a, b, rounding_mode='trunc'), or for actual floor division, use torch.div(a, b, rounding_mode='floor').\n",
      "  start_indices = flat_sorted_indices // max_seq_len\n",
      "Inferencing Samples: 100%|█████████████████████████████████████████████████████████| 1/1 [00:00<00:00, 18.90 Batches/s]\n"
     ]
    },
    {
     "name": "stdout",
     "output_type": "stream",
     "text": [
      "<Answer: answer='to compare two outbreaks of coronavirus disease 2019 (COVID-19) in Belgium in tomographic and biological-clinical aspects', score=0.2802339196205139, context='tudy, we aimed to compare two outbreaks of coronav...'>\n"
     ]
    },
    {
     "name": "stderr",
     "output_type": "stream",
     "text": [
      "Inferencing Samples:   0%|                                                                 | 0/1 [00:00<?, ? Batches/s]C:\\Users\\Joe Z\\anaconda3\\envs\\torch\\lib\\site-packages\\haystack\\modeling\\model\\prediction_head.py:485: UserWarning: __floordiv__ is deprecated, and its behavior will change in a future version of pytorch. It currently rounds toward 0 (like the 'trunc' function NOT 'floor'). This results in incorrect rounding for negative values. To keep the current behavior, use torch.div(a, b, rounding_mode='trunc'), or for actual floor division, use torch.div(a, b, rounding_mode='floor').\n",
      "  start_indices = flat_sorted_indices // max_seq_len\n",
      "Inferencing Samples: 100%|█████████████████████████████████████████████████████████| 1/1 [00:00<00:00, 18.92 Batches/s]\n"
     ]
    },
    {
     "name": "stdout",
     "output_type": "stream",
     "text": [
      "<Answer: answer='202', score=0.8213668465614319, context='sidents. The chest CT severity score was calculate...'>\n"
     ]
    },
    {
     "name": "stderr",
     "output_type": "stream",
     "text": [
      "Inferencing Samples:   0%|                                                                 | 0/1 [00:00<?, ? Batches/s]C:\\Users\\Joe Z\\anaconda3\\envs\\torch\\lib\\site-packages\\haystack\\modeling\\model\\prediction_head.py:485: UserWarning: __floordiv__ is deprecated, and its behavior will change in a future version of pytorch. It currently rounds toward 0 (like the 'trunc' function NOT 'floor'). This results in incorrect rounding for negative values. To keep the current behavior, use torch.div(a, b, rounding_mode='trunc'), or for actual floor division, use torch.div(a, b, rounding_mode='floor').\n",
      "  start_indices = flat_sorted_indices // max_seq_len\n",
      "Inferencing Samples: 100%|█████████████████████████████████████████████████████████| 1/1 [00:00<00:00, 22.28 Batches/s]\n"
     ]
    },
    {
     "name": "stdout",
     "output_type": "stream",
     "text": [
      "<Answer: answer='chest computed tomography', score=0.5243260562419891, context=' in the first seven days with COVID-19 infection, ...'>\n"
     ]
    },
    {
     "name": "stderr",
     "output_type": "stream",
     "text": [
      "Inferencing Samples:   0%|                                                                 | 0/1 [00:00<?, ? Batches/s]C:\\Users\\Joe Z\\anaconda3\\envs\\torch\\lib\\site-packages\\haystack\\modeling\\model\\prediction_head.py:485: UserWarning: __floordiv__ is deprecated, and its behavior will change in a future version of pytorch. It currently rounds toward 0 (like the 'trunc' function NOT 'floor'). This results in incorrect rounding for negative values. To keep the current behavior, use torch.div(a, b, rounding_mode='trunc'), or for actual floor division, use torch.div(a, b, rounding_mode='floor').\n",
      "  start_indices = flat_sorted_indices // max_seq_len\n",
      "Inferencing Samples: 100%|█████████████████████████████████████████████████████████| 1/1 [00:00<00:00, 21.32 Batches/s]\n"
     ]
    },
    {
     "name": "stdout",
     "output_type": "stream",
     "text": [
      "<Answer: answer='Belgium', score=0.875027596950531, context='imed to compare two outbreaks of coronavirus disea...'>\n"
     ]
    },
    {
     "name": "stderr",
     "output_type": "stream",
     "text": [
      "Inferencing Samples:   0%|                                                                 | 0/1 [00:00<?, ? Batches/s]C:\\Users\\Joe Z\\anaconda3\\envs\\torch\\lib\\site-packages\\haystack\\modeling\\model\\prediction_head.py:485: UserWarning: __floordiv__ is deprecated, and its behavior will change in a future version of pytorch. It currently rounds toward 0 (like the 'trunc' function NOT 'floor'). This results in incorrect rounding for negative values. To keep the current behavior, use torch.div(a, b, rounding_mode='trunc'), or for actual floor division, use torch.div(a, b, rounding_mode='floor').\n",
      "  start_indices = flat_sorted_indices // max_seq_len\n",
      "Inferencing Samples: 100%|█████████████████████████████████████████████████████████| 1/1 [00:00<00:00, 23.32 Batches/s]\n"
     ]
    },
    {
     "name": "stdout",
     "output_type": "stream",
     "text": [
      "<Answer: answer='Belgium', score=0.010742113459855318, context='imed to compare two outbreaks of coronavirus disea...'>\n"
     ]
    },
    {
     "name": "stderr",
     "output_type": "stream",
     "text": [
      "Inferencing Samples:   0%|                                                                 | 0/1 [00:00<?, ? Batches/s]C:\\Users\\Joe Z\\anaconda3\\envs\\torch\\lib\\site-packages\\haystack\\modeling\\model\\prediction_head.py:485: UserWarning: __floordiv__ is deprecated, and its behavior will change in a future version of pytorch. It currently rounds toward 0 (like the 'trunc' function NOT 'floor'). This results in incorrect rounding for negative values. To keep the current behavior, use torch.div(a, b, rounding_mode='trunc'), or for actual floor division, use torch.div(a, b, rounding_mode='floor').\n",
      "  start_indices = flat_sorted_indices // max_seq_len\n",
      "Inferencing Samples: 100%|█████████████████████████████████████████████████████████| 1/1 [00:00<00:00, 23.30 Batches/s]\n"
     ]
    },
    {
     "name": "stdout",
     "output_type": "stream",
     "text": [
      "<Answer: answer='COVID-19', score=0.23281709849834442, context='urred during the course of the disease. The quanti...'>\n"
     ]
    },
    {
     "name": "stderr",
     "output_type": "stream",
     "text": [
      "Inferencing Samples:   0%|                                                                 | 0/1 [00:00<?, ? Batches/s]C:\\Users\\Joe Z\\anaconda3\\envs\\torch\\lib\\site-packages\\haystack\\modeling\\model\\prediction_head.py:485: UserWarning: __floordiv__ is deprecated, and its behavior will change in a future version of pytorch. It currently rounds toward 0 (like the 'trunc' function NOT 'floor'). This results in incorrect rounding for negative values. To keep the current behavior, use torch.div(a, b, rounding_mode='trunc'), or for actual floor division, use torch.div(a, b, rounding_mode='floor').\n",
      "  start_indices = flat_sorted_indices // max_seq_len\n",
      "Inferencing Samples: 100%|█████████████████████████████████████████████████████████| 1/1 [00:00<00:00, 23.33 Batches/s]"
     ]
    },
    {
     "name": "stdout",
     "output_type": "stream",
     "text": [
      "<Answer: answer='Belgium', score=0.09624548628926277, context='imed to compare two outbreaks of coronavirus disea...'>\n",
      "61.947543144226074\n"
     ]
    },
    {
     "name": "stderr",
     "output_type": "stream",
     "text": [
      "\n"
     ]
    }
   ],
   "source": [
    "start = time.time()\n",
    "\n",
    "for i, row in testdf.iterrows():\n",
    "    #set up dict for new abstract\n",
    "    abstract_dict = {'content': abstract_list[i], 'meta': {'name': title_list[i]}}\n",
    "    docs_proc = preprocessor.process(abstract_dict)\n",
    "        #####test#####print(f\"n_docs_input: 1\\nn_docs_output: {len(docs_proc)}\")\n",
    "    \n",
    "    #dump old doc store, and import next document into doc store\n",
    "    document_store.delete_documents()\n",
    "    document_store.write_documents(docs_proc)\n",
    "\n",
    "    #set up pipeline\n",
    "    retriever = TfidfRetriever(document_store=document_store)\n",
    "    \n",
    "    #run pipeline for current 'i'\n",
    "    plist = qlist.copy() #same length list to set-up iteration through question bank\n",
    "    l = len(qlist)\n",
    "    \n",
    "    temp_list = []\n",
    "    temp_list = [row['pmid'], row['title'], row['abstract']]\n",
    "    \n",
    "    for answer in range(0,l):\n",
    "        plist[answer] = tuned_pipe.run(\n",
    "            query=qlist[answer], params={\"Retriever\": {\"top_k\": 10}, \"Reader\": {\"top_k\": 5}}\n",
    "        )\n",
    "        \n",
    "        #append top answer for each row/question\n",
    "        print(plist[answer]['answers'][0])\n",
    "        temp_list.append(plist[answer]['answers'][0])\n",
    "        \n",
    "    testdf.loc[i] = temp_list\n",
    "    \n",
    "#measure time\n",
    "end = time.time()\n",
    "print(end - start)"
   ]
  },
  {
   "cell_type": "code",
   "execution_count": 36,
   "id": "ce6b7205",
   "metadata": {},
   "outputs": [],
   "source": [
    "#testdf.to_csv('output/100_test.csv')"
   ]
  },
  {
   "cell_type": "markdown",
   "id": "67b2fc60",
   "metadata": {},
   "source": [
    "# clean data"
   ]
  },
  {
   "cell_type": "code",
   "execution_count": 37,
   "id": "91ebb0ae",
   "metadata": {
    "scrolled": true
   },
   "outputs": [
    {
     "data": {
      "text/html": [
       "<div>\n",
       "<style scoped>\n",
       "    .dataframe tbody tr th:only-of-type {\n",
       "        vertical-align: middle;\n",
       "    }\n",
       "\n",
       "    .dataframe tbody tr th {\n",
       "        vertical-align: top;\n",
       "    }\n",
       "\n",
       "    .dataframe thead th {\n",
       "        text-align: right;\n",
       "    }\n",
       "</style>\n",
       "<table border=\"1\" class=\"dataframe\">\n",
       "  <thead>\n",
       "    <tr style=\"text-align: right;\">\n",
       "      <th></th>\n",
       "      <th>pmid</th>\n",
       "      <th>title</th>\n",
       "      <th>abstract</th>\n",
       "      <th>what disease is being studied?</th>\n",
       "      <th>What is the objective of the study?</th>\n",
       "      <th>how many patient data samples were included in this study?</th>\n",
       "      <th>what modality of data is used in this study?</th>\n",
       "      <th>what country was the study conducted in?</th>\n",
       "      <th>what hospital did the data come from?</th>\n",
       "      <th>What existing database did the data come from?</th>\n",
       "      <th>What organisation did the data come from?</th>\n",
       "    </tr>\n",
       "  </thead>\n",
       "  <tbody>\n",
       "    <tr>\n",
       "      <th>0</th>\n",
       "      <td>35308674</td>\n",
       "      <td>Comparison of Chest Computed Tomography Between the Two Waves of Coronavirus...</td>\n",
       "      <td>Background In this study, we aimed to compare two outbreaks of coronavirus d...</td>\n",
       "      <td>&lt;Answer: answer='coronavirus disease 2019', score=0.6681817770004272, contex...</td>\n",
       "      <td>&lt;Answer: answer='to compare two outbreaks of coronavirus disease 2019 (COVID...</td>\n",
       "      <td>&lt;Answer: answer='202', score=0.8213668465614319, context='sidents. The chest...</td>\n",
       "      <td>&lt;Answer: answer='chest computed tomography', score=0.5243260562419891, conte...</td>\n",
       "      <td>&lt;Answer: answer='Belgium', score=0.875027596950531, context='imed to compare...</td>\n",
       "      <td>&lt;Answer: answer='Belgium', score=0.010742113459855318, context='imed to comp...</td>\n",
       "      <td>&lt;Answer: answer='COVID-19', score=0.23281709849834442, context='urred during...</td>\n",
       "      <td>&lt;Answer: answer='Belgium', score=0.09624548628926277, context='imed to compa...</td>\n",
       "    </tr>\n",
       "    <tr>\n",
       "      <th>1</th>\n",
       "      <td>35309014</td>\n",
       "      <td>A Study of Social and Behavioral Determinants of Health in Lung Cancer Patie...</td>\n",
       "      <td>Social and behavioral determinants of health (SBDoH) have important roles in...</td>\n",
       "      <td>&lt;Answer: answer='coronavirus disease 2019', score=0.6681817770004272, contex...</td>\n",
       "      <td>&lt;Answer: answer='to compare two outbreaks of coronavirus disease 2019 (COVID...</td>\n",
       "      <td>&lt;Answer: answer='202', score=0.8213668465614319, context='sidents. The chest...</td>\n",
       "      <td>&lt;Answer: answer='chest computed tomography', score=0.5243260562419891, conte...</td>\n",
       "      <td>&lt;Answer: answer='Belgium', score=0.875027596950531, context='imed to compare...</td>\n",
       "      <td>&lt;Answer: answer='Belgium', score=0.010742113459855318, context='imed to comp...</td>\n",
       "      <td>&lt;Answer: answer='COVID-19', score=0.23281709849834442, context='urred during...</td>\n",
       "      <td>&lt;Answer: answer='Belgium', score=0.09624548628926277, context='imed to compa...</td>\n",
       "    </tr>\n",
       "    <tr>\n",
       "      <th>2</th>\n",
       "      <td>35308968</td>\n",
       "      <td>A Federated Mining Approach on Predicting Diabetes-Related Complications: De...</td>\n",
       "      <td>Chronic diabetes can lead to microvascular complications, including diabetic...</td>\n",
       "      <td>&lt;Answer: answer='coronavirus disease 2019', score=0.6681817770004272, contex...</td>\n",
       "      <td>&lt;Answer: answer='to compare two outbreaks of coronavirus disease 2019 (COVID...</td>\n",
       "      <td>&lt;Answer: answer='202', score=0.8213668465614319, context='sidents. The chest...</td>\n",
       "      <td>&lt;Answer: answer='chest computed tomography', score=0.5243260562419891, conte...</td>\n",
       "      <td>&lt;Answer: answer='Belgium', score=0.875027596950531, context='imed to compare...</td>\n",
       "      <td>&lt;Answer: answer='Belgium', score=0.010742113459855318, context='imed to comp...</td>\n",
       "      <td>&lt;Answer: answer='COVID-19', score=0.23281709849834442, context='urred during...</td>\n",
       "      <td>&lt;Answer: answer='Belgium', score=0.09624548628926277, context='imed to compa...</td>\n",
       "    </tr>\n",
       "  </tbody>\n",
       "</table>\n",
       "</div>"
      ],
      "text/plain": [
       "       pmid  \\\n",
       "0  35308674   \n",
       "1  35309014   \n",
       "2  35308968   \n",
       "\n",
       "                                                                             title  \\\n",
       "0  Comparison of Chest Computed Tomography Between the Two Waves of Coronavirus...   \n",
       "1  A Study of Social and Behavioral Determinants of Health in Lung Cancer Patie...   \n",
       "2  A Federated Mining Approach on Predicting Diabetes-Related Complications: De...   \n",
       "\n",
       "                                                                          abstract  \\\n",
       "0  Background In this study, we aimed to compare two outbreaks of coronavirus d...   \n",
       "1  Social and behavioral determinants of health (SBDoH) have important roles in...   \n",
       "2  Chronic diabetes can lead to microvascular complications, including diabetic...   \n",
       "\n",
       "                                                    what disease is being studied?  \\\n",
       "0  <Answer: answer='coronavirus disease 2019', score=0.6681817770004272, contex...   \n",
       "1  <Answer: answer='coronavirus disease 2019', score=0.6681817770004272, contex...   \n",
       "2  <Answer: answer='coronavirus disease 2019', score=0.6681817770004272, contex...   \n",
       "\n",
       "                                               What is the objective of the study?  \\\n",
       "0  <Answer: answer='to compare two outbreaks of coronavirus disease 2019 (COVID...   \n",
       "1  <Answer: answer='to compare two outbreaks of coronavirus disease 2019 (COVID...   \n",
       "2  <Answer: answer='to compare two outbreaks of coronavirus disease 2019 (COVID...   \n",
       "\n",
       "                        how many patient data samples were included in this study?  \\\n",
       "0  <Answer: answer='202', score=0.8213668465614319, context='sidents. The chest...   \n",
       "1  <Answer: answer='202', score=0.8213668465614319, context='sidents. The chest...   \n",
       "2  <Answer: answer='202', score=0.8213668465614319, context='sidents. The chest...   \n",
       "\n",
       "                                      what modality of data is used in this study?  \\\n",
       "0  <Answer: answer='chest computed tomography', score=0.5243260562419891, conte...   \n",
       "1  <Answer: answer='chest computed tomography', score=0.5243260562419891, conte...   \n",
       "2  <Answer: answer='chest computed tomography', score=0.5243260562419891, conte...   \n",
       "\n",
       "                                          what country was the study conducted in?  \\\n",
       "0  <Answer: answer='Belgium', score=0.875027596950531, context='imed to compare...   \n",
       "1  <Answer: answer='Belgium', score=0.875027596950531, context='imed to compare...   \n",
       "2  <Answer: answer='Belgium', score=0.875027596950531, context='imed to compare...   \n",
       "\n",
       "                                             what hospital did the data come from?  \\\n",
       "0  <Answer: answer='Belgium', score=0.010742113459855318, context='imed to comp...   \n",
       "1  <Answer: answer='Belgium', score=0.010742113459855318, context='imed to comp...   \n",
       "2  <Answer: answer='Belgium', score=0.010742113459855318, context='imed to comp...   \n",
       "\n",
       "                                    What existing database did the data come from?  \\\n",
       "0  <Answer: answer='COVID-19', score=0.23281709849834442, context='urred during...   \n",
       "1  <Answer: answer='COVID-19', score=0.23281709849834442, context='urred during...   \n",
       "2  <Answer: answer='COVID-19', score=0.23281709849834442, context='urred during...   \n",
       "\n",
       "                                         What organisation did the data come from?  \n",
       "0  <Answer: answer='Belgium', score=0.09624548628926277, context='imed to compa...  \n",
       "1  <Answer: answer='Belgium', score=0.09624548628926277, context='imed to compa...  \n",
       "2  <Answer: answer='Belgium', score=0.09624548628926277, context='imed to compa...  "
      ]
     },
     "execution_count": 37,
     "metadata": {},
     "output_type": "execute_result"
    }
   ],
   "source": [
    "cleandf = testdf.copy().applymap(str)\n",
    "cleandf.head()"
   ]
  },
  {
   "cell_type": "code",
   "execution_count": 38,
   "id": "87ef6119",
   "metadata": {},
   "outputs": [],
   "source": [
    "## create lists for answer/score pairs\n",
    "disease_score = []\n",
    "disease_answer = []\n",
    "question_score = []\n",
    "question_answer = []\n",
    "sample_score = []\n",
    "sample_answer = []\n",
    "modality_score = []\n",
    "modality_answer = []\n",
    "country_score = []\n",
    "country_answer = []\n",
    "hospital_score = []\n",
    "hospital_answer = []\n",
    "database_score = []\n",
    "database_answer = []\n",
    "organisation_score = []\n",
    "organisation_answer = []\n",
    "\n",
    "#categories = [disease_score, disease_answer, sample_score, sample_answer, modality_score, modality_answer,\n",
    "#              country_score, country_answer, hospital_score, hospital_answer, database_score, database_answer,\n",
    "#              organisation_score, organisation_answer]\n"
   ]
  },
  {
   "cell_type": "code",
   "execution_count": 39,
   "id": "4556a5be",
   "metadata": {},
   "outputs": [],
   "source": [
    "## start/end strings for scores and answers\n",
    "score_start = 'score='\n",
    "score_end = ', context'\n",
    "#print((s.split(score_start))[1].split(score_end)[0])\n",
    "\n",
    "answer_start = 'answer='\n",
    "answer_end = ', score'\n",
    "#print((s.split(answer_start))[1].split(answer_end)[0])"
   ]
  },
  {
   "cell_type": "code",
   "execution_count": 40,
   "id": "9071ccdf",
   "metadata": {},
   "outputs": [],
   "source": [
    "for i, row in cleandf.iterrows():\n",
    "    disease_score.append((row['what disease is being studied?'].split(score_start))[1].split(score_end)[0])\n",
    "    disease_answer.append((row['what disease is being studied?'].split(answer_start))[1].split(answer_end)[0])\n",
    "    sample_score.append((row['how many patient data samples were included in this study?'].split(score_start))[1].split(score_end)[0])\n",
    "    sample_answer.append((row['how many patient data samples were included in this study?'].split(answer_start))[1].split(answer_end)[0])\n",
    "    question_score.append((row['What is the objective of the study?'].split(score_start))[1].split(score_end)[0])\n",
    "    question_answer.append((row['What is the objective of the study?'].split(answer_start))[1].split(answer_end)[0])\n",
    "    modality_score.append((row['what modality of data is used in this study?'].split(score_start))[1].split(score_end)[0])\n",
    "    modality_answer.append((row['what modality of data is used in this study?'].split(answer_start))[1].split(answer_end)[0])\n",
    "    country_score.append((row['what country was the study conducted in?'].split(score_start))[1].split(score_end)[0])\n",
    "    country_answer.append((row['what country was the study conducted in?'].split(answer_start))[1].split(answer_end)[0])    \n",
    "    hospital_score.append((row['what hospital did the data come from?'].split(score_start))[1].split(score_end)[0])\n",
    "    hospital_answer.append((row['what hospital did the data come from?'].split(answer_start))[1].split(answer_end)[0])\n",
    "    database_score.append((row['What existing database did the data come from?'].split(score_start))[1].split(score_end)[0])\n",
    "    database_answer.append((row['What existing database did the data come from?'].split(answer_start))[1].split(answer_end)[0])\n",
    "    organisation_score.append((row['What organisation did the data come from?'].split(score_start))[1].split(score_end)[0])\n",
    "    organisation_answer.append((row['What organisation did the data come from?'].split(answer_start))[1].split(answer_end)[0])        "
   ]
  },
  {
   "cell_type": "code",
   "execution_count": 41,
   "id": "b9bed5f1",
   "metadata": {},
   "outputs": [],
   "source": [
    "scoredf = cleandf[['pmid', 'title', 'abstract']].copy()"
   ]
  },
  {
   "cell_type": "code",
   "execution_count": 48,
   "id": "3825d2a6",
   "metadata": {},
   "outputs": [],
   "source": [
    "scoredf['disease_answer'] = disease_answer\n",
    "scoredf['disease_answer'] = scoredf['disease_answer'].str[1:-1]\n",
    "scoredf['disease_score'] = disease_score\n",
    "\n",
    "scoredf['sample_answer'] = sample_answer\n",
    "scoredf['sample_answer'] = scoredf['sample_answer'].str[1:-1]\n",
    "scoredf['sample_score'] = sample_score\n",
    "\n",
    "scoredf['question_answer'] = question_answer\n",
    "scoredf['question_answer'] = scoredf['question_answer'].str[1:-1]\n",
    "scoredf['question_score'] = question_score\n",
    "\n",
    "scoredf['modality_answer'] = modality_answer\n",
    "scoredf['modality_answer'] = scoredf['modality_answer'].str[1:-1]\n",
    "scoredf['modality_score'] = modality_score\n",
    "\n",
    "scoredf['country_answer'] = country_answer\n",
    "scoredf['country_answer'] = scoredf['country_answer'].str[1:-1]\n",
    "scoredf['country_score'] = country_score\n",
    "\n",
    "scoredf['hospital_answer'] = hospital_answer\n",
    "scoredf['hospital_answer'] = scoredf['hospital_answer'].str[1:-1]\n",
    "scoredf['hospital_score'] = hospital_score\n",
    "\n",
    "scoredf['database_answer'] = database_answer\n",
    "scoredf['database_answer'] = scoredf['database_answer'].str[1:-1]\n",
    "scoredf['database_score'] = database_score\n",
    "\n",
    "scoredf['organisation_answer'] = database_answer\n",
    "scoredf['organisation_answer'] = scoredf['organisation_answer'].str[1:-1]\n",
    "scoredf['organisation_score'] = database_score"
   ]
  },
  {
   "cell_type": "code",
   "execution_count": 49,
   "id": "ae4b9341",
   "metadata": {},
   "outputs": [
    {
     "data": {
      "text/html": [
       "<div>\n",
       "<style scoped>\n",
       "    .dataframe tbody tr th:only-of-type {\n",
       "        vertical-align: middle;\n",
       "    }\n",
       "\n",
       "    .dataframe tbody tr th {\n",
       "        vertical-align: top;\n",
       "    }\n",
       "\n",
       "    .dataframe thead th {\n",
       "        text-align: right;\n",
       "    }\n",
       "</style>\n",
       "<table border=\"1\" class=\"dataframe\">\n",
       "  <thead>\n",
       "    <tr style=\"text-align: right;\">\n",
       "      <th></th>\n",
       "      <th>pmid</th>\n",
       "      <th>title</th>\n",
       "      <th>abstract</th>\n",
       "      <th>disease_answer</th>\n",
       "      <th>disease_score</th>\n",
       "      <th>sample_answer</th>\n",
       "      <th>sample_score</th>\n",
       "      <th>question_answer</th>\n",
       "      <th>question_score</th>\n",
       "      <th>modality_answer</th>\n",
       "      <th>modality_score</th>\n",
       "      <th>country_answer</th>\n",
       "      <th>country_score</th>\n",
       "      <th>hospital_answer</th>\n",
       "      <th>hospital_score</th>\n",
       "      <th>database_answer</th>\n",
       "      <th>database_score</th>\n",
       "      <th>organisation_answer</th>\n",
       "      <th>organisation_score</th>\n",
       "    </tr>\n",
       "  </thead>\n",
       "  <tbody>\n",
       "    <tr>\n",
       "      <th>0</th>\n",
       "      <td>35308674</td>\n",
       "      <td>Comparison of Chest Computed Tomography Between the Two Waves of Coronavirus...</td>\n",
       "      <td>Background In this study, we aimed to compare two outbreaks of coronavirus d...</td>\n",
       "      <td>coronavirus disease 2019</td>\n",
       "      <td>0.6681817770004272</td>\n",
       "      <td>202</td>\n",
       "      <td>0.8213668465614319</td>\n",
       "      <td>to compare two outbreaks of coronavirus disease 2019 (COVID-19) in Belgium i...</td>\n",
       "      <td>0.2802339196205139</td>\n",
       "      <td>chest computed tomography</td>\n",
       "      <td>0.5243260562419891</td>\n",
       "      <td>Belgium</td>\n",
       "      <td>0.875027596950531</td>\n",
       "      <td>Belgium</td>\n",
       "      <td>0.010742113459855318</td>\n",
       "      <td>COVID-19</td>\n",
       "      <td>0.23281709849834442</td>\n",
       "      <td>COVID-19</td>\n",
       "      <td>0.23281709849834442</td>\n",
       "    </tr>\n",
       "    <tr>\n",
       "      <th>1</th>\n",
       "      <td>35309014</td>\n",
       "      <td>A Study of Social and Behavioral Determinants of Health in Lung Cancer Patie...</td>\n",
       "      <td>Social and behavioral determinants of health (SBDoH) have important roles in...</td>\n",
       "      <td>coronavirus disease 2019</td>\n",
       "      <td>0.6681817770004272</td>\n",
       "      <td>202</td>\n",
       "      <td>0.8213668465614319</td>\n",
       "      <td>to compare two outbreaks of coronavirus disease 2019 (COVID-19) in Belgium i...</td>\n",
       "      <td>0.2802339196205139</td>\n",
       "      <td>chest computed tomography</td>\n",
       "      <td>0.5243260562419891</td>\n",
       "      <td>Belgium</td>\n",
       "      <td>0.875027596950531</td>\n",
       "      <td>Belgium</td>\n",
       "      <td>0.010742113459855318</td>\n",
       "      <td>COVID-19</td>\n",
       "      <td>0.23281709849834442</td>\n",
       "      <td>COVID-19</td>\n",
       "      <td>0.23281709849834442</td>\n",
       "    </tr>\n",
       "    <tr>\n",
       "      <th>2</th>\n",
       "      <td>35308968</td>\n",
       "      <td>A Federated Mining Approach on Predicting Diabetes-Related Complications: De...</td>\n",
       "      <td>Chronic diabetes can lead to microvascular complications, including diabetic...</td>\n",
       "      <td>coronavirus disease 2019</td>\n",
       "      <td>0.6681817770004272</td>\n",
       "      <td>202</td>\n",
       "      <td>0.8213668465614319</td>\n",
       "      <td>to compare two outbreaks of coronavirus disease 2019 (COVID-19) in Belgium i...</td>\n",
       "      <td>0.2802339196205139</td>\n",
       "      <td>chest computed tomography</td>\n",
       "      <td>0.5243260562419891</td>\n",
       "      <td>Belgium</td>\n",
       "      <td>0.875027596950531</td>\n",
       "      <td>Belgium</td>\n",
       "      <td>0.010742113459855318</td>\n",
       "      <td>COVID-19</td>\n",
       "      <td>0.23281709849834442</td>\n",
       "      <td>COVID-19</td>\n",
       "      <td>0.23281709849834442</td>\n",
       "    </tr>\n",
       "  </tbody>\n",
       "</table>\n",
       "</div>"
      ],
      "text/plain": [
       "       pmid  \\\n",
       "0  35308674   \n",
       "1  35309014   \n",
       "2  35308968   \n",
       "\n",
       "                                                                             title  \\\n",
       "0  Comparison of Chest Computed Tomography Between the Two Waves of Coronavirus...   \n",
       "1  A Study of Social and Behavioral Determinants of Health in Lung Cancer Patie...   \n",
       "2  A Federated Mining Approach on Predicting Diabetes-Related Complications: De...   \n",
       "\n",
       "                                                                          abstract  \\\n",
       "0  Background In this study, we aimed to compare two outbreaks of coronavirus d...   \n",
       "1  Social and behavioral determinants of health (SBDoH) have important roles in...   \n",
       "2  Chronic diabetes can lead to microvascular complications, including diabetic...   \n",
       "\n",
       "             disease_answer       disease_score sample_answer  \\\n",
       "0  coronavirus disease 2019  0.6681817770004272           202   \n",
       "1  coronavirus disease 2019  0.6681817770004272           202   \n",
       "2  coronavirus disease 2019  0.6681817770004272           202   \n",
       "\n",
       "         sample_score  \\\n",
       "0  0.8213668465614319   \n",
       "1  0.8213668465614319   \n",
       "2  0.8213668465614319   \n",
       "\n",
       "                                                                   question_answer  \\\n",
       "0  to compare two outbreaks of coronavirus disease 2019 (COVID-19) in Belgium i...   \n",
       "1  to compare two outbreaks of coronavirus disease 2019 (COVID-19) in Belgium i...   \n",
       "2  to compare two outbreaks of coronavirus disease 2019 (COVID-19) in Belgium i...   \n",
       "\n",
       "       question_score            modality_answer      modality_score  \\\n",
       "0  0.2802339196205139  chest computed tomography  0.5243260562419891   \n",
       "1  0.2802339196205139  chest computed tomography  0.5243260562419891   \n",
       "2  0.2802339196205139  chest computed tomography  0.5243260562419891   \n",
       "\n",
       "  country_answer      country_score hospital_answer        hospital_score  \\\n",
       "0        Belgium  0.875027596950531         Belgium  0.010742113459855318   \n",
       "1        Belgium  0.875027596950531         Belgium  0.010742113459855318   \n",
       "2        Belgium  0.875027596950531         Belgium  0.010742113459855318   \n",
       "\n",
       "  database_answer       database_score organisation_answer  \\\n",
       "0        COVID-19  0.23281709849834442            COVID-19   \n",
       "1        COVID-19  0.23281709849834442            COVID-19   \n",
       "2        COVID-19  0.23281709849834442            COVID-19   \n",
       "\n",
       "    organisation_score  \n",
       "0  0.23281709849834442  \n",
       "1  0.23281709849834442  \n",
       "2  0.23281709849834442  "
      ]
     },
     "execution_count": 49,
     "metadata": {},
     "output_type": "execute_result"
    }
   ],
   "source": [
    "scoredf.head(5)"
   ]
  },
  {
   "cell_type": "code",
   "execution_count": 266,
   "id": "5523b77c",
   "metadata": {},
   "outputs": [],
   "source": [
    "#scoredf.to_csv('output/100_scored.csv')"
   ]
  },
  {
   "cell_type": "code",
   "execution_count": null,
   "id": "ae49b4c5",
   "metadata": {},
   "outputs": [],
   "source": []
  },
  {
   "cell_type": "code",
   "execution_count": null,
   "id": "f20f3129",
   "metadata": {},
   "outputs": [],
   "source": []
  },
  {
   "cell_type": "code",
   "execution_count": null,
   "id": "660132b7",
   "metadata": {},
   "outputs": [],
   "source": []
  },
  {
   "cell_type": "code",
   "execution_count": null,
   "id": "9d6f8aef",
   "metadata": {},
   "outputs": [],
   "source": []
  }
 ],
 "metadata": {
  "kernelspec": {
   "display_name": "Python 3 (ipykernel)",
   "language": "python",
   "name": "python3"
  },
  "language_info": {
   "codemirror_mode": {
    "name": "ipython",
    "version": 3
   },
   "file_extension": ".py",
   "mimetype": "text/x-python",
   "name": "python",
   "nbconvert_exporter": "python",
   "pygments_lexer": "ipython3",
   "version": "3.8.8"
  }
 },
 "nbformat": 4,
 "nbformat_minor": 5
}
