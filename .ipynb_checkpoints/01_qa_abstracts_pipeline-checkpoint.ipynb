{
 "cells": [
  {
   "cell_type": "code",
   "execution_count": 1,
   "id": "30bc93f1",
   "metadata": {},
   "outputs": [],
   "source": [
    "import pandas as pd\n",
    "import numpy as np\n",
    "import time\n",
    "import re\n",
    "from tqdm.notebook import tqdm"
   ]
  },
  {
   "cell_type": "code",
   "execution_count": 2,
   "id": "60a63b5a",
   "metadata": {},
   "outputs": [
    {
     "data": {
      "text/plain": [
       "False"
      ]
     },
     "execution_count": 2,
     "metadata": {},
     "output_type": "execute_result"
    }
   ],
   "source": [
    "import torch\n",
    "torch.cuda.is_available()"
   ]
  },
  {
   "cell_type": "code",
   "execution_count": 3,
   "id": "adc163f4",
   "metadata": {},
   "outputs": [
    {
     "name": "stderr",
     "output_type": "stream",
     "text": [
      "INFO - haystack.modeling.model.optimization -  apex not found, won't use it. See https://nvidia.github.io/apex/\n"
     ]
    }
   ],
   "source": [
    "from haystack.utils import clean_wiki_text, convert_files_to_dicts, fetch_archive_from_http, print_answers\n",
    "from haystack.nodes import FARMReader, TransformersReader\n",
    "from haystack.nodes import TextConverter, PDFToTextConverter, DocxToTextConverter, PreProcessor\n",
    "from haystack.pipelines import ExtractiveQAPipeline\n",
    "\n",
    "#haystack contains a search system for retrieval and QA across documents.\n",
    "#designed for large documents, but pipeline also works for single document QA "
   ]
  },
  {
   "cell_type": "code",
   "execution_count": 4,
   "id": "4b6ab6ac",
   "metadata": {},
   "outputs": [],
   "source": [
    "# In-Memory Document Store\n",
    "from haystack.document_stores import InMemoryDocumentStore"
   ]
  },
  {
   "cell_type": "code",
   "execution_count": 5,
   "id": "ae4dc9c9",
   "metadata": {},
   "outputs": [],
   "source": [
    "# Retrieve from store\n",
    "from haystack.nodes import TfidfRetriever"
   ]
  },
  {
   "cell_type": "markdown",
   "id": "d8928dda",
   "metadata": {},
   "source": [
    "# import file containing all abstracts"
   ]
  },
  {
   "cell_type": "code",
   "execution_count": null,
   "id": "e66bb980",
   "metadata": {},
   "outputs": [],
   "source": [
    "all_abstracts = pd.read_csv('data/included_abstracts.csv', index_col=0)\n",
    "\n",
    "all_abstracts['article_date'] = pd.to_datetime(all_abstracts['article_date'])\n",
    "decade_df = all_abstracts[(all_abstracts['article_date'] > '2012-01-01') & (all_abstracts['article_date'] <'2022-01-01')].reset_index(drop=True)\n",
    "len(decade_df)"
   ]
  },
  {
   "cell_type": "code",
   "execution_count": null,
   "id": "18deeeda",
   "metadata": {},
   "outputs": [],
   "source": [
    "abstract_list = decade_df['abstract']\n",
    "title_list = list(range(0,len(abstract_list)))\n",
    "pmid_list = decade_df['pmid']"
   ]
  },
  {
   "cell_type": "code",
   "execution_count": null,
   "id": "417a603b",
   "metadata": {},
   "outputs": [],
   "source": [
    "abstract_list.head()"
   ]
  },
  {
   "cell_type": "code",
   "execution_count": null,
   "id": "b732ef73",
   "metadata": {
    "scrolled": true
   },
   "outputs": [],
   "source": [
    "len(abstract_list)"
   ]
  },
  {
   "cell_type": "code",
   "execution_count": null,
   "id": "578ba18d",
   "metadata": {},
   "outputs": [],
   "source": [
    "#n = 55\n",
    "#test = abstract_list[n]\n",
    "#title = title_list[n]\n",
    "#\n",
    "#test_dict = {'content': test, 'meta': {'name': title}}\n",
    "#\n",
    "#test_dict"
   ]
  },
  {
   "cell_type": "markdown",
   "id": "91128e36",
   "metadata": {},
   "source": [
    "# set up question bank"
   ]
  },
  {
   "cell_type": "code",
   "execution_count": null,
   "id": "e922a3ad",
   "metadata": {},
   "outputs": [],
   "source": [
    "q1=\"what disease is being studied?\"\n",
    "#q2=\"What is the objective of the study?\"\n",
    "###\n",
    "q3=\"how many patient data samples were included in this study?\"\n",
    "q4=\"what modality of data is used in this study?\"\n",
    "###\n",
    "#q5=\"what country was the study conducted in?\"\n",
    "#q6=\"what hospital did the data come from?\"\n",
    "q7=\"What existing database did the data come from?\"\n",
    "q8=\"What organisation did the data come from?\"\n",
    "###\n",
    "#q10=\"how does the model perform relative to a human?\"\n",
    "#q11=\"how does the model perform in prospective testing\"\n",
    "#q12=\"what were the results of the study?\"\n",
    "#q12=\"what was the area under the curve (AUC) value?\"\n",
    "qlist = [q1, q3, q4, q7, q8]\n",
    "#qlist = [q1, q2, q3, q4, q5, q6, q7, q8]"
   ]
  },
  {
   "cell_type": "markdown",
   "id": "4bade33d",
   "metadata": {},
   "source": [
    "# initialising pre-processor module"
   ]
  },
  {
   "cell_type": "code",
   "execution_count": null,
   "id": "5108f91a",
   "metadata": {},
   "outputs": [],
   "source": [
    "preprocessor = PreProcessor(\n",
    "    clean_empty_lines=True,\n",
    "    clean_whitespace=True,\n",
    "    clean_header_footer=False,\n",
    "    split_by=\"word\",\n",
    "    split_length=2000,\n",
    "    split_respect_sentence_boundary=True,\n",
    ")\n",
    "\n",
    "document_store = InMemoryDocumentStore()"
   ]
  },
  {
   "cell_type": "markdown",
   "id": "880131d6",
   "metadata": {},
   "source": [
    "# hugging face model"
   ]
  },
  {
   "cell_type": "code",
   "execution_count": null,
   "id": "c0b1e670",
   "metadata": {},
   "outputs": [],
   "source": [
    "# Reader scans text returned by retriever and extracts k-best answers\n",
    "# Load a fine-tuned  model (e.g. RoBERTa QA = \"deepset/roberta-base-squad2\")\n",
    "# alternatives (Reader): TransformersReader (leveraging the pipeline of the Transformers package)\n",
    "# alternatives (Models): e.g. \"distilbert-base-uncased-distilled-squad\" (fast) or \"deepset/bert-large-uncased-whole-word-masking-squad2\" (good accuracy)\n",
    "# can adjust the model to return \"no answer possible\" with the no_ans_boost. Higher values mean the model prefers \"no answer possible\"\n",
    "# alternatively, QA models on model hub (https://huggingface.co/models)\n",
    "#sota: ahotrod/albert_xxlargev1_squad2_512\n",
    "#dmis-lab/biobert-large-cased-v1.1-squad\n",
    "#\n",
    "#reader = FARMReader(model_name_or_path=\"deepset/roberta-base-squad2\", use_gpu=True, use_confidence_scores=True)\n",
    "#sets pipeline to contain retriever and reader\n",
    "#pipe = ExtractiveQAPipeline(reader, retriever)"
   ]
  },
  {
   "cell_type": "markdown",
   "id": "79b93070",
   "metadata": {},
   "source": [
    "# question answer pipeline"
   ]
  },
  {
   "cell_type": "code",
   "execution_count": null,
   "id": "90569010",
   "metadata": {},
   "outputs": [],
   "source": [
    "##create dataframe to hold results\n",
    "\n",
    "resultsdf = decade_df[['pmid', 'title', 'abstract']].copy()\n",
    "\n",
    "for q in qlist:\n",
    "    resultsdf[q] = pd.Series(dtype='object')\n",
    "    \n",
    "#resultsdf['q1_disease'] = pd.Series(dtype='object')\n",
    "#resultsdf['q2_objective'] = pd.Series(dtype='object')\n",
    "#resultsdf['q3_size'] = pd.Series(dtype='object')\n",
    "#resultsdf['q4_modality'] = pd.Series(dtype='object')\n",
    "#resultsdf['q5_country'] = pd.Series(dtype='object')\n",
    "#resultsdf['q6_hospital'] = pd.Series(dtype='object')\n",
    "#resultsdf['q7_database'] = pd.Series(dtype='object')\n",
    "#resultsdf['q8_organisation'] = pd.Series(dtype='object')\n",
    "\n",
    "print(len(resultsdf))\n",
    "resultsdf.head(2)"
   ]
  },
  {
   "cell_type": "code",
   "execution_count": null,
   "id": "d08745d9",
   "metadata": {
    "scrolled": true
   },
   "outputs": [],
   "source": [
    "#testdf = resultsdf[0:50]\n",
    "testdf = resultsdf.copy()\n",
    "testdf.head()"
   ]
  },
  {
   "cell_type": "code",
   "execution_count": null,
   "id": "4f0f2b0c",
   "metadata": {},
   "outputs": [],
   "source": [
    "retriever = TfidfRetriever(document_store=document_store)\n",
    "tuned_reader = FARMReader(model_name_or_path=\"pubmed_tuned\", use_gpu=True, use_confidence_scores=True)\n",
    "tuned_pipe = ExtractiveQAPipeline(tuned_reader, retriever)"
   ]
  },
  {
   "cell_type": "code",
   "execution_count": null,
   "id": "4d6893c5",
   "metadata": {
    "scrolled": true
   },
   "outputs": [],
   "source": [
    "start = time.time()\n",
    "\n",
    "for i, row in tqdm(testdf.iterrows()):\n",
    "    try:\n",
    "        #set up dict for new abstract\n",
    "        abstract_dict = {'content': abstract_list[i], 'meta': {'name': title_list[i]}}\n",
    "        docs_proc = preprocessor.process(abstract_dict)\n",
    "            #####test#####print(f\"n_docs_input: 1\\nn_docs_output: {len(docs_proc)}\")\n",
    "    \n",
    "        #dump old doc store, and import next document into doc store\n",
    "        document_store.delete_documents()\n",
    "        document_store.write_documents(docs_proc)\n",
    "    \n",
    "        #set up pipeline\n",
    "        retriever = TfidfRetriever(document_store=document_store)\n",
    "        tuned_pipe = ExtractiveQAPipeline(tuned_reader, retriever)\n",
    "    \n",
    "        #run pipeline for current 'i'\n",
    "        plist = qlist.copy() #same length list to set-up iteration through question bank\n",
    "        l = len(qlist)\n",
    "        \n",
    "        temp_list = []\n",
    "        temp_list = [row['pmid'], row['title'], row['abstract']]\n",
    "        \n",
    "        for answer in range(0,l):\n",
    "            plist[answer] = tuned_pipe.run(\n",
    "                query=qlist[answer], params={\"Retriever\": {\"top_k\": 10}, \"Reader\": {\"top_k\": 5}}\n",
    "            )\n",
    "            \n",
    "            #append top answer for each row/question\n",
    "            #print(plist[answer]['answers'][0])\n",
    "            temp_list.append(plist[answer]['answers'][0])\n",
    "        \n",
    "        testdf.loc[i] = temp_list\n",
    "    \n",
    "    except:\n",
    "        pass\n",
    "    \n",
    "#measure time\n",
    "end = time.time()\n",
    "print(end - start)"
   ]
  },
  {
   "cell_type": "code",
   "execution_count": null,
   "id": "ce6b7205",
   "metadata": {},
   "outputs": [],
   "source": [
    "testdf.to_csv('output/abstracts_interim.csv')"
   ]
  },
  {
   "cell_type": "markdown",
   "id": "67b2fc60",
   "metadata": {},
   "source": [
    "# clean data"
   ]
  },
  {
   "cell_type": "code",
   "execution_count": 6,
   "id": "3879c03f",
   "metadata": {},
   "outputs": [],
   "source": [
    "testdf = pd.read_csv('output/abstracts_interim.csv', index_col=0)"
   ]
  },
  {
   "cell_type": "code",
   "execution_count": 7,
   "id": "91ebb0ae",
   "metadata": {
    "scrolled": true
   },
   "outputs": [
    {
     "data": {
      "text/html": [
       "<div>\n",
       "<style scoped>\n",
       "    .dataframe tbody tr th:only-of-type {\n",
       "        vertical-align: middle;\n",
       "    }\n",
       "\n",
       "    .dataframe tbody tr th {\n",
       "        vertical-align: top;\n",
       "    }\n",
       "\n",
       "    .dataframe thead th {\n",
       "        text-align: right;\n",
       "    }\n",
       "</style>\n",
       "<table border=\"1\" class=\"dataframe\">\n",
       "  <thead>\n",
       "    <tr style=\"text-align: right;\">\n",
       "      <th></th>\n",
       "      <th>pmid</th>\n",
       "      <th>title</th>\n",
       "      <th>abstract</th>\n",
       "      <th>what disease is being studied?</th>\n",
       "      <th>how many patient data samples were included in this study?</th>\n",
       "      <th>what modality of data is used in this study?</th>\n",
       "      <th>What existing database did the data come from?</th>\n",
       "      <th>What organisation did the data come from?</th>\n",
       "    </tr>\n",
       "  </thead>\n",
       "  <tbody>\n",
       "    <tr>\n",
       "      <th>0</th>\n",
       "      <td>35309968</td>\n",
       "      <td>mTeeth: Identifying Brushing Teeth Surfaces Using Wrist-Worn Inertial Sensors.</td>\n",
       "      <td>Ensuring that all the teeth surfaces are adequately covered during daily bru...</td>\n",
       "      <td>&lt;Answer: answer='oral diseases', score=0.30402445793151855, context='quately...</td>\n",
       "      <td>&lt;Answer: answer='114', score=0.4147607386112213, context='tion. We annotate ...</td>\n",
       "      <td>&lt;Answer: answer='inertial sensors', score=0.5593151301145554, context='tooth...</td>\n",
       "      <td>&lt;Answer: answer='wrist-worn inertial sensor dataset collected from the natur...</td>\n",
       "      <td>&lt;Answer: answer='the natural environment', score=0.098945751786232, context=...</td>\n",
       "    </tr>\n",
       "    <tr>\n",
       "      <th>1</th>\n",
       "      <td>35330785</td>\n",
       "      <td>Development of a Machine Learning Algorithm for Prediction of Complications ...</td>\n",
       "      <td>Reverse total shoulder arthroplasty (rTSA) offers tremendous promise for the...</td>\n",
       "      <td>&lt;Answer: answer='Reverse total shoulder arthroplasty', score=0.3776613026857...</td>\n",
       "      <td>&lt;Answer: answer='2799', score=0.4943038523197174, context=' scores. The key ...</td>\n",
       "      <td>&lt;Answer: answer='Office of Statewide Health Planning and Development databas...</td>\n",
       "      <td>&lt;Answer: answer='Office of Statewide Health Planning and Development databas...</td>\n",
       "      <td>&lt;Answer: answer='Office of Statewide Health Planning and Development', score...</td>\n",
       "    </tr>\n",
       "    <tr>\n",
       "      <th>2</th>\n",
       "      <td>35330977</td>\n",
       "      <td>ECG Restitution Analysis and Machine Learning to Detect Paroxysmal Atrial Fi...</td>\n",
       "      <td>Atrial fibrillation is the most frequent arrhythmia in both equine and human...</td>\n",
       "      <td>&lt;Answer: answer='paroxysmal atrial fibrillation', score=0.3911014795303345, ...</td>\n",
       "      <td>&lt;Answer: answer='control and horses with PAF', score=0.11062590032815933, co...</td>\n",
       "      <td>&lt;Answer: answer='normal sinus-rhythm ECGs', score=0.3160859942436218, contex...</td>\n",
       "      <td>&lt;Answer: answer='normal sinus-rhythm ECGs', score=0.07146770507097244, conte...</td>\n",
       "      <td>&lt;Answer: answer='horses with PAF', score=0.004044723929837346, context='ordi...</td>\n",
       "    </tr>\n",
       "    <tr>\n",
       "      <th>3</th>\n",
       "      <td>35330920</td>\n",
       "      <td>Segmenting Thoracic Cavities with Neoplastic Lesions: A Head-to-head Benchma...</td>\n",
       "      <td>Automatic segmentation of thoracic cavity structures in computer tomography ...</td>\n",
       "      <td>&lt;Answer: answer='neoplastic disease', score=0.4418141692876816, context='per...</td>\n",
       "      <td>&lt;Answer: answer='402', score=0.7768610417842865, context='uated using a data...</td>\n",
       "      <td>&lt;Answer: answer='CT images', score=0.5029252022504807, context='-processing ...</td>\n",
       "      <td>&lt;Answer: answer='402 cancer patients', score=0.757216066122055, context='ing...</td>\n",
       "      <td>&lt;Answer: answer='402 cancer patients', score=0.19367507100105286, context='i...</td>\n",
       "    </tr>\n",
       "    <tr>\n",
       "      <th>4</th>\n",
       "      <td>30814403</td>\n",
       "      <td>Combined machine learning and functional magnetic resonance imaging allows i...</td>\n",
       "      <td>Hypoxia exposure during high-altitude expedition cause psychomotor impairmen...</td>\n",
       "      <td>&lt;Answer: answer='psychomotor impairment', score=0.34731435775756836, context...</td>\n",
       "      <td>&lt;Answer: answer='69', score=0.7202786207199097, context='utilized to predict...</td>\n",
       "      <td>&lt;Answer: answer='Rs-fMRI', score=0.3410738706588745, context='calculated, wh...</td>\n",
       "      <td>&lt;Answer: answer='Shaanxi-Tibet immigrant cohort', score=0.850153923034668, c...</td>\n",
       "      <td>&lt;Answer: answer='Shaanxi-Tibet immigrant cohort', score=0.6297355592250824, ...</td>\n",
       "    </tr>\n",
       "  </tbody>\n",
       "</table>\n",
       "</div>"
      ],
      "text/plain": [
       "       pmid  \\\n",
       "0  35309968   \n",
       "1  35330785   \n",
       "2  35330977   \n",
       "3  35330920   \n",
       "4  30814403   \n",
       "\n",
       "                                                                             title  \\\n",
       "0   mTeeth: Identifying Brushing Teeth Surfaces Using Wrist-Worn Inertial Sensors.   \n",
       "1  Development of a Machine Learning Algorithm for Prediction of Complications ...   \n",
       "2  ECG Restitution Analysis and Machine Learning to Detect Paroxysmal Atrial Fi...   \n",
       "3  Segmenting Thoracic Cavities with Neoplastic Lesions: A Head-to-head Benchma...   \n",
       "4  Combined machine learning and functional magnetic resonance imaging allows i...   \n",
       "\n",
       "                                                                          abstract  \\\n",
       "0  Ensuring that all the teeth surfaces are adequately covered during daily bru...   \n",
       "1  Reverse total shoulder arthroplasty (rTSA) offers tremendous promise for the...   \n",
       "2  Atrial fibrillation is the most frequent arrhythmia in both equine and human...   \n",
       "3  Automatic segmentation of thoracic cavity structures in computer tomography ...   \n",
       "4  Hypoxia exposure during high-altitude expedition cause psychomotor impairmen...   \n",
       "\n",
       "                                                    what disease is being studied?  \\\n",
       "0  <Answer: answer='oral diseases', score=0.30402445793151855, context='quately...   \n",
       "1  <Answer: answer='Reverse total shoulder arthroplasty', score=0.3776613026857...   \n",
       "2  <Answer: answer='paroxysmal atrial fibrillation', score=0.3911014795303345, ...   \n",
       "3  <Answer: answer='neoplastic disease', score=0.4418141692876816, context='per...   \n",
       "4  <Answer: answer='psychomotor impairment', score=0.34731435775756836, context...   \n",
       "\n",
       "                        how many patient data samples were included in this study?  \\\n",
       "0  <Answer: answer='114', score=0.4147607386112213, context='tion. We annotate ...   \n",
       "1  <Answer: answer='2799', score=0.4943038523197174, context=' scores. The key ...   \n",
       "2  <Answer: answer='control and horses with PAF', score=0.11062590032815933, co...   \n",
       "3  <Answer: answer='402', score=0.7768610417842865, context='uated using a data...   \n",
       "4  <Answer: answer='69', score=0.7202786207199097, context='utilized to predict...   \n",
       "\n",
       "                                      what modality of data is used in this study?  \\\n",
       "0  <Answer: answer='inertial sensors', score=0.5593151301145554, context='tooth...   \n",
       "1  <Answer: answer='Office of Statewide Health Planning and Development databas...   \n",
       "2  <Answer: answer='normal sinus-rhythm ECGs', score=0.3160859942436218, contex...   \n",
       "3  <Answer: answer='CT images', score=0.5029252022504807, context='-processing ...   \n",
       "4  <Answer: answer='Rs-fMRI', score=0.3410738706588745, context='calculated, wh...   \n",
       "\n",
       "                                    What existing database did the data come from?  \\\n",
       "0  <Answer: answer='wrist-worn inertial sensor dataset collected from the natur...   \n",
       "1  <Answer: answer='Office of Statewide Health Planning and Development databas...   \n",
       "2  <Answer: answer='normal sinus-rhythm ECGs', score=0.07146770507097244, conte...   \n",
       "3  <Answer: answer='402 cancer patients', score=0.757216066122055, context='ing...   \n",
       "4  <Answer: answer='Shaanxi-Tibet immigrant cohort', score=0.850153923034668, c...   \n",
       "\n",
       "                                         What organisation did the data come from?  \n",
       "0  <Answer: answer='the natural environment', score=0.098945751786232, context=...  \n",
       "1  <Answer: answer='Office of Statewide Health Planning and Development', score...  \n",
       "2  <Answer: answer='horses with PAF', score=0.004044723929837346, context='ordi...  \n",
       "3  <Answer: answer='402 cancer patients', score=0.19367507100105286, context='i...  \n",
       "4  <Answer: answer='Shaanxi-Tibet immigrant cohort', score=0.6297355592250824, ...  "
      ]
     },
     "execution_count": 7,
     "metadata": {},
     "output_type": "execute_result"
    }
   ],
   "source": [
    "cleandf = testdf.copy().applymap(str)\n",
    "cleandf.head()"
   ]
  },
  {
   "cell_type": "code",
   "execution_count": 8,
   "id": "87ef6119",
   "metadata": {},
   "outputs": [],
   "source": [
    "## create lists for answer/score pairs\n",
    "disease_score = []\n",
    "disease_answer = []\n",
    "question_score = []\n",
    "question_answer = []\n",
    "sample_score = []\n",
    "sample_answer = []\n",
    "modality_score = []\n",
    "modality_answer = []\n",
    "country_score = []\n",
    "country_answer = []\n",
    "hospital_score = []\n",
    "hospital_answer = []\n",
    "database_score = []\n",
    "database_answer = []\n",
    "organisation_score = []\n",
    "organisation_answer = []\n",
    "\n",
    "#categories = [disease_score, disease_answer, sample_score, sample_answer, modality_score, modality_answer,\n",
    "#              country_score, country_answer, hospital_score, hospital_answer, database_score, database_answer,\n",
    "#              organisation_score, organisation_answer]\n"
   ]
  },
  {
   "cell_type": "code",
   "execution_count": 9,
   "id": "4556a5be",
   "metadata": {},
   "outputs": [],
   "source": [
    "## start/end strings for scores and answers\n",
    "score_start = 'score='\n",
    "score_end = ', context'\n",
    "#print((s.split(score_start))[1].split(score_end)[0])\n",
    "\n",
    "answer_start = 'answer='\n",
    "answer_end = ', score'\n",
    "#print((s.split(answer_start))[1].split(answer_end)[0])"
   ]
  },
  {
   "cell_type": "code",
   "execution_count": 10,
   "id": "9071ccdf",
   "metadata": {},
   "outputs": [],
   "source": [
    "for i, row in cleandf.iterrows():\n",
    "    disease_score.append((row['what disease is being studied?'].split(score_start))[1].split(score_end)[0])\n",
    "    disease_answer.append((row['what disease is being studied?'].split(answer_start))[1].split(answer_end)[0])\n",
    "    sample_score.append((row['how many patient data samples were included in this study?'].split(score_start))[1].split(score_end)[0])\n",
    "    sample_answer.append((row['how many patient data samples were included in this study?'].split(answer_start))[1].split(answer_end)[0])\n",
    "    #question_score.append((row['What is the objective of the study?'].split(score_start))[1].split(score_end)[0])\n",
    "    #question_answer.append((row['What is the objective of the study?'].split(answer_start))[1].split(answer_end)[0])\n",
    "    modality_score.append((row['what modality of data is used in this study?'].split(score_start))[1].split(score_end)[0])\n",
    "    modality_answer.append((row['what modality of data is used in this study?'].split(answer_start))[1].split(answer_end)[0])\n",
    "    #country_score.append((row['what country was the study conducted in?'].split(score_start))[1].split(score_end)[0])\n",
    "    #country_answer.append((row['what country was the study conducted in?'].split(answer_start))[1].split(answer_end)[0])    \n",
    "    #hospital_score.append((row['what hospital did the data come from?'].split(score_start))[1].split(score_end)[0])\n",
    "    #hospital_answer.append((row['what hospital did the data come from?'].split(answer_start))[1].split(answer_end)[0])\n",
    "    database_score.append((row['What existing database did the data come from?'].split(score_start))[1].split(score_end)[0])\n",
    "    database_answer.append((row['What existing database did the data come from?'].split(answer_start))[1].split(answer_end)[0])\n",
    "    organisation_score.append((row['What organisation did the data come from?'].split(score_start))[1].split(score_end)[0])\n",
    "    organisation_answer.append((row['What organisation did the data come from?'].split(answer_start))[1].split(answer_end)[0])        "
   ]
  },
  {
   "cell_type": "code",
   "execution_count": 11,
   "id": "b9bed5f1",
   "metadata": {},
   "outputs": [],
   "source": [
    "scoredf = cleandf[['pmid', 'title', 'abstract']].copy()"
   ]
  },
  {
   "cell_type": "code",
   "execution_count": 12,
   "id": "3825d2a6",
   "metadata": {},
   "outputs": [],
   "source": [
    "scoredf['disease_answer'] = disease_answer\n",
    "scoredf['disease_answer'] = scoredf['disease_answer'].str[1:-1]\n",
    "scoredf['disease_score'] = disease_score\n",
    "\n",
    "scoredf['sample_answer'] = sample_answer\n",
    "scoredf['sample_answer'] = scoredf['sample_answer'].str[1:-1]\n",
    "scoredf['sample_score'] = sample_score\n",
    "\n",
    "#scoredf['question_answer'] = question_answer\n",
    "#scoredf['question_answer'] = scoredf['question_answer'].str[1:-1]\n",
    "#scoredf['question_score'] = question_score\n",
    "\n",
    "scoredf['modality_answer'] = modality_answer\n",
    "scoredf['modality_answer'] = scoredf['modality_answer'].str[1:-1]\n",
    "scoredf['modality_score'] = modality_score\n",
    "\n",
    "#scoredf['country_answer'] = country_answer\n",
    "#scoredf['country_answer'] = scoredf['country_answer'].str[1:-1]\n",
    "#scoredf['country_score'] = country_score\n",
    "\n",
    "#scoredf['hospital_answer'] = hospital_answer\n",
    "#scoredf['hospital_answer'] = scoredf['hospital_answer'].str[1:-1]\n",
    "#scoredf['hospital_score'] = hospital_score\n",
    "\n",
    "scoredf['database_answer'] = database_answer\n",
    "scoredf['database_answer'] = scoredf['database_answer'].str[1:-1]\n",
    "scoredf['database_score'] = database_score\n",
    "\n",
    "scoredf['organisation_answer'] = organisation_answer\n",
    "scoredf['organisation_answer'] = scoredf['organisation_answer'].str[1:-1]\n",
    "scoredf['organisation_score'] = organisation_score"
   ]
  },
  {
   "cell_type": "code",
   "execution_count": 13,
   "id": "ae4b9341",
   "metadata": {},
   "outputs": [
    {
     "data": {
      "text/html": [
       "<div>\n",
       "<style scoped>\n",
       "    .dataframe tbody tr th:only-of-type {\n",
       "        vertical-align: middle;\n",
       "    }\n",
       "\n",
       "    .dataframe tbody tr th {\n",
       "        vertical-align: top;\n",
       "    }\n",
       "\n",
       "    .dataframe thead th {\n",
       "        text-align: right;\n",
       "    }\n",
       "</style>\n",
       "<table border=\"1\" class=\"dataframe\">\n",
       "  <thead>\n",
       "    <tr style=\"text-align: right;\">\n",
       "      <th></th>\n",
       "      <th>pmid</th>\n",
       "      <th>title</th>\n",
       "      <th>abstract</th>\n",
       "      <th>disease_answer</th>\n",
       "      <th>disease_score</th>\n",
       "      <th>sample_answer</th>\n",
       "      <th>sample_score</th>\n",
       "      <th>modality_answer</th>\n",
       "      <th>modality_score</th>\n",
       "      <th>database_answer</th>\n",
       "      <th>database_score</th>\n",
       "      <th>organisation_answer</th>\n",
       "      <th>organisation_score</th>\n",
       "    </tr>\n",
       "  </thead>\n",
       "  <tbody>\n",
       "    <tr>\n",
       "      <th>0</th>\n",
       "      <td>35309968</td>\n",
       "      <td>mTeeth: Identifying Brushing Teeth Surfaces Using Wrist-Worn Inertial Sensors.</td>\n",
       "      <td>Ensuring that all the teeth surfaces are adequately covered during daily bru...</td>\n",
       "      <td>oral diseases</td>\n",
       "      <td>0.30402445793151855</td>\n",
       "      <td>114</td>\n",
       "      <td>0.4147607386112213</td>\n",
       "      <td>inertial sensors</td>\n",
       "      <td>0.5593151301145554</td>\n",
       "      <td>wrist-worn inertial sensor dataset collected from the natural environment</td>\n",
       "      <td>0.16908787190914154</td>\n",
       "      <td>the natural environment</td>\n",
       "      <td>0.098945751786232</td>\n",
       "    </tr>\n",
       "    <tr>\n",
       "      <th>1</th>\n",
       "      <td>35330785</td>\n",
       "      <td>Development of a Machine Learning Algorithm for Prediction of Complications ...</td>\n",
       "      <td>Reverse total shoulder arthroplasty (rTSA) offers tremendous promise for the...</td>\n",
       "      <td>Reverse total shoulder arthroplasty</td>\n",
       "      <td>0.3776613026857376</td>\n",
       "      <td>2799</td>\n",
       "      <td>0.4943038523197174</td>\n",
       "      <td>Office of Statewide Health Planning and Development database</td>\n",
       "      <td>0.36358869075775146</td>\n",
       "      <td>Office of Statewide Health Planning and Development database</td>\n",
       "      <td>0.6894474029541016</td>\n",
       "      <td>Office of Statewide Health Planning and Development</td>\n",
       "      <td>0.5047770738601685</td>\n",
       "    </tr>\n",
       "    <tr>\n",
       "      <th>2</th>\n",
       "      <td>35330977</td>\n",
       "      <td>ECG Restitution Analysis and Machine Learning to Detect Paroxysmal Atrial Fi...</td>\n",
       "      <td>Atrial fibrillation is the most frequent arrhythmia in both equine and human...</td>\n",
       "      <td>paroxysmal atrial fibrillation</td>\n",
       "      <td>0.3911014795303345</td>\n",
       "      <td>control and horses with PAF</td>\n",
       "      <td>0.11062590032815933</td>\n",
       "      <td>normal sinus-rhythm ECGs</td>\n",
       "      <td>0.3160859942436218</td>\n",
       "      <td>normal sinus-rhythm ECGs</td>\n",
       "      <td>0.07146770507097244</td>\n",
       "      <td>horses with PAF</td>\n",
       "      <td>0.004044723929837346</td>\n",
       "    </tr>\n",
       "    <tr>\n",
       "      <th>3</th>\n",
       "      <td>35330920</td>\n",
       "      <td>Segmenting Thoracic Cavities with Neoplastic Lesions: A Head-to-head Benchma...</td>\n",
       "      <td>Automatic segmentation of thoracic cavity structures in computer tomography ...</td>\n",
       "      <td>neoplastic disease</td>\n",
       "      <td>0.4418141692876816</td>\n",
       "      <td>402</td>\n",
       "      <td>0.7768610417842865</td>\n",
       "      <td>CT images</td>\n",
       "      <td>0.5029252022504807</td>\n",
       "      <td>402 cancer patients</td>\n",
       "      <td>0.757216066122055</td>\n",
       "      <td>402 cancer patients</td>\n",
       "      <td>0.19367507100105286</td>\n",
       "    </tr>\n",
       "    <tr>\n",
       "      <th>4</th>\n",
       "      <td>30814403</td>\n",
       "      <td>Combined machine learning and functional magnetic resonance imaging allows i...</td>\n",
       "      <td>Hypoxia exposure during high-altitude expedition cause psychomotor impairmen...</td>\n",
       "      <td>psychomotor impairment</td>\n",
       "      <td>0.34731435775756836</td>\n",
       "      <td>69</td>\n",
       "      <td>0.7202786207199097</td>\n",
       "      <td>Rs-fMRI</td>\n",
       "      <td>0.3410738706588745</td>\n",
       "      <td>Shaanxi-Tibet immigrant cohort</td>\n",
       "      <td>0.850153923034668</td>\n",
       "      <td>Shaanxi-Tibet immigrant cohort</td>\n",
       "      <td>0.6297355592250824</td>\n",
       "    </tr>\n",
       "  </tbody>\n",
       "</table>\n",
       "</div>"
      ],
      "text/plain": [
       "       pmid  \\\n",
       "0  35309968   \n",
       "1  35330785   \n",
       "2  35330977   \n",
       "3  35330920   \n",
       "4  30814403   \n",
       "\n",
       "                                                                             title  \\\n",
       "0   mTeeth: Identifying Brushing Teeth Surfaces Using Wrist-Worn Inertial Sensors.   \n",
       "1  Development of a Machine Learning Algorithm for Prediction of Complications ...   \n",
       "2  ECG Restitution Analysis and Machine Learning to Detect Paroxysmal Atrial Fi...   \n",
       "3  Segmenting Thoracic Cavities with Neoplastic Lesions: A Head-to-head Benchma...   \n",
       "4  Combined machine learning and functional magnetic resonance imaging allows i...   \n",
       "\n",
       "                                                                          abstract  \\\n",
       "0  Ensuring that all the teeth surfaces are adequately covered during daily bru...   \n",
       "1  Reverse total shoulder arthroplasty (rTSA) offers tremendous promise for the...   \n",
       "2  Atrial fibrillation is the most frequent arrhythmia in both equine and human...   \n",
       "3  Automatic segmentation of thoracic cavity structures in computer tomography ...   \n",
       "4  Hypoxia exposure during high-altitude expedition cause psychomotor impairmen...   \n",
       "\n",
       "                        disease_answer        disease_score  \\\n",
       "0                        oral diseases  0.30402445793151855   \n",
       "1  Reverse total shoulder arthroplasty   0.3776613026857376   \n",
       "2       paroxysmal atrial fibrillation   0.3911014795303345   \n",
       "3                   neoplastic disease   0.4418141692876816   \n",
       "4               psychomotor impairment  0.34731435775756836   \n",
       "\n",
       "                 sample_answer         sample_score  \\\n",
       "0                          114   0.4147607386112213   \n",
       "1                         2799   0.4943038523197174   \n",
       "2  control and horses with PAF  0.11062590032815933   \n",
       "3                          402   0.7768610417842865   \n",
       "4                           69   0.7202786207199097   \n",
       "\n",
       "                                                modality_answer  \\\n",
       "0                                              inertial sensors   \n",
       "1  Office of Statewide Health Planning and Development database   \n",
       "2                                      normal sinus-rhythm ECGs   \n",
       "3                                                     CT images   \n",
       "4                                                       Rs-fMRI   \n",
       "\n",
       "        modality_score  \\\n",
       "0   0.5593151301145554   \n",
       "1  0.36358869075775146   \n",
       "2   0.3160859942436218   \n",
       "3   0.5029252022504807   \n",
       "4   0.3410738706588745   \n",
       "\n",
       "                                                             database_answer  \\\n",
       "0  wrist-worn inertial sensor dataset collected from the natural environment   \n",
       "1               Office of Statewide Health Planning and Development database   \n",
       "2                                                   normal sinus-rhythm ECGs   \n",
       "3                                                        402 cancer patients   \n",
       "4                                             Shaanxi-Tibet immigrant cohort   \n",
       "\n",
       "        database_score                                  organisation_answer  \\\n",
       "0  0.16908787190914154                              the natural environment   \n",
       "1   0.6894474029541016  Office of Statewide Health Planning and Development   \n",
       "2  0.07146770507097244                                      horses with PAF   \n",
       "3    0.757216066122055                                  402 cancer patients   \n",
       "4    0.850153923034668                       Shaanxi-Tibet immigrant cohort   \n",
       "\n",
       "     organisation_score  \n",
       "0     0.098945751786232  \n",
       "1    0.5047770738601685  \n",
       "2  0.004044723929837346  \n",
       "3   0.19367507100105286  \n",
       "4    0.6297355592250824  "
      ]
     },
     "execution_count": 13,
     "metadata": {},
     "output_type": "execute_result"
    }
   ],
   "source": [
    "scoredf.head(5)"
   ]
  },
  {
   "cell_type": "code",
   "execution_count": 14,
   "id": "5523b77c",
   "metadata": {},
   "outputs": [],
   "source": [
    "scoredf.to_csv('output/abstracts_scored.csv')"
   ]
  },
  {
   "cell_type": "code",
   "execution_count": null,
   "id": "ae49b4c5",
   "metadata": {},
   "outputs": [],
   "source": []
  },
  {
   "cell_type": "code",
   "execution_count": null,
   "id": "f20f3129",
   "metadata": {},
   "outputs": [],
   "source": []
  },
  {
   "cell_type": "code",
   "execution_count": null,
   "id": "660132b7",
   "metadata": {},
   "outputs": [],
   "source": []
  },
  {
   "cell_type": "code",
   "execution_count": null,
   "id": "9d6f8aef",
   "metadata": {},
   "outputs": [],
   "source": []
  }
 ],
 "metadata": {
  "kernelspec": {
   "display_name": "Python 3",
   "language": "python",
   "name": "python3"
  },
  "language_info": {
   "codemirror_mode": {
    "name": "ipython",
    "version": 3
   },
   "file_extension": ".py",
   "mimetype": "text/x-python",
   "name": "python",
   "nbconvert_exporter": "python",
   "pygments_lexer": "ipython3",
   "version": "3.8.8"
  }
 },
 "nbformat": 4,
 "nbformat_minor": 5
}
