{
 "cells": [
  {
   "cell_type": "code",
   "execution_count": 1,
   "id": "30bc93f1",
   "metadata": {},
   "outputs": [],
   "source": [
    "import pandas as pd\n",
    "import numpy as np"
   ]
  },
  {
   "cell_type": "code",
   "execution_count": 2,
   "id": "60a63b5a",
   "metadata": {},
   "outputs": [
    {
     "data": {
      "text/plain": [
       "False"
      ]
     },
     "execution_count": 2,
     "metadata": {},
     "output_type": "execute_result"
    }
   ],
   "source": [
    "import torch\n",
    "torch.cuda.is_available()"
   ]
  },
  {
   "cell_type": "code",
   "execution_count": 3,
   "id": "adc163f4",
   "metadata": {},
   "outputs": [
    {
     "name": "stderr",
     "output_type": "stream",
     "text": [
      "INFO - haystack.document_stores.base -  Numba not found, replacing njit() with no-op implementation. Enable it with 'pip install numba'.\n",
      "INFO - haystack.modeling.model.optimization -  apex not found, won't use it. See https://nvidia.github.io/apex/\n"
     ]
    }
   ],
   "source": [
    "from haystack.utils import clean_wiki_text, convert_files_to_dicts, fetch_archive_from_http, print_answers\n",
    "from haystack.nodes import FARMReader, TransformersReader\n",
    "from haystack.pipelines import ExtractiveQAPipeline\n",
    "\n",
    "#haystack contains a search system for retrieval and QA across documents.\n",
    "#designed for large documents, but pipeline also works for single document QA "
   ]
  },
  {
   "cell_type": "code",
   "execution_count": 4,
   "id": "4b6ab6ac",
   "metadata": {},
   "outputs": [
    {
     "name": "stderr",
     "output_type": "stream",
     "text": [
      "INFO - haystack.modeling.utils -  Using devices: CPU\n",
      "INFO - haystack.modeling.utils -  Number of GPUs: 0\n"
     ]
    }
   ],
   "source": [
    "# In-Memory Document Store\n",
    "from haystack.document_stores import InMemoryDocumentStore\n",
    "document_store = InMemoryDocumentStore() #to enable documents stored in local memory"
   ]
  },
  {
   "cell_type": "code",
   "execution_count": 5,
   "id": "e1d5a4e6",
   "metadata": {},
   "outputs": [
    {
     "name": "stderr",
     "output_type": "stream",
     "text": [
      "INFO - haystack.utils.preprocessing -  Converting testdata\\23919537.txt\n"
     ]
    }
   ],
   "source": [
    "doc_dir = \"testdata\"\n",
    "\n",
    "dicts = convert_files_to_dicts(dir_path=doc_dir, split_paragraphs=True)\n",
    "\n",
    "## if there are multiple documents for database, this puts all relevant docs into dictionary"
   ]
  },
  {
   "cell_type": "code",
   "execution_count": 6,
   "id": "9cd874aa",
   "metadata": {},
   "outputs": [
    {
     "data": {
      "text/plain": [
       "[{'content': \"TECHNICAL ADVANCE Open Access Tear fluid proteomics multimarkers for diabetic retinopathy screening Zsolt Torok1,6*, Tunde Peto2, Eva Csosz3, Edit Tukacs1,6, Agnes Molnar4, Zsuzsanna Maros Szabo1,6, Andras Berta5,7, Jozsef Tozser3,7, Andras Hajdu1, Valeria Nagy5, Balint Domokos6 and Adrienne Csutak5,7 Abstract Background: The aim of the project was to develop a novel method for diabetic retinopathy screening based on the examination of tear fluid biomarker changes. In order to evaluate the usability of protein biomarkers for pre  screening purposes several different approaches were used, including machine learning algorithms. Methods: All persons involved in the study had diabetes. Diabetic retinopathy (DR) was diagnosed by capturing 7  field fundus images, evaluated by two independent ophthalmologists. 165 eyes were examined (from 119 patients), 55 were diagnosed healthy and 110 images showed signs of DR. Tear samples were taken from all eyes and state  of the art nano HPLC coupled ESI MS/MS mass spectrometry protein identification was performed on all samples. Applicability of protein biomarkers was evaluated by six different optimally parameterized machine learning algorithms: Support Vector Machine, Recursive Partitioning, Random Forest, Naive Bayes, Logistic Regression, K Nearest Neighbor. Results: Out of the six investigated machine learning algorithms the result of Recursive Partitioning proved to be the most accurate. The performance of the system realizing the above algorithm reached 74% sensitivity and 48% specificity. Conclusions: Protein biomarkers selected and classified with machine learning algorithms alone are at present not recommended for screening purposes because of low specificity and sensitivity values. This tool can be potentially used to improve the results of image processing methods as a complementary tool in automatic or semiautomatic systems. Keywords: Diabetic retinopathy screening, Tear fluid biomarkers, Quantitative mass spectrometry, Pattern recognition Background Diabetic retinopathy screening Diabetic retinopathy (DR) is the most common complica  tion of diabetes mellitus and is currently the leading cause of blindness in the economically active population in de  veloped countries [1]. The initially latent disease could lead to vision loss without any symptoms initially. Timely diagnosis and therapy however can significantly decelerate its progress, necessitating regular DR screening or appro  priate follow up in all patients with diabetes. Screening can be carried out by direct and indirect ophthalmology or increasingly by using photographic methods [2]. The effectiveness of different screening modalities has been widely investigated. UK studies show sensitivity levels for the detection of sight threatening diabetic ret  inopathy of 41 67% for general practitioners, 48 82% for optometrists, 65% for ophthalmologists, and 27 67% for diabetologists and hospital physicians using direct oph  thalmoscopy [3,4]. Sensitivity for the detection of refer  able retinopathy by optometrists have been found to be 77 100%, with specificity of 94 100% [5]. Photographic methods currently use digital images with subsequent grading by trained individuals. Sensitiv  ity for the detection of sight threatening diabetic retin  opathy have been found 87 100% for a variety of trained * Correspondence: zsolt.torok@astridbio.com 1Department of Computer Graphics and Image Processing, Bioinformatics Research Group, University of Debrecen, Faculty of Informatics, Debrecen, Hungary 6Astridbio Ltd, Debrecen, Hungary Full list of author information is available at the end of the article Â© 2013 Torok et al.; licensee BioMed Central Ltd. This is an Open Access article distributed under the terms of the Creative Commons Attribution License (http://creativecommons.org/licenses/by/2.0), which permits unrestricted use, distribution, and reproduction in any medium, provided the original work is properly cited. Torok et al. BMC Ophthalmology 2013, 13:40 http://www.biomedcentral.com/1471 2415/13/40 personnel reading mydriatic 45Â° retinal photographs, with specificities of 83 96% [6]. The British Diabetic As  sociation (Diabetes UK) has established standard values for any diabetic retinopathy screening programme of at least 80% sensitivity and 95% specificity [7,8]. Regular DR screening is centralized in several developed countries due to cost efficiency and quality control issues [9]. Digital fundus images are captured at the place of pa  tient care and forwarded to a grading center for evaluation by specially trained human graders or ophthalmologists [10]. The system operates with high accuracy but due to its labor intensive nature, it might be poorly scalable in economically challenged countries [11]. In order to improve scalability and cost effectiveness, many research groups are working on developing auto  mated image analysis technologies [12]. Introducing these technologies in DR screening could substitute first phase examinations performed by human graders. Fol  lowing automated pre screening, human graders would only have to examine images that are either questionable or true positive, and potentially carry out quality control on a subset of those deemed normal by the software [13]. Preliminary results are promising, sensitivity and specificity indicators of automated systems are close to that of human graders [14 16]. An international Retin  opathy Online Challenge is available in order to compare the results of image processing based algorithms for DR identification via mycroaneurism detection. The system developed by our team currently performs the best on this challenge [17]. The aim of this paper is to describe a pilot study, conducted as a first attempt to examine the use of tear fluid proteomics for DR pre screening. Our hypothesis was that it is possible to categorize patients with un  known clinical status into a DR or a non DR group, based on the protein pattern identified in the tear fluid sample. Tear fluid proteomics Besides computer based image processing other methods can also support DR screening. Tear fluid proteomics is such a possible novel tool for population screening, which is based on the pre screening of a large number of patients and uses human graders only in positive or ambiguous cases. The protein composition of tear fluid has been investigated by numerous research groups and more than 500 proteins are already proven to be present there [18,19]. Reports confirm protein profile changes in tear fluid under irregular physiological and pathological conditions (like wound healing or inflammatory diseases etc.) [20]. Besides the proteins secreted by the lacrimal glands, tear fluid might contain proteins from epithelial cells covering the eye surface. Furthermore proteins nor  mally residing in the blood can get into the tear fluid through increased permeability of the conjunctival ves  sels [21]. Physiological and pathological conditions of the retina also induce changes in the protein composition of the vit  reous humour, especially when the blood retinal barrier (BRB) is damaged [22]. Breakdown of the inner endothe  lial BRB, occurs in diabetic retinopathy, age related macu  lar degeneration, retinal vein occlusions, uveitis and other chronic retinal diseases [23]. DR is a complex disease, characterized by vascular alterations, inflammation, and neuronal cell death that involve heat shock and crystalline proteins. The central mechanism of altered BRB function is a change in the permeability characteristics of retinal endothelial cells caused by elevated levels of growth fac  tors, cytokines, advanced glycation end products, inflam  mation, hyperglycemia and loss of pericytes. Subsequently, paracellular but also transcellular transport across the ret  inal vascular wall increases via opening of endothelial intercellular junctions and qualitative and quantitative changes in endothelial caveolar transcellular transport, re  spectively. Functional changes in pericytes and astrocytes, as well as structural changes in the composition of the endothelial glycocalyx and the basal lamina around BRB endothelium further facilitate BRB leakage. As Starling's rules apply, active transcellular transport of plasma pro  teins by the BRB endothelial cells causing increased inter  stitial osmotic pressure is probably the main factor in the formation of macular edema [23]. Recent studies using whole proteome analysis demonstrate that general stress response lead to the induction of heat shock proteins. The alpha crystallin is expressed in the retina and over  expressed during diabetes as an adaptive response of ret  inal cells [24]. These changes are more specific to DR than alteration of tear fluid proteome. However, the invasive sampling method makes it difficult to introduce vitreous humour proteomics in the daily clinical practice. According to recent publications the protein compos  ition of tear fluid reflects normal or abnormal condi  tions, which justifies the use of tear fluid for screening purposes. Electrophoresis and chromatography also sup  port that protein patterns of healthy and diabetic people are significantly different [25,26]. Qualitative and quantitative methods used for tear fluid examinations include one and two dimensional electrophoresis, enzyme linked immunosorbent assay and high throughput liquid chromatography [27 29]. Re  cently, high sensitivity and high resolution procedures were used for the assessment of the effects of trauma and various diseases in tear fluid of microliter quantity. In these cases, protein profiles were characterized by mass spectrometers MALDI TOF, SELDI TOF and LC/ MS [30 33]. In a previous study we examined the changes of tear protein concentrations in DR aiming to identify and Torok et al. BMC Ophthalmology 2013, 13:40 Page 2 of 8 http://www.biomedcentral.com/1471 2415/13/40 characterize proteinsâ€“potential biomarkers present in tear fluid in DR patients. Tear fluid samples were exam  ined by quantitative mass spectrometry, and 6 potential biomarkers namely lipocalin 1, lactotransferrin, lacritin, lysozyme C, lipophilin A and immunoglobulin lambda chain were identified. The results of that study have already been published elsewhere [34]. In this paper, we evaluate the usefulness of the previ  ously identified DR marker proteins in tear fluid sample for diagnostic purposes and introduce a method based on whole protein pattern analysis, which can be inte  grated into the screening of DR as a pre screening procedure. Machine learning Machine learning is an area of artificial intelligence. IT systems using machine learning methods are capable to learn from training datasets and predict possible out  comes based on new observations. In our case the input data are coming from proteomics experiments and the predicted outcomes are diseased and non diseased cases (DR or Non DR). In the learning phase both input data and outcomes are used by the system. During the pre  screening process the trained machine learning system will classify cases into diseased or non diseased groups. In our pilot study, we intended to ensure the objectiv  ity of the assessment by using the following 6 different machine learning methods: Support Vector Machine (SVM), Recursive Partitioning (rpart), Random Forest (randomForest), Naive Bayes (naÃ¯veBayes), Logistic Re  gression (logReg), K Nearest Neighbor (k NN). Possible positive and negative cases for DR can be identified by machine learning algorithms, allowing the pre screened population (possible positives) to undergo human screening by using digital retinal imaging. The approach presented in this paper is unique in nature, as no previ  ous study was found in the scientific literature investi  gating the applicability of tear fluid proteomics based methods for DR screening. Methods Patient examination 119 patients with diabetes were enrolled in the study. In case of 73 patients one of the eyes were examined due to difficulties in tear fluid sampling (e.g. keratoconjuncti  vitis sicca, operated eye, noncompliance) or because the retinal image couldnâ€™t be taken (e.g. cataract, hemorrhage, angle closure glaucoma) or assessed (tech  nical difficulties). Diabetic retinopathy was diagnosed by capturing 7 field fundus images of the patients, evalu  ated by two independent ophthalmologists. Megaplus Camera Model 1,6i/10 BIT Zeiss (Carl Zeiss Ophthalmic System A6, Jena, Germany) was used for taking images. Out of the 165 eyes examined, 55 were diagnosed healthy and 110 showed signs of DR. One patient had DR in one eye only. Tear fluid samples were collected from the examined eyes by a trained assistant under standardized conditions [35]. Tear samples were collected with glass capillaries immediately before the pupil dilatation for fundus exam  ination under slit lamp illumination from the lower tear meniscus (a horizontal thickening of the pre corneal tear film by the lower margin) at the lateral canthus. Care was taken not to touch the conjunctiva. The duration of the sampling process was recorded and the secretion rate was calculated in microl/min, dividing the obtained tear volume by the time of sample collection. Samples used in this investigation had secretion rates of 5â€“15 Î¼l/ min. Samples were centrifuged (1800 rpm) for 8â€“10 mi  nutes immediately after sample collection, supernatants were deep frozen at âˆ’80Â°C and were thawed only once for measurements. Tear samples were examined using state of the art nano HPLC coupled ESI MS/MS mass spectrometry protein identification as described elsewhere [29]. During the protein based screening procedure pre  proliferative and proliferative retinopathy patients were both considered important, the term â€™patientâ€™ includes both groups diagnosed by using retina images. Global pattern of protein concentrations and its changes were described by the examination of the concentrations of 34 different proteins. Application of machine learning methods By using machine learning algorithms we intended to predict the possible fulfillment of certain future eventsâ€“ using empirical data containing incomplete information. In the present special case, input data (features) are pro  tein levels measured in tear fluids from patients with diabetes and clinical data regarding their DR status (di  chotomous variable of none or some). As the method is designed to be used in screening in the future, high sen  sitivity values were considered as the primary criteria for the construction of the classifier. This was aimed at min  imizing the number of false negative cases, thus redu  cing the chance for missing sight threatening disease. The goal of this machine learning approach is to assess the best classification performance achievable by fitting different models to the dataset (model selection). In order to reach the best possible results, we tested several classifying algorithms (SVM, rpart, randomForest, naiveBayes, logReg, k NN). A further objective was to design a marker score for marker selection, targeting the best performance of the tested models. In order to guarantee comparability at the parameter adjustment of the different classifiers, we applied the settings providing the best performance re  garding the particular model. In order to monitor the classifierâ€™s performance on the dataset, the testing was Torok et al. BMC Ophthalmology 2013, 13:40 Page 3 of 8 http://www.biomedcentral.com/1471 2415/13/40 accomplished with k fold cross validation procedure [36]. During the k fold cross validation the data set is di  vided into k equal parts. The first k 1 set (training set) is used for model construction and later on it is tested on the k fold set (test set). In the further k 1 iteration the same procedure is followed, on the first k 2 and k fold set the model is learning and on the k 1 it is validated. At the end of the cross validation, the estimate is deter  mined as the mean of the features of the k fold model. In this study 5 fold cross validation was used. Standard measures were applied to assess the performance of the different models, e.g.: specificity, sensitivity, accuracy, F  measure (harmonic mean of precision and sensitivityâ€“as a single measure for the performance of the model). Data analysis software tools We collected experimental (proteomics) and clinical data (DR/Non DR) in an Excel file which was used as in  put data for the analysis. During the data analysis process the R statistical frame  work and the following packages have been used: Support Vector Machine: â€œe1071â€; Recursive Partitioning: â€œrpartâ€; Random Forest: â€œrandomForestâ€; Naive Bayes: â€œnaiveBayesâ€; Logistic Regression: â€œglmnetâ€ and for visualization purpose: â€œggplot2â€ [37]. We have developed our own solution for the K Nearest Neighbor model. We ran cross validation using the three different ap  proaches below in order to find the best combination of input data and the different models. First, we used data from all 34 identified proteins for model development. However, we also wanted to analyze the changes in the performance of the classifiers if we only use a subset of the data. Thus, second, only 6 marker proteins (out of the 34)â€“previously extracted by classical statistical methodsâ€“were used for decision making, applying the six machine learning algorithms. Third, we wanted to further evaluate the performance of the models by redu  cing the number of input variables therefore we applied principal component analysis (PCA). In this case, we performed dimension reduction to compress the infor  mation included in the original dataset with principal component analysis and used it for the visualization of the complex dataset in a 2D plane. With this method the number of input features could be decreased while as much of the variation in data as possible could be retained. Thus, we had fewer input features which are the linear combinations of the original variables and uncorrelated with each other. Statement of ethics We certify that all applicable institutional and govern  mental regulations concerning the ethical use of human Table 1 Performance measures of the six different classifiers Model Dataset SENS SPC ACC PREC NPV F1 LRP LRN naiveBayes orig 0.6991 0.4186 0.6218 0.7596 0.3462 0.7281 1.2025 0.7188 marker 0.8000 0.3874 0.5064 0.3462 0.8269 0.4832 1.3059 0.5163 pca 0.6731 0.3365 0.4487 0.3365 0.6731 0.4487 1.0145 0.9714 kNN orig 0.6711 0.5000 0.6667 0.9808 0.0385 0.7969 1.3421 0.6579 marker 0.6688 0.5000 0.6667 0.9904 0.0192 0.7984 1.3377 0.6623 pca 0.6643 0.3077 0.6346 0.9135 0.0769 0.7692 0.9596 1.0909 logReg orig 0.6923 0.3846 0.5897 0.6923 0.3846 0.6923 1.1250 0.8000 marker 0.6615 0.3077 0.6026 0.8269 0.1538 0.7350 0.9556 1.1000 pca 0.6623 0.0000 0.6538 0.9808 0.0000 0.7907 0.6623 Inf randomForest orig 0.6929 0.4483 0.6474 0.8462 0.2500 0.7619 1.2559 0.6850 marker 0.6923 0.4103 0.6218 0.7788 0.3077 0.7330 1.1739 0.7500 pca 0.6748 0.3636 0.6090 0.7981 0.2308 0.7313 1.0604 0.8943 rpart orig 0.7083 0.4722 0.6538 0.8173 0.3269 0.7589 1.3421 0.6176 marker 0.7404 0.4808 0.6538 0.7404 0.4808 0.7404 1.4259 0.5400 pca 0.6935 0.4375 0.6410 0.8269 0.2692 0.7544 1.2330 0.7005 SVM orig 0.6645 0.0000 0.6603 0.9904 0.0000 0.7954 0.6645 Inf marker 0.6623 0.0000 0.6538 0.9808 0.0000 0.7907 0.6623 Inf pca 0.6623 0.0000 0.6538 0.9808 0.0000 0.7907 0.6623 Inf Performance measures of the six different classifiers on the different input data: orig full data set; marker  candidate marker proteins only; pcaâ€“PCA transformed data. The meaning of the columns: SENS sensitivity, SPC specificity, ACC accuracy, PREC precision (positive predictive value), NPV negative predictive value, F1 F  measure, LRP  likelihood ratio positive, LRN likelihood ratio negative. Torok et al. BMC Ophthalmology 2013, 13:40 Page 4 of 8 http://www.biomedcentral.com/1471 2415/13/40 volunteers were followed during this research (Regional and Institutional Ethics Committee, Medical and Health Science Center, University of Debrecen). Results and discussion Evaluation of the six classifiers on the data Out of the six different machine learning algorithms, rpart methodology was found to be the most efficient if we used the dataset of the six marker proteins identified by classical statistical methods. Standard measures (Table 1) show that the model based on the Recursive Partitioning classifier outperforms the other five models (74% sensitivity, 48% specificity and 65% accuracy; rpart/ marker). Naive Bayes method shows higher sensitivity but low specificity (38%), if we were using the marker proteins only as input variables (80%; naiveBayes/ marker). Random Forest method performs slightly worse than Recursive Partitioning. Six proteins were identified as independent biomarkers out of the 34 candidate protein, by using statistical hy  pothesis testing. There is additional information in the joint distribu  tion of the whole dataset, thus we wanted to examine the maximum possible performance of the model. Our reason for examining the performance of the re  duced set was to develop a practical method for screen  ing, without compromising the performance of the test. We have found that neither the models built on just the 6 marker proteins nor the models built on the PCA preprocessed data performed better or worse than the models built on the whole protein patterns. After Princi  pal Component Analysis the first two components retained 22% of the variation of the original data set. Table 1 shows that in case of retaining the first two com  ponents only, performance measures does not change considerably. As a visual presentation of the data we have generated a scatter plot of the first two compo  nents. Figure 1 presents the lack of clear decision boundary separating the two classes. As part of our descriptive analysis we evaluated and vi  sualized the correlation between the predictor variables (protein levels) and also between predictor and outcome variables (DR or non DR) to have a better understanding on the structure of the data set. According to the prob  ability density function of the correlation values in most of the cases there are low correlation between predictors and predictors/outcomes (Figure 2). These figures sug  gest that the predictors used separately will not be suffi  cient for the classification. Figure 1 Scatter plot. Scatter plot of the PCA transformed data set. X1 and X2 are the two components retained after the transformation. 0 refers to non DR, 1 refers to DR patients. Torok et al. BMC Ophthalmology 2013, 13:40 Page 5 of 8 http://www.biomedcentral.com/1471 2415/13/40 Data set size effect on performance In order to evaluate the impact of the training set size on the reliability of the results we compared the learning curves for each of the cases. With this method we can have an insight to the relation of the bias and variance of the different models and also further improvement possibilities. For more accurate evaluation of the perform  ance of our methods we have to examine if there are any effects of increasing data volume on the performance of the different machine learning methods (Figure 3). We used learning curve to display the test and training errors for different training set sizes. Figure 2 Probability density function. Probability density function of the correlation values between predictors (on the left) and between predictors and outcome variables (on the right). Figure 3 Learning curves. Learning curves of Support Vector Machine (SVM), Recursive Partitioning (Rpart) Logistic Regression (Logreg) and Naive Bayes (naiveBayes) classifiers for original data set. Torok et al. BMC Ophthalmology 2013, 13:40 Page 6 of 8 http://www.biomedcentral.com/1471 2415/13/40 The distance of the curves shows a gap between the error rates of training and test set in case of Support Vector Machine (SVM) and Recursive Partitioning (Rpart). This finding suggests that these classifiers have high variance and getting more training data might help with the performance. In case of Logistic Regression (Logreg) and Naive Bayes (naiveBayes) we do not see a gap, but both training and test errors are high, indicating that the models are too simple, thus, we have underfit the data. Conclusions We hypothesized at the beginning of the study, that the system may be utilized for pre screening purposes, substantially in long term reducing the cost of regular screening and the need for health professionals in the process. A possible advantage of this method is that the pre screening of the risk population (i.e. diabetic pa  tients) can be performed at the patientâ€™s home. Patients can take tear sample by their own, using sampling capil  laries delivered by post, and then returning it to the la  boratory. Only those with positive screening results should visit a DR screening center. Based on this pilot study, sensitivity and specificity values of the system examined on a test database were not found high enough to unequivocally support its use as a pre screening method prior to currently applied screening procedures. However, the results of the system may be further improved by the enlargement of the learning database. Another promising application of proteomics based machine learning methods is the support of image pro  cessing based automated methods by improving their performance to be able to substitute traditional human screening methods in the future. Given constantly drop  ping price of high throughput technologies, methodolo  gies based on such technologies will be available both for routine point of care diagnostics and screenings [38]. On the other hand, costs of human workforce signifi  cantly increase along with the decreasing accessibility of qualified health care professionals. The net result of these forces accelerates the future spread of such technologies. This study opens up the possibility of including fea  tures other than protein analysis: e.g. anamnestic clinical data, results of image processing procedures. Applying more individual parameters as system inputs may con  siderably improve the sensitivity indicators of a com  bined system in contrast to the proteomics alone or image processing alone systems. This statement is fur  ther emphasized as the results of procedures based on image processing are highly promising. The system built on combined procedures may be applied in the future clinical practice. Competing interests The authors declare that they have no competing interests. Authorsâ€™ contributions ZST carried out the initiation of the research, management and manuscript writing. TP took part in the patient stratification and manuscript writing. JT and ECS participated in the tear sample processing and proteomics experiments. ET carried out the statistics, the data analysis and the mathematical model development. AMM partook in the evaluation of the validity of screening and manuscript writing. ZSMSZ participated in manuscript writing, clinical data collection and in its integration. AB and VN helped in carrying out the patient examination, the diagnosis, the tear sample collection and photodocumentation. AH performed the mathematical model development. BD carried out the programming, the data analysis and visualisation, the machine learning and mathematical model development. ACS acted as supervisor, took part in project management, helped in patient examination, diagnosis, tear sample collection and photodocumentation. All authors read and approved the final manuscript. Authorsâ€™ information Agnes Molnar: CIHR Strategic Training Fellow and Peterborough KM Hunter Charitable Foundation Fellow in the ACHIEVE Research Partnership: Action for Health Equity Interventions. Acknowledgements This work was supported in part by the Baross GÃ¡bor grant, EA_SPIN_06  DIABDIAG, â€œProteomic platform for diabetic retinopathyâ€, TAMOP 4.2.2.A 11/1/ KONYV 2012 0045 grant and the TECH08 2 project DRSCREEN, â€œDeveloping a computer based image processing system for diabetic retinopathy screeningâ€ of the National Office for Research and Technology, Hungary and by the KMA 0149/3.0 grant from the Research Fund Management and Research Exploitation and the Bioincubator House project. This work was supported in part by the project TAMOP 4.2.2.C 11/1/KONV 2012 0001 supported by the European Union, co financed by the European Social Fund, and by the OTKA grant NK101680. The authors thank Katalin Szabo and Szilvia Peto for their technical assistance. Tunde Peto was supported by NIHR Biomedical Research Centre for Ophthalmology, at Moorfields Eye Hospital NHS Foundation Trust and UCL Institute of Ophthalmology. The authors gratefully acknowledge the support of Peterborough KM Hunter Charitable Foundation, The Canadian Institutes for Health Research Grant #96566, and the Ontario Ministry of Health and Long Term Care. The views expressed in this publication are the views of the authors and do not necessarily reflect the views of the Ontario Ministry of Health and Long Term Care. Author details 1Department of Computer Graphics and Image Processing, Bioinformatics Research Group, University of Debrecen, Faculty of Informatics, Debrecen, Hungary. 2NIHR Biomedical Research Centre for Ophthalmology, Moorfields Eye Hospital NHS Foundation Trust and UCL Institute of Ophthalmology, London, UK. 3Department of Biochemistry and Molecular Biology, Proteomics Core Facility, University of Debrecen, Medical and Health Science Center, Debrecen, Hungary. 4Centre for Research on Inner City Health, Keenan Research Centre Li Ka Shing Knowledge Institute, St Michaelâ€™s Hospital, Toronto, Ontario, Canada. 5Department of Ophthalmology, University of Debrecen, Medical and Health Science Center, Debrecen, Hungary. 6Astridbio Ltd, Debrecen, Hungary. 7InnoTears Ltd, Debrecen, Hungary. Received: 19 March 2013 Accepted: 31 July 2013 Published: 7 August 2013\",\n",
       "  'meta': {'name': '23919537.txt'}}]"
      ]
     },
     "execution_count": 6,
     "metadata": {},
     "output_type": "execute_result"
    }
   ],
   "source": [
    "dicts"
   ]
  },
  {
   "cell_type": "code",
   "execution_count": 7,
   "id": "855a67bc",
   "metadata": {},
   "outputs": [],
   "source": [
    "##now writes the dict to haystack document store\n",
    "\n",
    "document_store.write_documents(dicts)"
   ]
  },
  {
   "cell_type": "code",
   "execution_count": 8,
   "id": "e07434a7",
   "metadata": {},
   "outputs": [
    {
     "name": "stderr",
     "output_type": "stream",
     "text": [
      "INFO - haystack.nodes.retriever.sparse -  Found 1 candidate paragraphs from 1 docs in DB\n"
     ]
    }
   ],
   "source": [
    "# An in-memory TfidfRetriever based on Pandas dataframes\n",
    "# retrievers narrow down Reader scope to smaller text units\n",
    "# see haystack documentation -> other retrievers\n",
    "\n",
    "from haystack.nodes import TfidfRetriever\n",
    "\n",
    "retriever = TfidfRetriever(document_store=document_store)"
   ]
  },
  {
   "cell_type": "code",
   "execution_count": 9,
   "id": "a9e29e60",
   "metadata": {},
   "outputs": [
    {
     "name": "stderr",
     "output_type": "stream",
     "text": [
      "INFO - haystack.modeling.utils -  Using devices: CPU\n",
      "INFO - haystack.modeling.utils -  Number of GPUs: 0\n",
      "INFO - haystack.modeling.model.language_model -  LOADING MODEL\n",
      "INFO - haystack.modeling.model.language_model -  =============\n",
      "INFO - haystack.modeling.model.language_model -  Could not find deepset/roberta-base-squad2 locally.\n",
      "INFO - haystack.modeling.model.language_model -  Looking on Transformers Model Hub (in local cache and online)...\n",
      "INFO - haystack.modeling.model.language_model -  Loaded deepset/roberta-base-squad2\n",
      "INFO - haystack.modeling.logger -  ML Logging is turned off. No parameters, metrics or artifacts will be logged to MLFlow.\n",
      "INFO - haystack.modeling.utils -  Using devices: CPU\n",
      "INFO - haystack.modeling.utils -  Number of GPUs: 0\n",
      "INFO - haystack.modeling.infer -  Got ya 15 parallel workers to do inference ...\n",
      "INFO - haystack.modeling.infer -   0    0    0    0    0    0    0    0    0    0    0    0    0    0    0 \n",
      "INFO - haystack.modeling.infer -  /w\\  /w\\  /w\\  /w\\  /w\\  /w\\  /w\\  /|\\  /w\\  /w\\  /w\\  /w\\  /w\\  /w\\  /|\\\n",
      "INFO - haystack.modeling.infer -  /'\\  / \\  /'\\  /'\\  / \\  / \\  /'\\  /'\\  /'\\  /'\\  /'\\  /'\\  / \\  /'\\  /'\\\n"
     ]
    }
   ],
   "source": [
    "# Reader scans text returned by retriever and extracts k-best answers\n",
    "# Load a fine-tuned  model (e.g. RoBERTa QA = \"deepset/roberta-base-squad2\")\n",
    "# alternatives (Reader): TransformersReader (leveraging the pipeline of the Transformers package)\n",
    "# alternatives (Models): e.g. \"distilbert-base-uncased-distilled-squad\" (fast) or \"deepset/bert-large-uncased-whole-word-masking-squad2\" (good accuracy)\n",
    "# can adjust the model to return \"no answer possible\" with the no_ans_boost. Higher values mean the model prefers \"no answer possible\"\n",
    "# alternatively, QA models on model hub (https://huggingface.co/models)\n",
    "#sota: ahotrod/albert_xxlargev1_squad2_512\n",
    "#dmis-lab/biobert-large-cased-v1.1-squad\n",
    "#\n",
    "\n",
    "reader = FARMReader(model_name_or_path=\"deepset/roberta-base-squad2\", use_gpu=True)"
   ]
  },
  {
   "cell_type": "code",
   "execution_count": 10,
   "id": "5fd7a2a3",
   "metadata": {},
   "outputs": [],
   "source": [
    "# Alternative example:\n",
    "# reader = TransformersReader(model_name_or_path=\"distilbert-base-uncased-distilled-squad\", tokenizer=\"distilbert-base-uncased\", use_gpu=-1)"
   ]
  },
  {
   "cell_type": "code",
   "execution_count": 11,
   "id": "4aac1ba4",
   "metadata": {},
   "outputs": [],
   "source": [
    "#sets pipeline to contain retriever and reader\n",
    "\n",
    "pipe = ExtractiveQAPipeline(reader, retriever)"
   ]
  },
  {
   "cell_type": "code",
   "execution_count": 15,
   "id": "ee19dba3",
   "metadata": {},
   "outputs": [],
   "source": [
    "q1=\"what was the study objective?\"\n",
    "q2=\"what disease is being studied?\"\n",
    "q3=\"how many patient data samples were included in this study?\"\n",
    "q4=\"how much data was used to train the model?\"\n",
    "q5=\"what country was the study conducted in?\"\n",
    "q6=\"what organisation did the data come from?\"\n",
    "q7=\"what city did the data come from?\"\n",
    "q8=\"was the model tested on a separate dataset?\"\n",
    "q9=\"what type of data is used in this study?\""
   ]
  },
  {
   "cell_type": "code",
   "execution_count": 16,
   "id": "2629684d",
   "metadata": {
    "scrolled": false
   },
   "outputs": [
    {
     "name": "stderr",
     "output_type": "stream",
     "text": [
      "Inferencing Samples:   0%|                                                                 | 0/2 [00:00<?, ? Batches/s]C:\\Users\\Joe Z\\anaconda3\\envs\\pytorch\\lib\\site-packages\\haystack\\modeling\\model\\prediction_head.py:485: UserWarning: __floordiv__ is deprecated, and its behavior will change in a future version of pytorch. It currently rounds toward 0 (like the 'trunc' function NOT 'floor'). This results in incorrect rounding for negative values. To keep the current behavior, use torch.div(a, b, rounding_mode='trunc'), or for actual floor division, use torch.div(a, b, rounding_mode='floor').\n",
      "  start_indices = flat_sorted_indices // max_seq_len\n",
      "Inferencing Samples: 100%|█████████████████████████████████████████████████████████| 2/2 [00:09<00:00,  4.81s/ Batches]\n",
      "Inferencing Samples:   0%|                                                                 | 0/2 [00:00<?, ? Batches/s]C:\\Users\\Joe Z\\anaconda3\\envs\\pytorch\\lib\\site-packages\\haystack\\modeling\\model\\prediction_head.py:485: UserWarning: __floordiv__ is deprecated, and its behavior will change in a future version of pytorch. It currently rounds toward 0 (like the 'trunc' function NOT 'floor'). This results in incorrect rounding for negative values. To keep the current behavior, use torch.div(a, b, rounding_mode='trunc'), or for actual floor division, use torch.div(a, b, rounding_mode='floor').\n",
      "  start_indices = flat_sorted_indices // max_seq_len\n",
      "Inferencing Samples: 100%|█████████████████████████████████████████████████████████| 2/2 [00:09<00:00,  4.65s/ Batches]\n",
      "Inferencing Samples:   0%|                                                                 | 0/2 [00:00<?, ? Batches/s]C:\\Users\\Joe Z\\anaconda3\\envs\\pytorch\\lib\\site-packages\\haystack\\modeling\\model\\prediction_head.py:485: UserWarning: __floordiv__ is deprecated, and its behavior will change in a future version of pytorch. It currently rounds toward 0 (like the 'trunc' function NOT 'floor'). This results in incorrect rounding for negative values. To keep the current behavior, use torch.div(a, b, rounding_mode='trunc'), or for actual floor division, use torch.div(a, b, rounding_mode='floor').\n",
      "  start_indices = flat_sorted_indices // max_seq_len\n",
      "Inferencing Samples: 100%|█████████████████████████████████████████████████████████| 2/2 [00:09<00:00,  4.58s/ Batches]\n",
      "Inferencing Samples:   0%|                                                                 | 0/2 [00:00<?, ? Batches/s]C:\\Users\\Joe Z\\anaconda3\\envs\\pytorch\\lib\\site-packages\\haystack\\modeling\\model\\prediction_head.py:485: UserWarning: __floordiv__ is deprecated, and its behavior will change in a future version of pytorch. It currently rounds toward 0 (like the 'trunc' function NOT 'floor'). This results in incorrect rounding for negative values. To keep the current behavior, use torch.div(a, b, rounding_mode='trunc'), or for actual floor division, use torch.div(a, b, rounding_mode='floor').\n",
      "  start_indices = flat_sorted_indices // max_seq_len\n",
      "Inferencing Samples: 100%|█████████████████████████████████████████████████████████| 2/2 [00:09<00:00,  4.69s/ Batches]\n",
      "Inferencing Samples:   0%|                                                                 | 0/2 [00:00<?, ? Batches/s]C:\\Users\\Joe Z\\anaconda3\\envs\\pytorch\\lib\\site-packages\\haystack\\modeling\\model\\prediction_head.py:485: UserWarning: __floordiv__ is deprecated, and its behavior will change in a future version of pytorch. It currently rounds toward 0 (like the 'trunc' function NOT 'floor'). This results in incorrect rounding for negative values. To keep the current behavior, use torch.div(a, b, rounding_mode='trunc'), or for actual floor division, use torch.div(a, b, rounding_mode='floor').\n",
      "  start_indices = flat_sorted_indices // max_seq_len\n",
      "Inferencing Samples: 100%|█████████████████████████████████████████████████████████| 2/2 [00:09<00:00,  4.67s/ Batches]\n",
      "Inferencing Samples:   0%|                                                                 | 0/2 [00:00<?, ? Batches/s]C:\\Users\\Joe Z\\anaconda3\\envs\\pytorch\\lib\\site-packages\\haystack\\modeling\\model\\prediction_head.py:485: UserWarning: __floordiv__ is deprecated, and its behavior will change in a future version of pytorch. It currently rounds toward 0 (like the 'trunc' function NOT 'floor'). This results in incorrect rounding for negative values. To keep the current behavior, use torch.div(a, b, rounding_mode='trunc'), or for actual floor division, use torch.div(a, b, rounding_mode='floor').\n",
      "  start_indices = flat_sorted_indices // max_seq_len\n",
      "Inferencing Samples: 100%|█████████████████████████████████████████████████████████| 2/2 [00:09<00:00,  4.77s/ Batches]\n",
      "Inferencing Samples:   0%|                                                                 | 0/2 [00:00<?, ? Batches/s]C:\\Users\\Joe Z\\anaconda3\\envs\\pytorch\\lib\\site-packages\\haystack\\modeling\\model\\prediction_head.py:485: UserWarning: __floordiv__ is deprecated, and its behavior will change in a future version of pytorch. It currently rounds toward 0 (like the 'trunc' function NOT 'floor'). This results in incorrect rounding for negative values. To keep the current behavior, use torch.div(a, b, rounding_mode='trunc'), or for actual floor division, use torch.div(a, b, rounding_mode='floor').\n",
      "  start_indices = flat_sorted_indices // max_seq_len\n",
      "Inferencing Samples: 100%|█████████████████████████████████████████████████████████| 2/2 [00:09<00:00,  4.68s/ Batches]\n",
      "Inferencing Samples:   0%|                                                                 | 0/2 [00:00<?, ? Batches/s]C:\\Users\\Joe Z\\anaconda3\\envs\\pytorch\\lib\\site-packages\\haystack\\modeling\\model\\prediction_head.py:485: UserWarning: __floordiv__ is deprecated, and its behavior will change in a future version of pytorch. It currently rounds toward 0 (like the 'trunc' function NOT 'floor'). This results in incorrect rounding for negative values. To keep the current behavior, use torch.div(a, b, rounding_mode='trunc'), or for actual floor division, use torch.div(a, b, rounding_mode='floor').\n",
      "  start_indices = flat_sorted_indices // max_seq_len\n",
      "Inferencing Samples: 100%|█████████████████████████████████████████████████████████| 2/2 [00:09<00:00,  4.52s/ Batches]\n",
      "Inferencing Samples:   0%|                                                                 | 0/2 [00:00<?, ? Batches/s]C:\\Users\\Joe Z\\anaconda3\\envs\\pytorch\\lib\\site-packages\\haystack\\modeling\\model\\prediction_head.py:485: UserWarning: __floordiv__ is deprecated, and its behavior will change in a future version of pytorch. It currently rounds toward 0 (like the 'trunc' function NOT 'floor'). This results in incorrect rounding for negative values. To keep the current behavior, use torch.div(a, b, rounding_mode='trunc'), or for actual floor division, use torch.div(a, b, rounding_mode='floor').\n",
      "  start_indices = flat_sorted_indices // max_seq_len\n",
      "Inferencing Samples: 100%|█████████████████████████████████████████████████████████| 2/2 [00:09<00:00,  4.64s/ Batches]\n",
      "Inferencing Samples:   0%|                                                                 | 0/2 [00:00<?, ? Batches/s]C:\\Users\\Joe Z\\anaconda3\\envs\\pytorch\\lib\\site-packages\\haystack\\modeling\\model\\prediction_head.py:485: UserWarning: __floordiv__ is deprecated, and its behavior will change in a future version of pytorch. It currently rounds toward 0 (like the 'trunc' function NOT 'floor'). This results in incorrect rounding for negative values. To keep the current behavior, use torch.div(a, b, rounding_mode='trunc'), or for actual floor division, use torch.div(a, b, rounding_mode='floor').\n",
      "  start_indices = flat_sorted_indices // max_seq_len\n",
      "Inferencing Samples: 100%|█████████████████████████████████████████████████████████| 2/2 [00:09<00:00,  4.96s/ Batches]\n"
     ]
    }
   ],
   "source": [
    "# Number of candidates the reader and retriever return\n",
    "# Higher top_k for retriever = better accuracy (but slower)\n",
    "qlist = [q1, q2, q3, q4, q5, q6, q7, q8, q9]\n",
    "plist = qlist.copy() #keep same length\n",
    "l = len(qlist)\n",
    "\n",
    "for i in range(0,l):\n",
    "    plist[i] = pipe.run(\n",
    "            query=qlist[i], params={\"Retriever\": {\"top_k\": 10}, \"Reader\": {\"top_k\": 5}}\n",
    "        )\n",
    "\n",
    "#p1 = pipe.run(\n",
    "#    query=q1, params={\"Retriever\": {\"top_k\": 10}, \"Reader\": {\"top_k\": 5}}\n",
    "#)"
   ]
  },
  {
   "cell_type": "code",
   "execution_count": 22,
   "id": "6f0a7e80",
   "metadata": {
    "scrolled": false
   },
   "outputs": [
    {
     "name": "stdout",
     "output_type": "stream",
     "text": [
      "\n",
      "Query: what was the study objective?\n",
      "Answers:\n",
      "[   {   'answer': 'to ensure the objectiv  ity of the assessment',\n",
      "        'context': 'non diseased groups. In our pilot study, we intended to '\n",
      "                   'ensure the objectiv  ity of the assessment by using the '\n",
      "                   'following 6 different machine learning'},\n",
      "    {   'answer': 'to develop a novel method for diabetic retinopathy '\n",
      "                  'screening based on the examination of tear fluid biomarker '\n",
      "                  'changes',\n",
      "        'context': ' the project was to develop a novel method for diabetic '\n",
      "                   'retinopathy screening based on the examination of tear '\n",
      "                   'fluid biomarker changes. In order to ev'},\n",
      "    {   'answer': 'to describe a pilot study, conducted as a first attempt to '\n",
      "                  'examine the use of tear fluid proteomics for DR pre '\n",
      "                  'screening',\n",
      "        'context': ' this paper is to describe a pilot study, conducted as a '\n",
      "                   'first attempt to examine the use of tear fluid proteomics '\n",
      "                   'for DR pre screening. Our hypothesi'}]\n",
      "\n",
      "Query: what disease is being studied?\n",
      "Answers:\n",
      "[   {   'answer': 'diabetes',\n",
      "        'context': 'ethods for DR screening. Methods Patient examination 119 '\n",
      "                   'patients with diabetes were enrolled in the study. In case '\n",
      "                   'of 73 patients one of the eyes wer'},\n",
      "    {   'answer': 'diabetes',\n",
      "        'context': 'tures) are pro  tein levels measured in tear fluids from '\n",
      "                   'patients with diabetes and clinical data regarding their '\n",
      "                   'DR status (di  chotomous variable of'},\n",
      "    {   'answer': 'Diabetic retinopathy',\n",
      "        'context': 'rithms. Methods: All persons involved in the study had '\n",
      "                   'diabetes. Diabetic retinopathy (DR) was diagnosed by '\n",
      "                   'capturing 7  field fundus images, evaluate'}]\n",
      "\n",
      "Query: how many patient data samples were included in this study?\n",
      "Answers:\n",
      "[   {   'answer': '119',\n",
      "        'context': 'id proteomics based methods for DR screening. Methods '\n",
      "                   'Patient examination 119 patients with diabetes were '\n",
      "                   'enrolled in the study. In case of 73 patient'},\n",
      "    {   'answer': '119',\n",
      "        'context': 'aluated by two independent ophthalmologists. 165 eyes were '\n",
      "                   'examined (from 119 patients), 55 were diagnosed healthy '\n",
      "                   'and 110 images showed signs of DR. '},\n",
      "    {   'answer': '40',\n",
      "        'context': 'lmology 2013, 13:40 Page 4 of 8 '\n",
      "                   'http://www.biomedcentral.com/1471 2415/13/40 volunteers '\n",
      "                   'were followed during this research (Regional and '\n",
      "                   'Institutional'}]\n",
      "\n",
      "Query: how much data was used to train the model?\n",
      "Answers:\n",
      "[   {   'answer': '34 identified proteins',\n",
      "        'context': 'put data and the different models. First, we used data '\n",
      "                   'from all 34 identified proteins for model development. '\n",
      "                   'However, we also wanted to analyze the c'},\n",
      "    {   'answer': 'k 1 set',\n",
      "        'context': 'ross validation the data set is di  vided into k equal '\n",
      "                   'parts. The first k 1 set (training set) is used for model '\n",
      "                   'construction and later on it is teste'},\n",
      "    {   'answer': 'empirical data containing incomplete information',\n",
      "        'context': 'ible fulfillment of certain future eventsâ€“ using '\n",
      "                   'empirical data containing incomplete information. In the '\n",
      "                   'present special case, input data (features'}]\n",
      "\n",
      "Query: what country was the study conducted in?\n",
      "Answers:\n",
      "[   {   'answer': 'Hungary',\n",
      "        'context': 'en, Faculty of Informatics, Debrecen, Hungary 6Astridbio '\n",
      "                   'Ltd, Debrecen, Hungary Full list of author information is '\n",
      "                   'available at the end of the article'},\n",
      "    {   'answer': 'Hungary',\n",
      "        'context': 'nopathy screeningâ€ of the National Office for Research '\n",
      "                   'and Technology, Hungary and by the KMA 0149/3.0 grant from '\n",
      "                   'the Research Fund Management and Re'},\n",
      "    {   'answer': 'Hungary',\n",
      "        'context': 'search Group, University of Debrecen, Faculty of '\n",
      "                   'Informatics, Debrecen, Hungary 6Astridbio Ltd, Debrecen, '\n",
      "                   'Hungary Full list of author information is a'}]\n",
      "\n",
      "Query: what organisation did the data come from?\n",
      "Answers:\n",
      "[   {   'answer': 'proteomics experiments',\n",
      "        'context': 'on new observations. In our case the input data are coming '\n",
      "                   'from proteomics experiments and the predicted outcomes are '\n",
      "                   'diseased and non diseased cases '},\n",
      "    {   'answer': 'BioMed Central Ltd',\n",
      "        'context': 'vailable at the end of the article Â© 2013 Torok et al.; '\n",
      "                   'licensee BioMed Central Ltd. This is an Open Access '\n",
      "                   'article distributed under the terms of th'},\n",
      "    {   'answer': 'National Office for Research and Technology, Hungary',\n",
      "        'context': 'stem for diabetic retinopathy screeningâ€ of the National '\n",
      "                   'Office for Research and Technology, Hungary and by the KMA '\n",
      "                   '0149/3.0 grant from the Research '}]\n",
      "\n",
      "Query: what city did the data come from?\n",
      "Answers:\n",
      "[   {   'answer': 'Debrecen, Hungary',\n",
      "        'context': 'ebrecen, Faculty of Informatics, Debrecen, Hungary '\n",
      "                   '6Astridbio Ltd, Debrecen, Hungary Full list of author '\n",
      "                   'information is available at the end of the ar'},\n",
      "    {   'answer': 'Peterborough',\n",
      "        'context': ' of Ophthalmology. The authors gratefully acknowledge the '\n",
      "                   'support of Peterborough KM Hunter Charitable Foundation, '\n",
      "                   'The Canadian Institutes for Health '},\n",
      "    {   'answer': 'Debrecen, Hungary',\n",
      "        'context': 'cs Research Group, University of Debrecen, Faculty of '\n",
      "                   'Informatics, Debrecen, Hungary 6Astridbio Ltd, Debrecen, '\n",
      "                   'Hungary Full list of author information'}]\n",
      "\n",
      "Query: was the model tested on a separate dataset?\n",
      "Answers:\n",
      "[   {   'answer': 'model selection',\n",
      "        'context': ' performance achievable by fitting different models to the '\n",
      "                   'dataset (model selection). In order to reach the best '\n",
      "                   'possible results, we tested several c'},\n",
      "    {   'answer': 'cross validation',\n",
      "        'context': 'eveloped our own solution for the K Nearest Neighbor '\n",
      "                   'model. We ran cross validation using the three different '\n",
      "                   'ap  proaches below in order to find the '},\n",
      "    {   'answer': 'both training and test errors are high, indicating that the '\n",
      "                  'models are too simple',\n",
      "        'context': 'iveBayes) we do not see a gap, but both training and test '\n",
      "                   'errors are high, indicating that the models are too '\n",
      "                   'simple, thus, we have underfit the data.'}]\n",
      "\n",
      "Query: what type of data is used in this study?\n",
      "Answers:\n",
      "[   {   'answer': 'whole proteome analysis',\n",
      "        'context': 'or in the formation of macular edema [23]. Recent studies '\n",
      "                   'using whole proteome analysis demonstrate that general '\n",
      "                   'stress response lead to the induction'},\n",
      "    {   'answer': 'all 34 identified proteins',\n",
      "        'context': 'input data and the different models. First, we used data '\n",
      "                   'from all 34 identified proteins for model development. '\n",
      "                   'However, we also wanted to analyze the'},\n",
      "    {   'answer': 'mydriatic 45Â° retinal photographs',\n",
      "        'context': '//www.biomedcentral.com/1471 2415/13/40 personnel reading '\n",
      "                   'mydriatic 45Â° retinal photographs, with specificities of '\n",
      "                   '83 96% [6]. The British Diabetic A'}]\n",
      "\n",
      "Query: what modality of data was used to train the model?\n",
      "Answers:\n",
      "[   {   'answer': 'model selection',\n",
      "        'context': ' performance achievable by fitting different models to the '\n",
      "                   'dataset (model selection). In order to reach the best '\n",
      "                   'possible results, we tested several c'},\n",
      "    {   'answer': 'whole proteome analysis',\n",
      "        'context': 'or in the formation of macular edema [23]. Recent studies '\n",
      "                   'using whole proteome analysis demonstrate that general '\n",
      "                   'stress response lead to the induction'},\n",
      "    {   'answer': 'PCA preprocessed',\n",
      "        'context': 'ls built on just the 6 marker proteins nor the models '\n",
      "                   'built on the PCA preprocessed data performed better or '\n",
      "                   'worse than the models built on the whole '}]\n"
     ]
    }
   ],
   "source": [
    "for i in range(0,l):\n",
    "    print_answers(plist[i], details='minimum')"
   ]
  },
  {
   "cell_type": "code",
   "execution_count": null,
   "id": "db036149",
   "metadata": {},
   "outputs": [],
   "source": []
  },
  {
   "cell_type": "code",
   "execution_count": null,
   "id": "0ec9024b",
   "metadata": {},
   "outputs": [],
   "source": []
  },
  {
   "cell_type": "code",
   "execution_count": null,
   "id": "5dda6831",
   "metadata": {},
   "outputs": [],
   "source": []
  },
  {
   "cell_type": "code",
   "execution_count": null,
   "id": "4c56d559",
   "metadata": {},
   "outputs": [],
   "source": []
  }
 ],
 "metadata": {
  "kernelspec": {
   "display_name": "Python 3 (ipykernel)",
   "language": "python",
   "name": "python3"
  },
  "language_info": {
   "codemirror_mode": {
    "name": "ipython",
    "version": 3
   },
   "file_extension": ".py",
   "mimetype": "text/x-python",
   "name": "python",
   "nbconvert_exporter": "python",
   "pygments_lexer": "ipython3",
   "version": "3.9.7"
  }
 },
 "nbformat": 4,
 "nbformat_minor": 5
}
