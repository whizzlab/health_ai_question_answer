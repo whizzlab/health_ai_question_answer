{
 "cells": [
  {
   "cell_type": "code",
   "execution_count": 14,
   "id": "9542a253",
   "metadata": {},
   "outputs": [],
   "source": [
    "import pandas as pd\n",
    "import numpy as np"
   ]
  },
  {
   "cell_type": "markdown",
   "id": "92ae3e2a",
   "metadata": {},
   "source": [
    "# geograpy test"
   ]
  },
  {
   "cell_type": "code",
   "execution_count": 2,
   "id": "0098e055",
   "metadata": {},
   "outputs": [
    {
     "name": "stderr",
     "output_type": "stream",
     "text": [
      "[nltk_data] Downloading package averaged_perceptron_tagger to\n",
      "[nltk_data]     C:\\Users\\Joe Z\\AppData\\Roaming\\nltk_data...\n",
      "[nltk_data]   Package averaged_perceptron_tagger is already up-to-\n",
      "[nltk_data]       date!\n",
      "[nltk_data] Downloading package maxent_ne_chunker to C:\\Users\\Joe\n",
      "[nltk_data]     Z\\AppData\\Roaming\\nltk_data...\n",
      "[nltk_data]   Package maxent_ne_chunker is already up-to-date!\n",
      "[nltk_data] Downloading package words to C:\\Users\\Joe\n",
      "[nltk_data]     Z\\AppData\\Roaming\\nltk_data...\n",
      "[nltk_data]   Package words is already up-to-date!\n"
     ]
    },
    {
     "data": {
      "text/plain": [
       "True"
      ]
     },
     "execution_count": 2,
     "metadata": {},
     "output_type": "execute_result"
    }
   ],
   "source": [
    "import geograpy\n",
    "from geograpy import extraction\n",
    "from geograpy import places\n",
    "import nltk\n",
    "\n",
    "nltk.download('averaged_perceptron_tagger')\n",
    "nltk.download('maxent_ne_chunker')\n",
    "nltk.download('words')"
   ]
  },
  {
   "cell_type": "code",
   "execution_count": 57,
   "id": "1d5b367d",
   "metadata": {},
   "outputs": [
    {
     "name": "stdout",
     "output_type": "stream",
     "text": [
      "['India', 'United States of America']\n",
      "{'India': ['New Delhi'], 'United States of America': ['New Delhi']}\n"
     ]
    }
   ],
   "source": [
    "text = \"This was produced at a research institute in New Delhi\"\n",
    "places = geograpy.get_geoPlace_context(text=text)\n",
    "\n",
    "print(places.countries)\n",
    "print(places.country_cities)"
   ]
  },
  {
   "cell_type": "markdown",
   "id": "d40f0683",
   "metadata": {},
   "source": [
    "# geotext test"
   ]
  },
  {
   "cell_type": "code",
   "execution_count": null,
   "id": "d32cee78",
   "metadata": {},
   "outputs": [],
   "source": [
    "from geotext import GeoText"
   ]
  },
  {
   "cell_type": "code",
   "execution_count": 52,
   "id": "625e5a1f",
   "metadata": {},
   "outputs": [
    {
     "data": {
      "text/plain": [
       "['New Delhi']"
      ]
     },
     "execution_count": 52,
     "metadata": {},
     "output_type": "execute_result"
    }
   ],
   "source": [
    "places = GeoText(\"This was produced at a research institute in New Delhi\")\n",
    "places.cities"
   ]
  },
  {
   "cell_type": "code",
   "execution_count": 55,
   "id": "451fe5dd",
   "metadata": {},
   "outputs": [
    {
     "data": {
      "text/plain": [
       "OrderedDict([('US', 2), ('CN', 1)])"
      ]
     },
     "execution_count": 55,
     "metadata": {},
     "output_type": "execute_result"
    }
   ],
   "source": [
    "GeoText('New York, Texas, and also China').country_mentions"
   ]
  },
  {
   "cell_type": "markdown",
   "id": "d8fb6f32",
   "metadata": {},
   "source": [
    "# detect proper nouns"
   ]
  },
  {
   "cell_type": "code",
   "execution_count": 60,
   "id": "ea396631",
   "metadata": {},
   "outputs": [],
   "source": [
    "from nltk.tag import pos_tag\n",
    "from nltk.tokenize import word_tokenize\n",
    "from nltk.tokenize.treebank import TreebankWordTokenizer"
   ]
  },
  {
   "cell_type": "code",
   "execution_count": 61,
   "id": "c665553b",
   "metadata": {},
   "outputs": [],
   "source": [
    "text = \"I enjoyed the visit to Pisa where I visited Stephen at the AMIDA institute\""
   ]
  },
  {
   "cell_type": "code",
   "execution_count": 62,
   "id": "14f686fd",
   "metadata": {},
   "outputs": [
    {
     "name": "stdout",
     "output_type": "stream",
     "text": [
      "Pisa\n",
      "Stephen\n",
      "AMIDA\n"
     ]
    }
   ],
   "source": [
    "sent_detector = nltk.data.load('tokenizers/punkt/english.pickle')\n",
    "\n",
    "for sentence in sent_detector.tokenize(text):\n",
    "    tokenizedSentence = word_tokenize(sentence)\n",
    "    taggedSentence = pos_tag(tokenizedSentence)\n",
    "    start = True\n",
    "    currentCandidate = []\n",
    "\n",
    "    for word, pos in taggedSentence:\n",
    "        if start:\n",
    "            start = False\n",
    "            continue\n",
    "\n",
    "        if pos == 'NNP':\n",
    "            currentCandidate.append(word)\n",
    "            continue\n",
    "\n",
    "        if len(currentCandidate) > 0:\n",
    "            print(' '.join(currentCandidate))\n",
    "            currentCandidate = []\n",
    "\n",
    "    if len(currentCandidate) > 0:\n",
    "        print(' '.join(currentCandidate))"
   ]
  },
  {
   "cell_type": "code",
   "execution_count": null,
   "id": "2d5457cb",
   "metadata": {},
   "outputs": [],
   "source": []
  }
 ],
 "metadata": {
  "kernelspec": {
   "display_name": "Python 3",
   "language": "python",
   "name": "python3"
  },
  "language_info": {
   "codemirror_mode": {
    "name": "ipython",
    "version": 3
   },
   "file_extension": ".py",
   "mimetype": "text/x-python",
   "name": "python",
   "nbconvert_exporter": "python",
   "pygments_lexer": "ipython3",
   "version": "3.8.8"
  }
 },
 "nbformat": 4,
 "nbformat_minor": 5
}
